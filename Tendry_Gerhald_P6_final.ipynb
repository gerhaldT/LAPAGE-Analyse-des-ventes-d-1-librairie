{
 "cells": [
  {
   "cell_type": "markdown",
   "id": "de31982f",
   "metadata": {},
   "source": [
    "# <font color='white'><span style='background:darkcyan'> ***P6 : LAPAGE*** <span><br>"
   ]
  },
  {
   "cell_type": "code",
   "execution_count": 1,
   "id": "03c2ccac",
   "metadata": {},
   "outputs": [
    {
     "name": "stdout",
     "output_type": "stream",
     "text": [
      "Requirement already satisfied: pingouin in /Users/tiji/opt/anaconda3/lib/python3.9/site-packages (0.5.3)\n",
      "Requirement already satisfied: seaborn>=0.11 in /Users/tiji/opt/anaconda3/lib/python3.9/site-packages (from pingouin) (0.11.2)\n",
      "Requirement already satisfied: tabulate in /Users/tiji/opt/anaconda3/lib/python3.9/site-packages (from pingouin) (0.8.9)\n",
      "Requirement already satisfied: matplotlib>=3.0.2 in /Users/tiji/opt/anaconda3/lib/python3.9/site-packages (from pingouin) (3.5.1)\n",
      "Requirement already satisfied: outdated in /Users/tiji/opt/anaconda3/lib/python3.9/site-packages (from pingouin) (0.2.2)\n",
      "Requirement already satisfied: scikit-learn in /Users/tiji/opt/anaconda3/lib/python3.9/site-packages (from pingouin) (1.0.2)\n",
      "Requirement already satisfied: numpy>=1.19 in /Users/tiji/opt/anaconda3/lib/python3.9/site-packages (from pingouin) (1.21.5)\n",
      "Requirement already satisfied: pandas-flavor>=0.2.0 in /Users/tiji/opt/anaconda3/lib/python3.9/site-packages (from pingouin) (0.5.0)\n",
      "Requirement already satisfied: statsmodels>=0.13 in /Users/tiji/opt/anaconda3/lib/python3.9/site-packages (from pingouin) (0.13.2)\n",
      "Requirement already satisfied: pandas>=1.0 in /Users/tiji/opt/anaconda3/lib/python3.9/site-packages (from pingouin) (1.4.2)\n",
      "Requirement already satisfied: scipy>=1.7 in /Users/tiji/opt/anaconda3/lib/python3.9/site-packages (from pingouin) (1.7.3)\n",
      "Requirement already satisfied: pillow>=6.2.0 in /Users/tiji/opt/anaconda3/lib/python3.9/site-packages (from matplotlib>=3.0.2->pingouin) (9.0.1)\n",
      "Requirement already satisfied: kiwisolver>=1.0.1 in /Users/tiji/opt/anaconda3/lib/python3.9/site-packages (from matplotlib>=3.0.2->pingouin) (1.3.2)\n",
      "Requirement already satisfied: cycler>=0.10 in /Users/tiji/opt/anaconda3/lib/python3.9/site-packages (from matplotlib>=3.0.2->pingouin) (0.11.0)\n",
      "Requirement already satisfied: packaging>=20.0 in /Users/tiji/opt/anaconda3/lib/python3.9/site-packages (from matplotlib>=3.0.2->pingouin) (21.3)\n",
      "Requirement already satisfied: pyparsing>=2.2.1 in /Users/tiji/opt/anaconda3/lib/python3.9/site-packages (from matplotlib>=3.0.2->pingouin) (3.0.4)\n",
      "Requirement already satisfied: python-dateutil>=2.7 in /Users/tiji/opt/anaconda3/lib/python3.9/site-packages (from matplotlib>=3.0.2->pingouin) (2.8.2)\n",
      "Requirement already satisfied: fonttools>=4.22.0 in /Users/tiji/opt/anaconda3/lib/python3.9/site-packages (from matplotlib>=3.0.2->pingouin) (4.25.0)\n",
      "Requirement already satisfied: pytz>=2020.1 in /Users/tiji/opt/anaconda3/lib/python3.9/site-packages (from pandas>=1.0->pingouin) (2021.3)\n",
      "Requirement already satisfied: lazy-loader>=0.1 in /Users/tiji/opt/anaconda3/lib/python3.9/site-packages (from pandas-flavor>=0.2.0->pingouin) (0.1)\n",
      "Requirement already satisfied: xarray in /Users/tiji/opt/anaconda3/lib/python3.9/site-packages (from pandas-flavor>=0.2.0->pingouin) (0.20.1)\n",
      "Requirement already satisfied: six>=1.5 in /Users/tiji/opt/anaconda3/lib/python3.9/site-packages (from python-dateutil>=2.7->matplotlib>=3.0.2->pingouin) (1.16.0)\n",
      "Requirement already satisfied: patsy>=0.5.2 in /Users/tiji/opt/anaconda3/lib/python3.9/site-packages (from statsmodels>=0.13->pingouin) (0.5.2)\n",
      "Requirement already satisfied: requests in /Users/tiji/opt/anaconda3/lib/python3.9/site-packages (from outdated->pingouin) (2.27.1)\n",
      "Requirement already satisfied: setuptools>=44 in /Users/tiji/opt/anaconda3/lib/python3.9/site-packages (from outdated->pingouin) (61.2.0)\n",
      "Requirement already satisfied: littleutils in /Users/tiji/opt/anaconda3/lib/python3.9/site-packages (from outdated->pingouin) (0.2.2)\n",
      "Requirement already satisfied: idna<4,>=2.5 in /Users/tiji/opt/anaconda3/lib/python3.9/site-packages (from requests->outdated->pingouin) (3.3)\n",
      "Requirement already satisfied: charset-normalizer~=2.0.0 in /Users/tiji/opt/anaconda3/lib/python3.9/site-packages (from requests->outdated->pingouin) (2.0.4)\n",
      "Requirement already satisfied: urllib3<1.27,>=1.21.1 in /Users/tiji/opt/anaconda3/lib/python3.9/site-packages (from requests->outdated->pingouin) (1.26.9)\n",
      "Requirement already satisfied: certifi>=2017.4.17 in /Users/tiji/opt/anaconda3/lib/python3.9/site-packages (from requests->outdated->pingouin) (2021.10.8)\n",
      "Requirement already satisfied: joblib>=0.11 in /Users/tiji/opt/anaconda3/lib/python3.9/site-packages (from scikit-learn->pingouin) (1.1.0)\n",
      "Requirement already satisfied: threadpoolctl>=2.0.0 in /Users/tiji/opt/anaconda3/lib/python3.9/site-packages (from scikit-learn->pingouin) (2.2.0)\n"
     ]
    }
   ],
   "source": [
    "#installation librairie pingouin pour test anova\n",
    "!pip install pingouin"
   ]
  },
  {
   "cell_type": "code",
   "execution_count": 2,
   "id": "ef4d149a",
   "metadata": {},
   "outputs": [],
   "source": [
    "# Importation Librairies\n",
    "import datetime as dt\n",
    "import pandas as pd\n",
    "import numpy as np\n",
    "import scipy.stats as st\n",
    "import statsmodels.api as sm\n",
    "import matplotlib.pyplot as plt\n",
    "import seaborn as sns\n",
    "import pingouin as pg\n",
    "\n",
    "import warnings\n",
    "warnings.filterwarnings('ignore')"
   ]
  },
  {
   "cell_type": "code",
   "execution_count": 3,
   "id": "785290f2",
   "metadata": {},
   "outputs": [],
   "source": [
    "# Chargement des données\n",
    "cust = pd.read_csv('customers.csv')\n",
    "prod = pd.read_csv('products.csv')\n",
    "trans = pd.read_csv('transactions.csv')"
   ]
  },
  {
   "cell_type": "code",
   "execution_count": 4,
   "id": "fdb8b756",
   "metadata": {},
   "outputs": [],
   "source": [
    "# Classe couleur pour l'affichage\n",
    "class color:\n",
    "   PURPLE = '\\033[95m'\n",
    "   CYAN = '\\033[96m'\n",
    "   DARKCYAN = '\\033[36m'\n",
    "   BLUE = '\\033[94m'\n",
    "   GREEN = '\\033[92m'\n",
    "   YELLOW = '\\033[93m'\n",
    "   RED = '\\033[91m'\n",
    "   BOLD = '\\033[1m'\n",
    "   UNDERLINE = '\\033[4m'\n",
    "   END = '\\033[0m'"
   ]
  },
  {
   "cell_type": "markdown",
   "id": "e2e62774",
   "metadata": {},
   "source": [
    "## <font color='blue'>***Statistiques descriptives et nettoyages des données***"
   ]
  },
  {
   "cell_type": "markdown",
   "id": "4bfbdef8",
   "metadata": {},
   "source": [
    "> ### <font color='lateorange'>***a. Données customers***"
   ]
  },
  {
   "cell_type": "code",
   "execution_count": 5,
   "id": "89c21ae0",
   "metadata": {},
   "outputs": [
    {
     "data": {
      "text/html": [
       "<div>\n",
       "<style scoped>\n",
       "    .dataframe tbody tr th:only-of-type {\n",
       "        vertical-align: middle;\n",
       "    }\n",
       "\n",
       "    .dataframe tbody tr th {\n",
       "        vertical-align: top;\n",
       "    }\n",
       "\n",
       "    .dataframe thead th {\n",
       "        text-align: right;\n",
       "    }\n",
       "</style>\n",
       "<table border=\"1\" class=\"dataframe\">\n",
       "  <thead>\n",
       "    <tr style=\"text-align: right;\">\n",
       "      <th></th>\n",
       "      <th>client_id</th>\n",
       "      <th>sex</th>\n",
       "      <th>birth</th>\n",
       "    </tr>\n",
       "  </thead>\n",
       "  <tbody>\n",
       "    <tr>\n",
       "      <th>0</th>\n",
       "      <td>c_4410</td>\n",
       "      <td>f</td>\n",
       "      <td>1967</td>\n",
       "    </tr>\n",
       "    <tr>\n",
       "      <th>1</th>\n",
       "      <td>c_7839</td>\n",
       "      <td>f</td>\n",
       "      <td>1975</td>\n",
       "    </tr>\n",
       "    <tr>\n",
       "      <th>2</th>\n",
       "      <td>c_1699</td>\n",
       "      <td>f</td>\n",
       "      <td>1984</td>\n",
       "    </tr>\n",
       "    <tr>\n",
       "      <th>3</th>\n",
       "      <td>c_5961</td>\n",
       "      <td>f</td>\n",
       "      <td>1962</td>\n",
       "    </tr>\n",
       "    <tr>\n",
       "      <th>4</th>\n",
       "      <td>c_5320</td>\n",
       "      <td>m</td>\n",
       "      <td>1943</td>\n",
       "    </tr>\n",
       "  </tbody>\n",
       "</table>\n",
       "</div>"
      ],
      "text/plain": [
       "  client_id sex  birth\n",
       "0    c_4410   f   1967\n",
       "1    c_7839   f   1975\n",
       "2    c_1699   f   1984\n",
       "3    c_5961   f   1962\n",
       "4    c_5320   m   1943"
      ]
     },
     "execution_count": 5,
     "metadata": {},
     "output_type": "execute_result"
    }
   ],
   "source": [
    "# Aperçu \n",
    "cust.head()"
   ]
  },
  {
   "cell_type": "code",
   "execution_count": 6,
   "id": "72dd3d48",
   "metadata": {},
   "outputs": [
    {
     "name": "stdout",
     "output_type": "stream",
     "text": [
      "<class 'pandas.core.frame.DataFrame'>\n",
      "RangeIndex: 8623 entries, 0 to 8622\n",
      "Data columns (total 3 columns):\n",
      " #   Column     Non-Null Count  Dtype \n",
      "---  ------     --------------  ----- \n",
      " 0   client_id  8623 non-null   object\n",
      " 1   sex        8623 non-null   object\n",
      " 2   birth      8623 non-null   int64 \n",
      "dtypes: int64(1), object(2)\n",
      "memory usage: 202.2+ KB\n"
     ]
    }
   ],
   "source": [
    "# Valeurs nulls\n",
    "cust.info() # Pas de valeurs nulls"
   ]
  },
  {
   "cell_type": "code",
   "execution_count": 7,
   "id": "11205ad1",
   "metadata": {},
   "outputs": [
    {
     "data": {
      "text/html": [
       "<div>\n",
       "<style scoped>\n",
       "    .dataframe tbody tr th:only-of-type {\n",
       "        vertical-align: middle;\n",
       "    }\n",
       "\n",
       "    .dataframe tbody tr th {\n",
       "        vertical-align: top;\n",
       "    }\n",
       "\n",
       "    .dataframe thead th {\n",
       "        text-align: right;\n",
       "    }\n",
       "</style>\n",
       "<table border=\"1\" class=\"dataframe\">\n",
       "  <thead>\n",
       "    <tr style=\"text-align: right;\">\n",
       "      <th></th>\n",
       "      <th>birth</th>\n",
       "    </tr>\n",
       "  </thead>\n",
       "  <tbody>\n",
       "    <tr>\n",
       "      <th>count</th>\n",
       "      <td>8623.000000</td>\n",
       "    </tr>\n",
       "    <tr>\n",
       "      <th>mean</th>\n",
       "      <td>1978.280877</td>\n",
       "    </tr>\n",
       "    <tr>\n",
       "      <th>std</th>\n",
       "      <td>16.919535</td>\n",
       "    </tr>\n",
       "    <tr>\n",
       "      <th>min</th>\n",
       "      <td>1929.000000</td>\n",
       "    </tr>\n",
       "    <tr>\n",
       "      <th>25%</th>\n",
       "      <td>1966.000000</td>\n",
       "    </tr>\n",
       "    <tr>\n",
       "      <th>50%</th>\n",
       "      <td>1979.000000</td>\n",
       "    </tr>\n",
       "    <tr>\n",
       "      <th>75%</th>\n",
       "      <td>1992.000000</td>\n",
       "    </tr>\n",
       "    <tr>\n",
       "      <th>max</th>\n",
       "      <td>2004.000000</td>\n",
       "    </tr>\n",
       "  </tbody>\n",
       "</table>\n",
       "</div>"
      ],
      "text/plain": [
       "             birth\n",
       "count  8623.000000\n",
       "mean   1978.280877\n",
       "std      16.919535\n",
       "min    1929.000000\n",
       "25%    1966.000000\n",
       "50%    1979.000000\n",
       "75%    1992.000000\n",
       "max    2004.000000"
      ]
     },
     "execution_count": 7,
     "metadata": {},
     "output_type": "execute_result"
    }
   ],
   "source": [
    "# Outliers \n",
    "cust.describe() # RAS"
   ]
  },
  {
   "cell_type": "code",
   "execution_count": 8,
   "id": "03234152",
   "metadata": {},
   "outputs": [
    {
     "data": {
      "text/plain": [
       "0"
      ]
     },
     "execution_count": 8,
     "metadata": {},
     "output_type": "execute_result"
    }
   ],
   "source": [
    "# Tester l'unicité de la clé client_id\n",
    "cust.duplicated(subset=['client_id']).sum() # la clé est bien unique"
   ]
  },
  {
   "cell_type": "code",
   "execution_count": 9,
   "id": "2757182e",
   "metadata": {},
   "outputs": [
    {
     "data": {
      "text/html": [
       "<div>\n",
       "<style scoped>\n",
       "    .dataframe tbody tr th:only-of-type {\n",
       "        vertical-align: middle;\n",
       "    }\n",
       "\n",
       "    .dataframe tbody tr th {\n",
       "        vertical-align: top;\n",
       "    }\n",
       "\n",
       "    .dataframe thead th {\n",
       "        text-align: right;\n",
       "    }\n",
       "</style>\n",
       "<table border=\"1\" class=\"dataframe\">\n",
       "  <thead>\n",
       "    <tr style=\"text-align: right;\">\n",
       "      <th></th>\n",
       "      <th>client_id</th>\n",
       "      <th>sex</th>\n",
       "      <th>birth</th>\n",
       "      <th>age</th>\n",
       "    </tr>\n",
       "  </thead>\n",
       "  <tbody>\n",
       "    <tr>\n",
       "      <th>0</th>\n",
       "      <td>c_4410</td>\n",
       "      <td>f</td>\n",
       "      <td>1967</td>\n",
       "      <td>56</td>\n",
       "    </tr>\n",
       "    <tr>\n",
       "      <th>1</th>\n",
       "      <td>c_7839</td>\n",
       "      <td>f</td>\n",
       "      <td>1975</td>\n",
       "      <td>48</td>\n",
       "    </tr>\n",
       "    <tr>\n",
       "      <th>2</th>\n",
       "      <td>c_1699</td>\n",
       "      <td>f</td>\n",
       "      <td>1984</td>\n",
       "      <td>39</td>\n",
       "    </tr>\n",
       "    <tr>\n",
       "      <th>3</th>\n",
       "      <td>c_5961</td>\n",
       "      <td>f</td>\n",
       "      <td>1962</td>\n",
       "      <td>61</td>\n",
       "    </tr>\n",
       "    <tr>\n",
       "      <th>4</th>\n",
       "      <td>c_5320</td>\n",
       "      <td>m</td>\n",
       "      <td>1943</td>\n",
       "      <td>80</td>\n",
       "    </tr>\n",
       "  </tbody>\n",
       "</table>\n",
       "</div>"
      ],
      "text/plain": [
       "  client_id sex  birth  age\n",
       "0    c_4410   f   1967   56\n",
       "1    c_7839   f   1975   48\n",
       "2    c_1699   f   1984   39\n",
       "3    c_5961   f   1962   61\n",
       "4    c_5320   m   1943   80"
      ]
     },
     "execution_count": 9,
     "metadata": {},
     "output_type": "execute_result"
    }
   ],
   "source": [
    "# Créer une colonne âge pour chaque client\n",
    "cust['age'] = (2023 - cust['birth'])\n",
    "cust.head()"
   ]
  },
  {
   "cell_type": "code",
   "execution_count": 10,
   "id": "264a66fa",
   "metadata": {},
   "outputs": [
    {
     "data": {
      "text/plain": [
       "array([56, 48, 39, 61, 80, 30, 45, 52, 41, 78, 20, 64, 46, 69, 36, 23, 31,\n",
       "       60, 65, 29, 87, 37, 81, 53, 66, 55, 21, 19, 44, 49, 59, 72, 86, 42,\n",
       "       58, 63, 27, 40, 33, 68, 35, 32, 51, 43, 34, 47, 38, 70, 25, 67, 75,\n",
       "       50, 54, 85, 28, 71, 74, 24, 22, 84, 73, 57, 88, 82, 62, 26, 79, 94,\n",
       "       76, 77, 91, 92, 90, 93, 83, 89])"
      ]
     },
     "execution_count": 10,
     "metadata": {},
     "output_type": "execute_result"
    }
   ],
   "source": [
    "# Ages\n",
    "cust[\"age\"].unique()"
   ]
  },
  {
   "cell_type": "code",
   "execution_count": 11,
   "id": "2f7b16dc",
   "metadata": {},
   "outputs": [
    {
     "data": {
      "text/plain": [
       "19"
      ]
     },
     "execution_count": 11,
     "metadata": {},
     "output_type": "execute_result"
    }
   ],
   "source": [
    "# l'âge minimal\n",
    "cust[\"age\"].min()"
   ]
  },
  {
   "cell_type": "code",
   "execution_count": 12,
   "id": "1371d4c7",
   "metadata": {},
   "outputs": [
    {
     "data": {
      "text/html": [
       "<div>\n",
       "<style scoped>\n",
       "    .dataframe tbody tr th:only-of-type {\n",
       "        vertical-align: middle;\n",
       "    }\n",
       "\n",
       "    .dataframe tbody tr th {\n",
       "        vertical-align: top;\n",
       "    }\n",
       "\n",
       "    .dataframe thead th {\n",
       "        text-align: right;\n",
       "    }\n",
       "</style>\n",
       "<table border=\"1\" class=\"dataframe\">\n",
       "  <thead>\n",
       "    <tr style=\"text-align: right;\">\n",
       "      <th></th>\n",
       "      <th>client_id</th>\n",
       "      <th>sex</th>\n",
       "      <th>birth</th>\n",
       "      <th>age</th>\n",
       "    </tr>\n",
       "  </thead>\n",
       "  <tbody>\n",
       "    <tr>\n",
       "      <th>43</th>\n",
       "      <td>c_1046</td>\n",
       "      <td>m</td>\n",
       "      <td>2004</td>\n",
       "      <td>19</td>\n",
       "    </tr>\n",
       "    <tr>\n",
       "      <th>71</th>\n",
       "      <td>c_3081</td>\n",
       "      <td>m</td>\n",
       "      <td>2004</td>\n",
       "      <td>19</td>\n",
       "    </tr>\n",
       "    <tr>\n",
       "      <th>95</th>\n",
       "      <td>c_1418</td>\n",
       "      <td>f</td>\n",
       "      <td>2004</td>\n",
       "      <td>19</td>\n",
       "    </tr>\n",
       "    <tr>\n",
       "      <th>101</th>\n",
       "      <td>c_3338</td>\n",
       "      <td>m</td>\n",
       "      <td>2004</td>\n",
       "      <td>19</td>\n",
       "    </tr>\n",
       "    <tr>\n",
       "      <th>106</th>\n",
       "      <td>c_1774</td>\n",
       "      <td>f</td>\n",
       "      <td>2004</td>\n",
       "      <td>19</td>\n",
       "    </tr>\n",
       "    <tr>\n",
       "      <th>...</th>\n",
       "      <td>...</td>\n",
       "      <td>...</td>\n",
       "      <td>...</td>\n",
       "      <td>...</td>\n",
       "    </tr>\n",
       "    <tr>\n",
       "      <th>8584</th>\n",
       "      <td>c_461</td>\n",
       "      <td>f</td>\n",
       "      <td>2004</td>\n",
       "      <td>19</td>\n",
       "    </tr>\n",
       "    <tr>\n",
       "      <th>8594</th>\n",
       "      <td>c_294</td>\n",
       "      <td>m</td>\n",
       "      <td>2004</td>\n",
       "      <td>19</td>\n",
       "    </tr>\n",
       "    <tr>\n",
       "      <th>8598</th>\n",
       "      <td>c_5339</td>\n",
       "      <td>f</td>\n",
       "      <td>2004</td>\n",
       "      <td>19</td>\n",
       "    </tr>\n",
       "    <tr>\n",
       "      <th>8606</th>\n",
       "      <td>c_4077</td>\n",
       "      <td>m</td>\n",
       "      <td>2004</td>\n",
       "      <td>19</td>\n",
       "    </tr>\n",
       "    <tr>\n",
       "      <th>8615</th>\n",
       "      <td>c_2791</td>\n",
       "      <td>m</td>\n",
       "      <td>2004</td>\n",
       "      <td>19</td>\n",
       "    </tr>\n",
       "  </tbody>\n",
       "</table>\n",
       "<p>440 rows × 4 columns</p>\n",
       "</div>"
      ],
      "text/plain": [
       "     client_id sex  birth  age\n",
       "43      c_1046   m   2004   19\n",
       "71      c_3081   m   2004   19\n",
       "95      c_1418   f   2004   19\n",
       "101     c_3338   m   2004   19\n",
       "106     c_1774   f   2004   19\n",
       "...        ...  ..    ...  ...\n",
       "8584     c_461   f   2004   19\n",
       "8594     c_294   m   2004   19\n",
       "8598    c_5339   f   2004   19\n",
       "8606    c_4077   m   2004   19\n",
       "8615    c_2791   m   2004   19\n",
       "\n",
       "[440 rows x 4 columns]"
      ]
     },
     "execution_count": 12,
     "metadata": {},
     "output_type": "execute_result"
    }
   ],
   "source": [
    "# les Ages minimals (18 ans)\n",
    "cust[cust[\"age\"] == cust[\"age\"].min()]"
   ]
  },
  {
   "cell_type": "markdown",
   "id": "06ff410f",
   "metadata": {},
   "source": [
    "### <span style='font-family:serif'><font color='blue'> *Ici on peut conclure qu'il faut être majeur pour pouvoir faire un achat de livre.*<br>"
   ]
  },
  {
   "cell_type": "code",
   "execution_count": 13,
   "id": "3fef6476",
   "metadata": {},
   "outputs": [
    {
     "data": {
      "text/plain": [
       "94"
      ]
     },
     "execution_count": 13,
     "metadata": {},
     "output_type": "execute_result"
    }
   ],
   "source": [
    "# Age maximal\n",
    "cust[\"age\"].max()"
   ]
  },
  {
   "cell_type": "code",
   "execution_count": 14,
   "id": "c46028e4",
   "metadata": {},
   "outputs": [
    {
     "data": {
      "text/html": [
       "<div>\n",
       "<style scoped>\n",
       "    .dataframe tbody tr th:only-of-type {\n",
       "        vertical-align: middle;\n",
       "    }\n",
       "\n",
       "    .dataframe tbody tr th {\n",
       "        vertical-align: top;\n",
       "    }\n",
       "\n",
       "    .dataframe thead th {\n",
       "        text-align: right;\n",
       "    }\n",
       "</style>\n",
       "<table border=\"1\" class=\"dataframe\">\n",
       "  <thead>\n",
       "    <tr style=\"text-align: right;\">\n",
       "      <th></th>\n",
       "      <th>client_id</th>\n",
       "      <th>sex</th>\n",
       "      <th>birth</th>\n",
       "      <th>age</th>\n",
       "    </tr>\n",
       "  </thead>\n",
       "  <tbody>\n",
       "    <tr>\n",
       "      <th>418</th>\n",
       "      <td>c_5302</td>\n",
       "      <td>m</td>\n",
       "      <td>1929</td>\n",
       "      <td>94</td>\n",
       "    </tr>\n",
       "    <tr>\n",
       "      <th>2491</th>\n",
       "      <td>c_8362</td>\n",
       "      <td>f</td>\n",
       "      <td>1929</td>\n",
       "      <td>94</td>\n",
       "    </tr>\n",
       "    <tr>\n",
       "      <th>4569</th>\n",
       "      <td>c_577</td>\n",
       "      <td>m</td>\n",
       "      <td>1929</td>\n",
       "      <td>94</td>\n",
       "    </tr>\n",
       "  </tbody>\n",
       "</table>\n",
       "</div>"
      ],
      "text/plain": [
       "     client_id sex  birth  age\n",
       "418     c_5302   m   1929   94\n",
       "2491    c_8362   f   1929   94\n",
       "4569     c_577   m   1929   94"
      ]
     },
     "execution_count": 14,
     "metadata": {},
     "output_type": "execute_result"
    }
   ],
   "source": [
    "# les Ages maximals (93 ans)\n",
    "cust[cust[\"age\"] == cust[\"age\"].max()]"
   ]
  },
  {
   "cell_type": "code",
   "execution_count": 15,
   "id": "879b7a39",
   "metadata": {},
   "outputs": [
    {
     "data": {
      "text/plain": [
       "56.5"
      ]
     },
     "execution_count": 15,
     "metadata": {},
     "output_type": "execute_result"
    }
   ],
   "source": [
    "# Moyenne d'âge des clients\n",
    "cust[\"age\"].unique().mean()"
   ]
  },
  {
   "cell_type": "code",
   "execution_count": 16,
   "id": "c5f3f004",
   "metadata": {},
   "outputs": [
    {
     "data": {
      "text/plain": [
       "count    8623.000000\n",
       "mean       44.719123\n",
       "std        16.919535\n",
       "min        19.000000\n",
       "25%        31.000000\n",
       "50%        44.000000\n",
       "75%        57.000000\n",
       "max        94.000000\n",
       "Name: age, dtype: float64"
      ]
     },
     "execution_count": 16,
     "metadata": {},
     "output_type": "execute_result"
    }
   ],
   "source": [
    "# Description de l'âge\n",
    "cust[\"age\"].describe()"
   ]
  },
  {
   "cell_type": "markdown",
   "id": "cd4b8ec4",
   "metadata": {},
   "source": [
    "> ### <font color='lateorange'>***b. Données products***"
   ]
  },
  {
   "cell_type": "code",
   "execution_count": 17,
   "id": "299d0706",
   "metadata": {},
   "outputs": [
    {
     "data": {
      "text/html": [
       "<div>\n",
       "<style scoped>\n",
       "    .dataframe tbody tr th:only-of-type {\n",
       "        vertical-align: middle;\n",
       "    }\n",
       "\n",
       "    .dataframe tbody tr th {\n",
       "        vertical-align: top;\n",
       "    }\n",
       "\n",
       "    .dataframe thead th {\n",
       "        text-align: right;\n",
       "    }\n",
       "</style>\n",
       "<table border=\"1\" class=\"dataframe\">\n",
       "  <thead>\n",
       "    <tr style=\"text-align: right;\">\n",
       "      <th></th>\n",
       "      <th>id_prod</th>\n",
       "      <th>price</th>\n",
       "      <th>categ</th>\n",
       "    </tr>\n",
       "  </thead>\n",
       "  <tbody>\n",
       "    <tr>\n",
       "      <th>0</th>\n",
       "      <td>0_1421</td>\n",
       "      <td>19.99</td>\n",
       "      <td>0</td>\n",
       "    </tr>\n",
       "    <tr>\n",
       "      <th>1</th>\n",
       "      <td>0_1368</td>\n",
       "      <td>5.13</td>\n",
       "      <td>0</td>\n",
       "    </tr>\n",
       "    <tr>\n",
       "      <th>2</th>\n",
       "      <td>0_731</td>\n",
       "      <td>17.99</td>\n",
       "      <td>0</td>\n",
       "    </tr>\n",
       "    <tr>\n",
       "      <th>3</th>\n",
       "      <td>1_587</td>\n",
       "      <td>4.99</td>\n",
       "      <td>1</td>\n",
       "    </tr>\n",
       "    <tr>\n",
       "      <th>4</th>\n",
       "      <td>0_1507</td>\n",
       "      <td>3.99</td>\n",
       "      <td>0</td>\n",
       "    </tr>\n",
       "  </tbody>\n",
       "</table>\n",
       "</div>"
      ],
      "text/plain": [
       "  id_prod  price  categ\n",
       "0  0_1421  19.99      0\n",
       "1  0_1368   5.13      0\n",
       "2   0_731  17.99      0\n",
       "3   1_587   4.99      1\n",
       "4  0_1507   3.99      0"
      ]
     },
     "execution_count": 17,
     "metadata": {},
     "output_type": "execute_result"
    }
   ],
   "source": [
    "# Aperçu\n",
    "prod.head()"
   ]
  },
  {
   "cell_type": "code",
   "execution_count": 18,
   "id": "2fa91881",
   "metadata": {},
   "outputs": [
    {
     "name": "stdout",
     "output_type": "stream",
     "text": [
      "<class 'pandas.core.frame.DataFrame'>\n",
      "RangeIndex: 3287 entries, 0 to 3286\n",
      "Data columns (total 3 columns):\n",
      " #   Column   Non-Null Count  Dtype  \n",
      "---  ------   --------------  -----  \n",
      " 0   id_prod  3287 non-null   object \n",
      " 1   price    3287 non-null   float64\n",
      " 2   categ    3287 non-null   int64  \n",
      "dtypes: float64(1), int64(1), object(1)\n",
      "memory usage: 77.2+ KB\n"
     ]
    }
   ],
   "source": [
    "# Valeurs nulls\n",
    "prod.info() # Pas de valeurs nulls"
   ]
  },
  {
   "cell_type": "code",
   "execution_count": 19,
   "id": "f195b3ac",
   "metadata": {},
   "outputs": [
    {
     "data": {
      "text/html": [
       "<div>\n",
       "<style scoped>\n",
       "    .dataframe tbody tr th:only-of-type {\n",
       "        vertical-align: middle;\n",
       "    }\n",
       "\n",
       "    .dataframe tbody tr th {\n",
       "        vertical-align: top;\n",
       "    }\n",
       "\n",
       "    .dataframe thead th {\n",
       "        text-align: right;\n",
       "    }\n",
       "</style>\n",
       "<table border=\"1\" class=\"dataframe\">\n",
       "  <thead>\n",
       "    <tr style=\"text-align: right;\">\n",
       "      <th></th>\n",
       "      <th>price</th>\n",
       "      <th>categ</th>\n",
       "    </tr>\n",
       "  </thead>\n",
       "  <tbody>\n",
       "    <tr>\n",
       "      <th>count</th>\n",
       "      <td>3287.000000</td>\n",
       "      <td>3287.000000</td>\n",
       "    </tr>\n",
       "    <tr>\n",
       "      <th>mean</th>\n",
       "      <td>21.856641</td>\n",
       "      <td>0.370246</td>\n",
       "    </tr>\n",
       "    <tr>\n",
       "      <th>std</th>\n",
       "      <td>29.847908</td>\n",
       "      <td>0.615387</td>\n",
       "    </tr>\n",
       "    <tr>\n",
       "      <th>min</th>\n",
       "      <td>-1.000000</td>\n",
       "      <td>0.000000</td>\n",
       "    </tr>\n",
       "    <tr>\n",
       "      <th>25%</th>\n",
       "      <td>6.990000</td>\n",
       "      <td>0.000000</td>\n",
       "    </tr>\n",
       "    <tr>\n",
       "      <th>50%</th>\n",
       "      <td>13.060000</td>\n",
       "      <td>0.000000</td>\n",
       "    </tr>\n",
       "    <tr>\n",
       "      <th>75%</th>\n",
       "      <td>22.990000</td>\n",
       "      <td>1.000000</td>\n",
       "    </tr>\n",
       "    <tr>\n",
       "      <th>max</th>\n",
       "      <td>300.000000</td>\n",
       "      <td>2.000000</td>\n",
       "    </tr>\n",
       "  </tbody>\n",
       "</table>\n",
       "</div>"
      ],
      "text/plain": [
       "             price        categ\n",
       "count  3287.000000  3287.000000\n",
       "mean     21.856641     0.370246\n",
       "std      29.847908     0.615387\n",
       "min      -1.000000     0.000000\n",
       "25%       6.990000     0.000000\n",
       "50%      13.060000     0.000000\n",
       "75%      22.990000     1.000000\n",
       "max     300.000000     2.000000"
      ]
     },
     "execution_count": 19,
     "metadata": {},
     "output_type": "execute_result"
    }
   ],
   "source": [
    "# Outliers\n",
    "prod.describe()"
   ]
  },
  {
   "cell_type": "markdown",
   "id": "9ac7ab68",
   "metadata": {},
   "source": [
    "### <span style='font-family:serif'><font color='blue'> ***Ici la valeur <font color='red'> -1 <font color='blue'> dans 'price' est très suspecte. Nous allons donc approfondir sur ce point.***<br>"
   ]
  },
  {
   "cell_type": "code",
   "execution_count": 20,
   "id": "44833bdd",
   "metadata": {},
   "outputs": [
    {
     "data": {
      "text/html": [
       "<div>\n",
       "<style scoped>\n",
       "    .dataframe tbody tr th:only-of-type {\n",
       "        vertical-align: middle;\n",
       "    }\n",
       "\n",
       "    .dataframe tbody tr th {\n",
       "        vertical-align: top;\n",
       "    }\n",
       "\n",
       "    .dataframe thead th {\n",
       "        text-align: right;\n",
       "    }\n",
       "</style>\n",
       "<table border=\"1\" class=\"dataframe\">\n",
       "  <thead>\n",
       "    <tr style=\"text-align: right;\">\n",
       "      <th></th>\n",
       "      <th>id_prod</th>\n",
       "      <th>price</th>\n",
       "      <th>categ</th>\n",
       "    </tr>\n",
       "  </thead>\n",
       "  <tbody>\n",
       "    <tr>\n",
       "      <th>731</th>\n",
       "      <td>T_0</td>\n",
       "      <td>-1.0</td>\n",
       "      <td>0</td>\n",
       "    </tr>\n",
       "  </tbody>\n",
       "</table>\n",
       "</div>"
      ],
      "text/plain": [
       "    id_prod  price  categ\n",
       "731     T_0   -1.0      0"
      ]
     },
     "execution_count": 20,
     "metadata": {},
     "output_type": "execute_result"
    }
   ],
   "source": [
    "#  La ligne dont le price vaut -1\n",
    "prod_out = prod.loc[prod['price']<=0]\n",
    "prod_out"
   ]
  },
  {
   "cell_type": "code",
   "execution_count": 21,
   "id": "59493af6",
   "metadata": {},
   "outputs": [
    {
     "data": {
      "text/html": [
       "<div>\n",
       "<style scoped>\n",
       "    .dataframe tbody tr th:only-of-type {\n",
       "        vertical-align: middle;\n",
       "    }\n",
       "\n",
       "    .dataframe tbody tr th {\n",
       "        vertical-align: top;\n",
       "    }\n",
       "\n",
       "    .dataframe thead th {\n",
       "        text-align: right;\n",
       "    }\n",
       "</style>\n",
       "<table border=\"1\" class=\"dataframe\">\n",
       "  <thead>\n",
       "    <tr style=\"text-align: right;\">\n",
       "      <th></th>\n",
       "      <th>id_prod</th>\n",
       "      <th>price</th>\n",
       "      <th>categ</th>\n",
       "    </tr>\n",
       "  </thead>\n",
       "  <tbody>\n",
       "    <tr>\n",
       "      <th>731</th>\n",
       "      <td>T_0</td>\n",
       "      <td>-1.0</td>\n",
       "      <td>0</td>\n",
       "    </tr>\n",
       "  </tbody>\n",
       "</table>\n",
       "</div>"
      ],
      "text/plain": [
       "    id_prod  price  categ\n",
       "731     T_0   -1.0      0"
      ]
     },
     "execution_count": 21,
     "metadata": {},
     "output_type": "execute_result"
    }
   ],
   "source": [
    "# Affiche le produit T_0\n",
    "prod.loc[prod['id_prod']=='T_0',:]"
   ]
  },
  {
   "cell_type": "markdown",
   "id": "a0662089",
   "metadata": {},
   "source": [
    "### <span style='font-family:serif'><font color='blue'> *Ce qui nous donne l'id_prod : <font color='red'> T_0 <font color='blue'> et un livre de categ <font color='red'> 0 <font color='blue'> qui coûte <font color='red'> -1 €*<br>"
   ]
  },
  {
   "cell_type": "code",
   "execution_count": 22,
   "id": "e5404f43",
   "metadata": {},
   "outputs": [
    {
     "data": {
      "text/html": [
       "<div>\n",
       "<style scoped>\n",
       "    .dataframe tbody tr th:only-of-type {\n",
       "        vertical-align: middle;\n",
       "    }\n",
       "\n",
       "    .dataframe tbody tr th {\n",
       "        vertical-align: top;\n",
       "    }\n",
       "\n",
       "    .dataframe thead th {\n",
       "        text-align: right;\n",
       "    }\n",
       "</style>\n",
       "<table border=\"1\" class=\"dataframe\">\n",
       "  <thead>\n",
       "    <tr style=\"text-align: right;\">\n",
       "      <th></th>\n",
       "      <th>id_prod</th>\n",
       "      <th>price</th>\n",
       "      <th>categ</th>\n",
       "    </tr>\n",
       "  </thead>\n",
       "  <tbody>\n",
       "    <tr>\n",
       "      <th>0</th>\n",
       "      <td>0_1421</td>\n",
       "      <td>19.99</td>\n",
       "      <td>0</td>\n",
       "    </tr>\n",
       "    <tr>\n",
       "      <th>1</th>\n",
       "      <td>0_1368</td>\n",
       "      <td>5.13</td>\n",
       "      <td>0</td>\n",
       "    </tr>\n",
       "    <tr>\n",
       "      <th>2</th>\n",
       "      <td>0_731</td>\n",
       "      <td>17.99</td>\n",
       "      <td>0</td>\n",
       "    </tr>\n",
       "    <tr>\n",
       "      <th>3</th>\n",
       "      <td>1_587</td>\n",
       "      <td>4.99</td>\n",
       "      <td>1</td>\n",
       "    </tr>\n",
       "    <tr>\n",
       "      <th>4</th>\n",
       "      <td>0_1507</td>\n",
       "      <td>3.99</td>\n",
       "      <td>0</td>\n",
       "    </tr>\n",
       "    <tr>\n",
       "      <th>...</th>\n",
       "      <td>...</td>\n",
       "      <td>...</td>\n",
       "      <td>...</td>\n",
       "    </tr>\n",
       "    <tr>\n",
       "      <th>3282</th>\n",
       "      <td>2_23</td>\n",
       "      <td>115.99</td>\n",
       "      <td>2</td>\n",
       "    </tr>\n",
       "    <tr>\n",
       "      <th>3283</th>\n",
       "      <td>0_146</td>\n",
       "      <td>17.14</td>\n",
       "      <td>0</td>\n",
       "    </tr>\n",
       "    <tr>\n",
       "      <th>3284</th>\n",
       "      <td>0_802</td>\n",
       "      <td>11.22</td>\n",
       "      <td>0</td>\n",
       "    </tr>\n",
       "    <tr>\n",
       "      <th>3285</th>\n",
       "      <td>1_140</td>\n",
       "      <td>38.56</td>\n",
       "      <td>1</td>\n",
       "    </tr>\n",
       "    <tr>\n",
       "      <th>3286</th>\n",
       "      <td>0_1920</td>\n",
       "      <td>25.16</td>\n",
       "      <td>0</td>\n",
       "    </tr>\n",
       "  </tbody>\n",
       "</table>\n",
       "<p>3286 rows × 3 columns</p>\n",
       "</div>"
      ],
      "text/plain": [
       "     id_prod   price  categ\n",
       "0     0_1421   19.99      0\n",
       "1     0_1368    5.13      0\n",
       "2      0_731   17.99      0\n",
       "3      1_587    4.99      1\n",
       "4     0_1507    3.99      0\n",
       "...      ...     ...    ...\n",
       "3282    2_23  115.99      2\n",
       "3283   0_146   17.14      0\n",
       "3284   0_802   11.22      0\n",
       "3285   1_140   38.56      1\n",
       "3286  0_1920   25.16      0\n",
       "\n",
       "[3286 rows x 3 columns]"
      ]
     },
     "execution_count": 22,
     "metadata": {},
     "output_type": "execute_result"
    }
   ],
   "source": [
    "# Supprimer la ligne du produit T_0\n",
    "prod = prod.loc[prod['id_prod']!='T_0',:]\n",
    "prod"
   ]
  },
  {
   "cell_type": "markdown",
   "id": "52ff1e58",
   "metadata": {},
   "source": [
    "> ### <font color='lateorange'>***c. Données transactions***"
   ]
  },
  {
   "cell_type": "code",
   "execution_count": 23,
   "id": "e3bf3dd8",
   "metadata": {},
   "outputs": [
    {
     "data": {
      "text/html": [
       "<div>\n",
       "<style scoped>\n",
       "    .dataframe tbody tr th:only-of-type {\n",
       "        vertical-align: middle;\n",
       "    }\n",
       "\n",
       "    .dataframe tbody tr th {\n",
       "        vertical-align: top;\n",
       "    }\n",
       "\n",
       "    .dataframe thead th {\n",
       "        text-align: right;\n",
       "    }\n",
       "</style>\n",
       "<table border=\"1\" class=\"dataframe\">\n",
       "  <thead>\n",
       "    <tr style=\"text-align: right;\">\n",
       "      <th></th>\n",
       "      <th>id_prod</th>\n",
       "      <th>date</th>\n",
       "      <th>session_id</th>\n",
       "      <th>client_id</th>\n",
       "    </tr>\n",
       "  </thead>\n",
       "  <tbody>\n",
       "    <tr>\n",
       "      <th>0</th>\n",
       "      <td>0_1518</td>\n",
       "      <td>2022-05-20 13:21:29.043970</td>\n",
       "      <td>s_211425</td>\n",
       "      <td>c_103</td>\n",
       "    </tr>\n",
       "    <tr>\n",
       "      <th>1</th>\n",
       "      <td>1_251</td>\n",
       "      <td>2022-02-02 07:55:19.149409</td>\n",
       "      <td>s_158752</td>\n",
       "      <td>c_8534</td>\n",
       "    </tr>\n",
       "    <tr>\n",
       "      <th>2</th>\n",
       "      <td>0_1277</td>\n",
       "      <td>2022-06-18 15:44:33.155329</td>\n",
       "      <td>s_225667</td>\n",
       "      <td>c_6714</td>\n",
       "    </tr>\n",
       "    <tr>\n",
       "      <th>3</th>\n",
       "      <td>2_209</td>\n",
       "      <td>2021-06-24 04:19:29.835891</td>\n",
       "      <td>s_52962</td>\n",
       "      <td>c_6941</td>\n",
       "    </tr>\n",
       "    <tr>\n",
       "      <th>4</th>\n",
       "      <td>0_1509</td>\n",
       "      <td>2023-01-11 08:22:08.194479</td>\n",
       "      <td>s_325227</td>\n",
       "      <td>c_4232</td>\n",
       "    </tr>\n",
       "  </tbody>\n",
       "</table>\n",
       "</div>"
      ],
      "text/plain": [
       "  id_prod                        date session_id client_id\n",
       "0  0_1518  2022-05-20 13:21:29.043970   s_211425     c_103\n",
       "1   1_251  2022-02-02 07:55:19.149409   s_158752    c_8534\n",
       "2  0_1277  2022-06-18 15:44:33.155329   s_225667    c_6714\n",
       "3   2_209  2021-06-24 04:19:29.835891    s_52962    c_6941\n",
       "4  0_1509  2023-01-11 08:22:08.194479   s_325227    c_4232"
      ]
     },
     "execution_count": 23,
     "metadata": {},
     "output_type": "execute_result"
    }
   ],
   "source": [
    "# Aperçu du df\n",
    "trans.head()"
   ]
  },
  {
   "cell_type": "code",
   "execution_count": 24,
   "id": "a90519ba",
   "metadata": {},
   "outputs": [
    {
     "name": "stdout",
     "output_type": "stream",
     "text": [
      "<class 'pandas.core.frame.DataFrame'>\n",
      "RangeIndex: 679532 entries, 0 to 679531\n",
      "Data columns (total 4 columns):\n",
      " #   Column      Non-Null Count   Dtype \n",
      "---  ------      --------------   ----- \n",
      " 0   id_prod     679532 non-null  object\n",
      " 1   date        679532 non-null  object\n",
      " 2   session_id  679532 non-null  object\n",
      " 3   client_id   679532 non-null  object\n",
      "dtypes: object(4)\n",
      "memory usage: 20.7+ MB\n"
     ]
    }
   ],
   "source": [
    "# Le type des variables\n",
    "trans.info()"
   ]
  },
  {
   "cell_type": "code",
   "execution_count": 25,
   "id": "38801305",
   "metadata": {},
   "outputs": [],
   "source": [
    "# changer le format de la date\n",
    "#trans['date'] = pd.to_datetime(trans['date'].unique())"
   ]
  },
  {
   "cell_type": "markdown",
   "id": "4ff0a25e",
   "metadata": {},
   "source": [
    "### <span style='font-family:serif'><font color='blue'> ***Ici le type de la variable \"date\" est <font color='red'>'object'<font color='blue'>. En essayant de le changer en <font color='red'>'datetime'<font color='blue'>, on remarque (dans l'erreur) que certaines lignes de la colonne \"date\" prennent un autre format : <font color='green'>\"test_\"<font color='blue'>.*** <br>"
   ]
  },
  {
   "cell_type": "code",
   "execution_count": 26,
   "id": "2599aef4",
   "metadata": {},
   "outputs": [
    {
     "data": {
      "text/html": [
       "<div>\n",
       "<style scoped>\n",
       "    .dataframe tbody tr th:only-of-type {\n",
       "        vertical-align: middle;\n",
       "    }\n",
       "\n",
       "    .dataframe tbody tr th {\n",
       "        vertical-align: top;\n",
       "    }\n",
       "\n",
       "    .dataframe thead th {\n",
       "        text-align: right;\n",
       "    }\n",
       "</style>\n",
       "<table border=\"1\" class=\"dataframe\">\n",
       "  <thead>\n",
       "    <tr style=\"text-align: right;\">\n",
       "      <th></th>\n",
       "      <th>id_prod</th>\n",
       "      <th>date</th>\n",
       "      <th>session_id</th>\n",
       "      <th>client_id</th>\n",
       "    </tr>\n",
       "  </thead>\n",
       "  <tbody>\n",
       "    <tr>\n",
       "      <th>3019</th>\n",
       "      <td>T_0</td>\n",
       "      <td>test_2021-03-01 02:30:02.237419</td>\n",
       "      <td>s_0</td>\n",
       "      <td>ct_0</td>\n",
       "    </tr>\n",
       "    <tr>\n",
       "      <th>52424</th>\n",
       "      <td>T_0</td>\n",
       "      <td>test_2021-03-01 02:30:02.237419</td>\n",
       "      <td>s_0</td>\n",
       "      <td>ct_0</td>\n",
       "    </tr>\n",
       "    <tr>\n",
       "      <th>130188</th>\n",
       "      <td>T_0</td>\n",
       "      <td>test_2021-03-01 02:30:02.237419</td>\n",
       "      <td>s_0</td>\n",
       "      <td>ct_0</td>\n",
       "    </tr>\n",
       "    <tr>\n",
       "      <th>168341</th>\n",
       "      <td>T_0</td>\n",
       "      <td>test_2021-03-01 02:30:02.237419</td>\n",
       "      <td>s_0</td>\n",
       "      <td>ct_0</td>\n",
       "    </tr>\n",
       "    <tr>\n",
       "      <th>185962</th>\n",
       "      <td>T_0</td>\n",
       "      <td>test_2021-03-01 02:30:02.237419</td>\n",
       "      <td>s_0</td>\n",
       "      <td>ct_1</td>\n",
       "    </tr>\n",
       "    <tr>\n",
       "      <th>311604</th>\n",
       "      <td>T_0</td>\n",
       "      <td>test_2021-03-01 02:30:02.237419</td>\n",
       "      <td>s_0</td>\n",
       "      <td>ct_1</td>\n",
       "    </tr>\n",
       "  </tbody>\n",
       "</table>\n",
       "</div>"
      ],
      "text/plain": [
       "       id_prod                             date session_id client_id\n",
       "3019       T_0  test_2021-03-01 02:30:02.237419        s_0      ct_0\n",
       "52424      T_0  test_2021-03-01 02:30:02.237419        s_0      ct_0\n",
       "130188     T_0  test_2021-03-01 02:30:02.237419        s_0      ct_0\n",
       "168341     T_0  test_2021-03-01 02:30:02.237419        s_0      ct_0\n",
       "185962     T_0  test_2021-03-01 02:30:02.237419        s_0      ct_1\n",
       "311604     T_0  test_2021-03-01 02:30:02.237419        s_0      ct_1"
      ]
     },
     "execution_count": 26,
     "metadata": {},
     "output_type": "execute_result"
    }
   ],
   "source": [
    "# Aperçu des lignes ayant une date qui ne suit pas la norme (avec test_* d'après l'erreur) \n",
    "trans_test = trans.loc[trans['date']=='test_2021-03-01 02:30:02.237419']\n",
    "trans_test"
   ]
  },
  {
   "cell_type": "markdown",
   "id": "965d9dcf",
   "metadata": {},
   "source": [
    "### <span style='font-family:serif'><font color='blue'> ***On peut vérifier et conclure que toutes les produits <font color='red'>T_0 <font color='blue'>avec des session_id <font color='red'> s_0 <font color='blue'> et un client_id <font color='red'> ct_0 <font color='blue'> sont tous des <font color='darkcyan'> tests <font color='blue'> et ont des dates sous format <font color='red'> test_...***<br>"
   ]
  },
  {
   "cell_type": "code",
   "execution_count": 27,
   "id": "ecc2a7b4",
   "metadata": {},
   "outputs": [
    {
     "data": {
      "text/html": [
       "<div>\n",
       "<style scoped>\n",
       "    .dataframe tbody tr th:only-of-type {\n",
       "        vertical-align: middle;\n",
       "    }\n",
       "\n",
       "    .dataframe tbody tr th {\n",
       "        vertical-align: top;\n",
       "    }\n",
       "\n",
       "    .dataframe thead th {\n",
       "        text-align: right;\n",
       "    }\n",
       "</style>\n",
       "<table border=\"1\" class=\"dataframe\">\n",
       "  <thead>\n",
       "    <tr style=\"text-align: right;\">\n",
       "      <th></th>\n",
       "      <th>id_prod</th>\n",
       "      <th>date</th>\n",
       "      <th>session_id</th>\n",
       "      <th>client_id</th>\n",
       "    </tr>\n",
       "  </thead>\n",
       "  <tbody>\n",
       "    <tr>\n",
       "      <th>3019</th>\n",
       "      <td>T_0</td>\n",
       "      <td>test_2021-03-01 02:30:02.237419</td>\n",
       "      <td>s_0</td>\n",
       "      <td>ct_0</td>\n",
       "    </tr>\n",
       "    <tr>\n",
       "      <th>5138</th>\n",
       "      <td>T_0</td>\n",
       "      <td>test_2021-03-01 02:30:02.237425</td>\n",
       "      <td>s_0</td>\n",
       "      <td>ct_0</td>\n",
       "    </tr>\n",
       "    <tr>\n",
       "      <th>9668</th>\n",
       "      <td>T_0</td>\n",
       "      <td>test_2021-03-01 02:30:02.237437</td>\n",
       "      <td>s_0</td>\n",
       "      <td>ct_1</td>\n",
       "    </tr>\n",
       "    <tr>\n",
       "      <th>10728</th>\n",
       "      <td>T_0</td>\n",
       "      <td>test_2021-03-01 02:30:02.237436</td>\n",
       "      <td>s_0</td>\n",
       "      <td>ct_0</td>\n",
       "    </tr>\n",
       "    <tr>\n",
       "      <th>15292</th>\n",
       "      <td>T_0</td>\n",
       "      <td>test_2021-03-01 02:30:02.237430</td>\n",
       "      <td>s_0</td>\n",
       "      <td>ct_0</td>\n",
       "    </tr>\n",
       "    <tr>\n",
       "      <th>...</th>\n",
       "      <td>...</td>\n",
       "      <td>...</td>\n",
       "      <td>...</td>\n",
       "      <td>...</td>\n",
       "    </tr>\n",
       "    <tr>\n",
       "      <th>657830</th>\n",
       "      <td>T_0</td>\n",
       "      <td>test_2021-03-01 02:30:02.237417</td>\n",
       "      <td>s_0</td>\n",
       "      <td>ct_0</td>\n",
       "    </tr>\n",
       "    <tr>\n",
       "      <th>662081</th>\n",
       "      <td>T_0</td>\n",
       "      <td>test_2021-03-01 02:30:02.237427</td>\n",
       "      <td>s_0</td>\n",
       "      <td>ct_1</td>\n",
       "    </tr>\n",
       "    <tr>\n",
       "      <th>670680</th>\n",
       "      <td>T_0</td>\n",
       "      <td>test_2021-03-01 02:30:02.237449</td>\n",
       "      <td>s_0</td>\n",
       "      <td>ct_1</td>\n",
       "    </tr>\n",
       "    <tr>\n",
       "      <th>671647</th>\n",
       "      <td>T_0</td>\n",
       "      <td>test_2021-03-01 02:30:02.237424</td>\n",
       "      <td>s_0</td>\n",
       "      <td>ct_1</td>\n",
       "    </tr>\n",
       "    <tr>\n",
       "      <th>679180</th>\n",
       "      <td>T_0</td>\n",
       "      <td>test_2021-03-01 02:30:02.237425</td>\n",
       "      <td>s_0</td>\n",
       "      <td>ct_1</td>\n",
       "    </tr>\n",
       "  </tbody>\n",
       "</table>\n",
       "<p>200 rows × 4 columns</p>\n",
       "</div>"
      ],
      "text/plain": [
       "       id_prod                             date session_id client_id\n",
       "3019       T_0  test_2021-03-01 02:30:02.237419        s_0      ct_0\n",
       "5138       T_0  test_2021-03-01 02:30:02.237425        s_0      ct_0\n",
       "9668       T_0  test_2021-03-01 02:30:02.237437        s_0      ct_1\n",
       "10728      T_0  test_2021-03-01 02:30:02.237436        s_0      ct_0\n",
       "15292      T_0  test_2021-03-01 02:30:02.237430        s_0      ct_0\n",
       "...        ...                              ...        ...       ...\n",
       "657830     T_0  test_2021-03-01 02:30:02.237417        s_0      ct_0\n",
       "662081     T_0  test_2021-03-01 02:30:02.237427        s_0      ct_1\n",
       "670680     T_0  test_2021-03-01 02:30:02.237449        s_0      ct_1\n",
       "671647     T_0  test_2021-03-01 02:30:02.237424        s_0      ct_1\n",
       "679180     T_0  test_2021-03-01 02:30:02.237425        s_0      ct_1\n",
       "\n",
       "[200 rows x 4 columns]"
      ]
     },
     "execution_count": 27,
     "metadata": {},
     "output_type": "execute_result"
    }
   ],
   "source": [
    "# Afficher tout les achats des produits T_0\n",
    "trans.loc[trans['id_prod']=='T_0',:] # Ils correspondent aux dates tests"
   ]
  },
  {
   "cell_type": "code",
   "execution_count": 28,
   "id": "04918840",
   "metadata": {},
   "outputs": [
    {
     "data": {
      "text/html": [
       "<div>\n",
       "<style scoped>\n",
       "    .dataframe tbody tr th:only-of-type {\n",
       "        vertical-align: middle;\n",
       "    }\n",
       "\n",
       "    .dataframe tbody tr th {\n",
       "        vertical-align: top;\n",
       "    }\n",
       "\n",
       "    .dataframe thead th {\n",
       "        text-align: right;\n",
       "    }\n",
       "</style>\n",
       "<table border=\"1\" class=\"dataframe\">\n",
       "  <thead>\n",
       "    <tr style=\"text-align: right;\">\n",
       "      <th></th>\n",
       "      <th>id_prod</th>\n",
       "      <th>date</th>\n",
       "      <th>session_id</th>\n",
       "      <th>client_id</th>\n",
       "    </tr>\n",
       "  </thead>\n",
       "  <tbody>\n",
       "    <tr>\n",
       "      <th>0</th>\n",
       "      <td>0_1518</td>\n",
       "      <td>2022-05-20 13:21:29.043970</td>\n",
       "      <td>s_211425</td>\n",
       "      <td>c_103</td>\n",
       "    </tr>\n",
       "    <tr>\n",
       "      <th>1</th>\n",
       "      <td>1_251</td>\n",
       "      <td>2022-02-02 07:55:19.149409</td>\n",
       "      <td>s_158752</td>\n",
       "      <td>c_8534</td>\n",
       "    </tr>\n",
       "    <tr>\n",
       "      <th>2</th>\n",
       "      <td>0_1277</td>\n",
       "      <td>2022-06-18 15:44:33.155329</td>\n",
       "      <td>s_225667</td>\n",
       "      <td>c_6714</td>\n",
       "    </tr>\n",
       "    <tr>\n",
       "      <th>3</th>\n",
       "      <td>2_209</td>\n",
       "      <td>2021-06-24 04:19:29.835891</td>\n",
       "      <td>s_52962</td>\n",
       "      <td>c_6941</td>\n",
       "    </tr>\n",
       "    <tr>\n",
       "      <th>4</th>\n",
       "      <td>0_1509</td>\n",
       "      <td>2023-01-11 08:22:08.194479</td>\n",
       "      <td>s_325227</td>\n",
       "      <td>c_4232</td>\n",
       "    </tr>\n",
       "    <tr>\n",
       "      <th>...</th>\n",
       "      <td>...</td>\n",
       "      <td>...</td>\n",
       "      <td>...</td>\n",
       "      <td>...</td>\n",
       "    </tr>\n",
       "    <tr>\n",
       "      <th>679527</th>\n",
       "      <td>0_1551</td>\n",
       "      <td>2022-01-15 13:05:06.246925</td>\n",
       "      <td>s_150195</td>\n",
       "      <td>c_8489</td>\n",
       "    </tr>\n",
       "    <tr>\n",
       "      <th>679528</th>\n",
       "      <td>1_639</td>\n",
       "      <td>2022-03-19 16:03:23.429229</td>\n",
       "      <td>s_181434</td>\n",
       "      <td>c_4370</td>\n",
       "    </tr>\n",
       "    <tr>\n",
       "      <th>679529</th>\n",
       "      <td>0_1425</td>\n",
       "      <td>2022-12-20 04:33:37.584749</td>\n",
       "      <td>s_314704</td>\n",
       "      <td>c_304</td>\n",
       "    </tr>\n",
       "    <tr>\n",
       "      <th>679530</th>\n",
       "      <td>0_1994</td>\n",
       "      <td>2021-07-16 20:36:35.350579</td>\n",
       "      <td>s_63204</td>\n",
       "      <td>c_2227</td>\n",
       "    </tr>\n",
       "    <tr>\n",
       "      <th>679531</th>\n",
       "      <td>1_523</td>\n",
       "      <td>2022-09-28 01:12:01.973763</td>\n",
       "      <td>s_274568</td>\n",
       "      <td>c_3873</td>\n",
       "    </tr>\n",
       "  </tbody>\n",
       "</table>\n",
       "<p>679332 rows × 4 columns</p>\n",
       "</div>"
      ],
      "text/plain": [
       "       id_prod                        date session_id client_id\n",
       "0       0_1518  2022-05-20 13:21:29.043970   s_211425     c_103\n",
       "1        1_251  2022-02-02 07:55:19.149409   s_158752    c_8534\n",
       "2       0_1277  2022-06-18 15:44:33.155329   s_225667    c_6714\n",
       "3        2_209  2021-06-24 04:19:29.835891    s_52962    c_6941\n",
       "4       0_1509  2023-01-11 08:22:08.194479   s_325227    c_4232\n",
       "...        ...                         ...        ...       ...\n",
       "679527  0_1551  2022-01-15 13:05:06.246925   s_150195    c_8489\n",
       "679528   1_639  2022-03-19 16:03:23.429229   s_181434    c_4370\n",
       "679529  0_1425  2022-12-20 04:33:37.584749   s_314704     c_304\n",
       "679530  0_1994  2021-07-16 20:36:35.350579    s_63204    c_2227\n",
       "679531   1_523  2022-09-28 01:12:01.973763   s_274568    c_3873\n",
       "\n",
       "[679332 rows x 4 columns]"
      ]
     },
     "execution_count": 28,
     "metadata": {},
     "output_type": "execute_result"
    }
   ],
   "source": [
    "# Supprimer les lignes test (T_0)\n",
    "trans = trans.loc[trans['id_prod']!='T_0',:]\n",
    "trans"
   ]
  },
  {
   "cell_type": "code",
   "execution_count": 29,
   "id": "2551e3fe",
   "metadata": {},
   "outputs": [],
   "source": [
    "# Format de \"date\" en datetime\n",
    "trans['date'] = pd.to_datetime(trans['date'])"
   ]
  },
  {
   "cell_type": "code",
   "execution_count": 30,
   "id": "94283aab",
   "metadata": {},
   "outputs": [],
   "source": [
    "# Outliers\n",
    "#trans.info()"
   ]
  },
  {
   "cell_type": "markdown",
   "id": "871e766f",
   "metadata": {},
   "source": [
    "***\n",
    "***"
   ]
  },
  {
   "cell_type": "markdown",
   "id": "23316b8d",
   "metadata": {},
   "source": [
    "## <font color='blue'>***Fusions des données***<br>"
   ]
  },
  {
   "cell_type": "code",
   "execution_count": 31,
   "id": "2852b83c",
   "metadata": {},
   "outputs": [],
   "source": [
    "#cust.head()\n",
    "#prod.head()\n",
    "#trans.head()"
   ]
  },
  {
   "cell_type": "code",
   "execution_count": 32,
   "id": "b36537c9",
   "metadata": {},
   "outputs": [],
   "source": [
    "# Fonction qui teste la validation d'une colonne en tant que clé primaire\n",
    "def testerCle(df, colonnes):\n",
    "    \"\"\"Fonction qui prend en arguments un dataframe et les colonnes qui composent la clé primaire à tester.\"\"\"\n",
    "\n",
    "    # On compare la taille du dataframe avant et après dédoublonnage \n",
    "    if df.size == df.drop_duplicates(colonnes).size :\n",
    "        print(color.BOLD + color.BLUE + \"La clé n'est pas présente plusieurs fois dans le dataframe.\")\n",
    "        print(color.BOLD + color.GREEN + \"Elle peut donc être utilisée comme clé primaire.\".format(colonnes))\n",
    "    else :\n",
    "        print(color.BOLD + color.BLUE + \"La clé est présente plusieurs fois dans le dataframe.\")\n",
    "        print(color.BOLD + color.RED + \"Elle ne peut donc pas être utilisée comme clé primaire.\".format(colonnes))\n",
    "    \n",
    "    # On renvoie également le comptage\n",
    "    print(color.BOLD + color.BLUE + \"Le dataframe est de la forme : \" + str(df.shape) + \" (lignes, colonnes)\")"
   ]
  },
  {
   "cell_type": "code",
   "execution_count": 33,
   "id": "b6a24ed3",
   "metadata": {},
   "outputs": [
    {
     "name": "stdout",
     "output_type": "stream",
     "text": [
      "\u001b[1m\u001b[94mLa clé n'est pas présente plusieurs fois dans le dataframe.\n",
      "\u001b[1m\u001b[92mElle peut donc être utilisée comme clé primaire.\n",
      "\u001b[1m\u001b[94mLe dataframe est de la forme : (3286, 3) (lignes, colonnes)\n"
     ]
    }
   ],
   "source": [
    "#verification clé produit\n",
    "testerCle(prod,'id_prod')"
   ]
  },
  {
   "cell_type": "code",
   "execution_count": 34,
   "id": "47e4fc5e",
   "metadata": {},
   "outputs": [
    {
     "name": "stdout",
     "output_type": "stream",
     "text": [
      "\u001b[1m\u001b[94mLa clé n'est pas présente plusieurs fois dans le dataframe.\n",
      "\u001b[1m\u001b[92mElle peut donc être utilisée comme clé primaire.\n",
      "\u001b[1m\u001b[94mLe dataframe est de la forme : (8623, 4) (lignes, colonnes)\n"
     ]
    }
   ],
   "source": [
    "#verification clé client\n",
    "testerCle(cust,'client_id')"
   ]
  },
  {
   "cell_type": "code",
   "execution_count": 35,
   "id": "6ca6fed1",
   "metadata": {},
   "outputs": [
    {
     "data": {
      "text/html": [
       "<div>\n",
       "<style scoped>\n",
       "    .dataframe tbody tr th:only-of-type {\n",
       "        vertical-align: middle;\n",
       "    }\n",
       "\n",
       "    .dataframe tbody tr th {\n",
       "        vertical-align: top;\n",
       "    }\n",
       "\n",
       "    .dataframe thead th {\n",
       "        text-align: right;\n",
       "    }\n",
       "</style>\n",
       "<table border=\"1\" class=\"dataframe\">\n",
       "  <thead>\n",
       "    <tr style=\"text-align: right;\">\n",
       "      <th></th>\n",
       "      <th>id_prod</th>\n",
       "      <th>date</th>\n",
       "      <th>session_id</th>\n",
       "      <th>client_id</th>\n",
       "      <th>price</th>\n",
       "      <th>categ</th>\n",
       "    </tr>\n",
       "  </thead>\n",
       "  <tbody>\n",
       "    <tr>\n",
       "      <th>0</th>\n",
       "      <td>0_1518</td>\n",
       "      <td>2022-05-20 13:21:29.043970</td>\n",
       "      <td>s_211425</td>\n",
       "      <td>c_103</td>\n",
       "      <td>4.18</td>\n",
       "      <td>0.0</td>\n",
       "    </tr>\n",
       "    <tr>\n",
       "      <th>1</th>\n",
       "      <td>1_251</td>\n",
       "      <td>2022-02-02 07:55:19.149409</td>\n",
       "      <td>s_158752</td>\n",
       "      <td>c_8534</td>\n",
       "      <td>15.99</td>\n",
       "      <td>1.0</td>\n",
       "    </tr>\n",
       "    <tr>\n",
       "      <th>2</th>\n",
       "      <td>0_1277</td>\n",
       "      <td>2022-06-18 15:44:33.155329</td>\n",
       "      <td>s_225667</td>\n",
       "      <td>c_6714</td>\n",
       "      <td>7.99</td>\n",
       "      <td>0.0</td>\n",
       "    </tr>\n",
       "    <tr>\n",
       "      <th>3</th>\n",
       "      <td>2_209</td>\n",
       "      <td>2021-06-24 04:19:29.835891</td>\n",
       "      <td>s_52962</td>\n",
       "      <td>c_6941</td>\n",
       "      <td>69.99</td>\n",
       "      <td>2.0</td>\n",
       "    </tr>\n",
       "    <tr>\n",
       "      <th>4</th>\n",
       "      <td>0_1509</td>\n",
       "      <td>2023-01-11 08:22:08.194479</td>\n",
       "      <td>s_325227</td>\n",
       "      <td>c_4232</td>\n",
       "      <td>4.99</td>\n",
       "      <td>0.0</td>\n",
       "    </tr>\n",
       "  </tbody>\n",
       "</table>\n",
       "</div>"
      ],
      "text/plain": [
       "  id_prod                       date session_id client_id  price  categ\n",
       "0  0_1518 2022-05-20 13:21:29.043970   s_211425     c_103   4.18    0.0\n",
       "1   1_251 2022-02-02 07:55:19.149409   s_158752    c_8534  15.99    1.0\n",
       "2  0_1277 2022-06-18 15:44:33.155329   s_225667    c_6714   7.99    0.0\n",
       "3   2_209 2021-06-24 04:19:29.835891    s_52962    c_6941  69.99    2.0\n",
       "4  0_1509 2023-01-11 08:22:08.194479   s_325227    c_4232   4.99    0.0"
      ]
     },
     "execution_count": 35,
     "metadata": {},
     "output_type": "execute_result"
    }
   ],
   "source": [
    "# Liaison entre transactions et productions\n",
    "trans_prod = pd.merge(trans, prod,  on='id_prod', how='left')\n",
    "trans_prod.head()"
   ]
  },
  {
   "cell_type": "code",
   "execution_count": 36,
   "id": "4bd65e95",
   "metadata": {},
   "outputs": [
    {
     "data": {
      "text/html": [
       "<div>\n",
       "<style scoped>\n",
       "    .dataframe tbody tr th:only-of-type {\n",
       "        vertical-align: middle;\n",
       "    }\n",
       "\n",
       "    .dataframe tbody tr th {\n",
       "        vertical-align: top;\n",
       "    }\n",
       "\n",
       "    .dataframe thead th {\n",
       "        text-align: right;\n",
       "    }\n",
       "</style>\n",
       "<table border=\"1\" class=\"dataframe\">\n",
       "  <thead>\n",
       "    <tr style=\"text-align: right;\">\n",
       "      <th></th>\n",
       "      <th>id_prod</th>\n",
       "      <th>date</th>\n",
       "      <th>session_id</th>\n",
       "      <th>client_id</th>\n",
       "      <th>price</th>\n",
       "      <th>categ</th>\n",
       "      <th>sex</th>\n",
       "      <th>birth</th>\n",
       "      <th>age</th>\n",
       "    </tr>\n",
       "  </thead>\n",
       "  <tbody>\n",
       "    <tr>\n",
       "      <th>0</th>\n",
       "      <td>0_1518</td>\n",
       "      <td>2022-05-20 13:21:29.043970</td>\n",
       "      <td>s_211425</td>\n",
       "      <td>c_103</td>\n",
       "      <td>4.18</td>\n",
       "      <td>0.0</td>\n",
       "      <td>f</td>\n",
       "      <td>1986</td>\n",
       "      <td>37</td>\n",
       "    </tr>\n",
       "    <tr>\n",
       "      <th>1</th>\n",
       "      <td>1_251</td>\n",
       "      <td>2022-02-02 07:55:19.149409</td>\n",
       "      <td>s_158752</td>\n",
       "      <td>c_8534</td>\n",
       "      <td>15.99</td>\n",
       "      <td>1.0</td>\n",
       "      <td>m</td>\n",
       "      <td>1988</td>\n",
       "      <td>35</td>\n",
       "    </tr>\n",
       "    <tr>\n",
       "      <th>2</th>\n",
       "      <td>0_1277</td>\n",
       "      <td>2022-06-18 15:44:33.155329</td>\n",
       "      <td>s_225667</td>\n",
       "      <td>c_6714</td>\n",
       "      <td>7.99</td>\n",
       "      <td>0.0</td>\n",
       "      <td>f</td>\n",
       "      <td>1968</td>\n",
       "      <td>55</td>\n",
       "    </tr>\n",
       "    <tr>\n",
       "      <th>3</th>\n",
       "      <td>2_209</td>\n",
       "      <td>2021-06-24 04:19:29.835891</td>\n",
       "      <td>s_52962</td>\n",
       "      <td>c_6941</td>\n",
       "      <td>69.99</td>\n",
       "      <td>2.0</td>\n",
       "      <td>m</td>\n",
       "      <td>2000</td>\n",
       "      <td>23</td>\n",
       "    </tr>\n",
       "    <tr>\n",
       "      <th>4</th>\n",
       "      <td>0_1509</td>\n",
       "      <td>2023-01-11 08:22:08.194479</td>\n",
       "      <td>s_325227</td>\n",
       "      <td>c_4232</td>\n",
       "      <td>4.99</td>\n",
       "      <td>0.0</td>\n",
       "      <td>m</td>\n",
       "      <td>1980</td>\n",
       "      <td>43</td>\n",
       "    </tr>\n",
       "  </tbody>\n",
       "</table>\n",
       "</div>"
      ],
      "text/plain": [
       "  id_prod                       date session_id client_id  price  categ sex  \\\n",
       "0  0_1518 2022-05-20 13:21:29.043970   s_211425     c_103   4.18    0.0   f   \n",
       "1   1_251 2022-02-02 07:55:19.149409   s_158752    c_8534  15.99    1.0   m   \n",
       "2  0_1277 2022-06-18 15:44:33.155329   s_225667    c_6714   7.99    0.0   f   \n",
       "3   2_209 2021-06-24 04:19:29.835891    s_52962    c_6941  69.99    2.0   m   \n",
       "4  0_1509 2023-01-11 08:22:08.194479   s_325227    c_4232   4.99    0.0   m   \n",
       "\n",
       "   birth  age  \n",
       "0   1986   37  \n",
       "1   1988   35  \n",
       "2   1968   55  \n",
       "3   2000   23  \n",
       "4   1980   43  "
      ]
     },
     "execution_count": 36,
     "metadata": {},
     "output_type": "execute_result"
    }
   ],
   "source": [
    "# Liaison entre trans_prod et cust\n",
    "data = pd.merge(trans_prod, cust, on='client_id', how='left')\n",
    "data.head()"
   ]
  },
  {
   "cell_type": "markdown",
   "id": "f093e640",
   "metadata": {},
   "source": [
    "### <span style='font-family:serif'><font color='blue'>***Nous partons généralement d'une jointure à gauche (en plaçant transaction à gauche) afin de garder les lignes de transactions (dont on a besoin) de matcher les autres colonnes sur elle.*** <br>"
   ]
  },
  {
   "cell_type": "markdown",
   "id": "3b193cc6",
   "metadata": {},
   "source": [
    "### <font color='blue'>***Pré-traitement du data (final après fusions)***<br>"
   ]
  },
  {
   "cell_type": "code",
   "execution_count": 37,
   "id": "76601b85",
   "metadata": {},
   "outputs": [
    {
     "data": {
      "text/plain": [
       "id_prod         0\n",
       "date            0\n",
       "session_id      0\n",
       "client_id       0\n",
       "price         221\n",
       "categ         221\n",
       "sex             0\n",
       "birth           0\n",
       "age             0\n",
       "dtype: int64"
      ]
     },
     "execution_count": 37,
     "metadata": {},
     "output_type": "execute_result"
    }
   ],
   "source": [
    "#verification des valeurs Nan\n",
    "data.isna().sum()"
   ]
  },
  {
   "cell_type": "code",
   "execution_count": 38,
   "id": "281b41cd",
   "metadata": {},
   "outputs": [
    {
     "data": {
      "text/html": [
       "<div>\n",
       "<style scoped>\n",
       "    .dataframe tbody tr th:only-of-type {\n",
       "        vertical-align: middle;\n",
       "    }\n",
       "\n",
       "    .dataframe tbody tr th {\n",
       "        vertical-align: top;\n",
       "    }\n",
       "\n",
       "    .dataframe thead th {\n",
       "        text-align: right;\n",
       "    }\n",
       "</style>\n",
       "<table border=\"1\" class=\"dataframe\">\n",
       "  <thead>\n",
       "    <tr style=\"text-align: right;\">\n",
       "      <th></th>\n",
       "      <th>id_prod</th>\n",
       "      <th>date</th>\n",
       "      <th>session_id</th>\n",
       "      <th>client_id</th>\n",
       "      <th>price</th>\n",
       "      <th>categ</th>\n",
       "      <th>sex</th>\n",
       "      <th>birth</th>\n",
       "      <th>age</th>\n",
       "    </tr>\n",
       "  </thead>\n",
       "  <tbody>\n",
       "  </tbody>\n",
       "</table>\n",
       "</div>"
      ],
      "text/plain": [
       "Empty DataFrame\n",
       "Columns: [id_prod, date, session_id, client_id, price, categ, sex, birth, age]\n",
       "Index: []"
      ]
     },
     "execution_count": 38,
     "metadata": {},
     "output_type": "execute_result"
    }
   ],
   "source": [
    "# Tester les Doublons\n",
    "data.loc[data[['id_prod','price','categ','date','session_id','client_id','sex','birth','age']].duplicated(keep=False),:]"
   ]
  },
  {
   "cell_type": "code",
   "execution_count": 39,
   "id": "c4bc1bec",
   "metadata": {},
   "outputs": [
    {
     "data": {
      "text/html": [
       "<div>\n",
       "<style scoped>\n",
       "    .dataframe tbody tr th:only-of-type {\n",
       "        vertical-align: middle;\n",
       "    }\n",
       "\n",
       "    .dataframe tbody tr th {\n",
       "        vertical-align: top;\n",
       "    }\n",
       "\n",
       "    .dataframe thead th {\n",
       "        text-align: right;\n",
       "    }\n",
       "</style>\n",
       "<table border=\"1\" class=\"dataframe\">\n",
       "  <thead>\n",
       "    <tr style=\"text-align: right;\">\n",
       "      <th></th>\n",
       "      <th>id_prod</th>\n",
       "      <th>date</th>\n",
       "      <th>session_id</th>\n",
       "      <th>client_id</th>\n",
       "      <th>price</th>\n",
       "      <th>categ</th>\n",
       "      <th>sex</th>\n",
       "      <th>birth</th>\n",
       "      <th>age</th>\n",
       "    </tr>\n",
       "  </thead>\n",
       "  <tbody>\n",
       "  </tbody>\n",
       "</table>\n",
       "</div>"
      ],
      "text/plain": [
       "Empty DataFrame\n",
       "Columns: [id_prod, date, session_id, client_id, price, categ, sex, birth, age]\n",
       "Index: []"
      ]
     },
     "execution_count": 39,
     "metadata": {},
     "output_type": "execute_result"
    }
   ],
   "source": [
    "# Doublons sur date (tests)\n",
    "data.loc[data[['date']].duplicated(keep=False),:]"
   ]
  },
  {
   "cell_type": "code",
   "execution_count": 40,
   "id": "7d8250ac",
   "metadata": {},
   "outputs": [
    {
     "name": "stdout",
     "output_type": "stream",
     "text": [
      "<class 'pandas.core.frame.DataFrame'>\n",
      "Int64Index: 679332 entries, 0 to 679331\n",
      "Data columns (total 9 columns):\n",
      " #   Column      Non-Null Count   Dtype         \n",
      "---  ------      --------------   -----         \n",
      " 0   id_prod     679332 non-null  object        \n",
      " 1   date        679332 non-null  datetime64[ns]\n",
      " 2   session_id  679332 non-null  object        \n",
      " 3   client_id   679332 non-null  object        \n",
      " 4   price       679111 non-null  float64       \n",
      " 5   categ       679111 non-null  float64       \n",
      " 6   sex         679332 non-null  object        \n",
      " 7   birth       679332 non-null  int64         \n",
      " 8   age         679332 non-null  int64         \n",
      "dtypes: datetime64[ns](1), float64(2), int64(2), object(4)\n",
      "memory usage: 51.8+ MB\n"
     ]
    }
   ],
   "source": [
    "# information sur le df data\n",
    "data.info()"
   ]
  },
  {
   "cell_type": "code",
   "execution_count": 41,
   "id": "a9a4c86a",
   "metadata": {},
   "outputs": [
    {
     "data": {
      "text/plain": [
       "array([ 0.,  1.,  2., nan])"
      ]
     },
     "execution_count": 41,
     "metadata": {},
     "output_type": "execute_result"
    }
   ],
   "source": [
    "# categ en entier\n",
    "#data['categ'] = data['categ'].astype(int) # erreurs car la colonne catégorie contient des valeurs nulls\n",
    "\n",
    "# liste des valeurs de categ\n",
    "data.categ.unique()"
   ]
  },
  {
   "cell_type": "code",
   "execution_count": 42,
   "id": "1de89480",
   "metadata": {},
   "outputs": [
    {
     "data": {
      "text/html": [
       "<div>\n",
       "<style scoped>\n",
       "    .dataframe tbody tr th:only-of-type {\n",
       "        vertical-align: middle;\n",
       "    }\n",
       "\n",
       "    .dataframe tbody tr th {\n",
       "        vertical-align: top;\n",
       "    }\n",
       "\n",
       "    .dataframe thead th {\n",
       "        text-align: right;\n",
       "    }\n",
       "</style>\n",
       "<table border=\"1\" class=\"dataframe\">\n",
       "  <thead>\n",
       "    <tr style=\"text-align: right;\">\n",
       "      <th></th>\n",
       "      <th>id_prod</th>\n",
       "      <th>date</th>\n",
       "      <th>session_id</th>\n",
       "      <th>client_id</th>\n",
       "      <th>price</th>\n",
       "      <th>categ</th>\n",
       "      <th>sex</th>\n",
       "      <th>birth</th>\n",
       "      <th>age</th>\n",
       "    </tr>\n",
       "  </thead>\n",
       "  <tbody>\n",
       "    <tr>\n",
       "      <th>2633</th>\n",
       "      <td>0_2245</td>\n",
       "      <td>2022-09-23 07:22:38.636773</td>\n",
       "      <td>s_272266</td>\n",
       "      <td>c_4746</td>\n",
       "      <td>NaN</td>\n",
       "      <td>NaN</td>\n",
       "      <td>m</td>\n",
       "      <td>1940</td>\n",
       "      <td>83</td>\n",
       "    </tr>\n",
       "    <tr>\n",
       "      <th>10103</th>\n",
       "      <td>0_2245</td>\n",
       "      <td>2022-07-23 09:24:14.133889</td>\n",
       "      <td>s_242482</td>\n",
       "      <td>c_6713</td>\n",
       "      <td>NaN</td>\n",
       "      <td>NaN</td>\n",
       "      <td>f</td>\n",
       "      <td>1963</td>\n",
       "      <td>60</td>\n",
       "    </tr>\n",
       "    <tr>\n",
       "      <th>11723</th>\n",
       "      <td>0_2245</td>\n",
       "      <td>2022-12-03 03:26:35.696673</td>\n",
       "      <td>s_306338</td>\n",
       "      <td>c_5108</td>\n",
       "      <td>NaN</td>\n",
       "      <td>NaN</td>\n",
       "      <td>m</td>\n",
       "      <td>1978</td>\n",
       "      <td>45</td>\n",
       "    </tr>\n",
       "    <tr>\n",
       "      <th>15670</th>\n",
       "      <td>0_2245</td>\n",
       "      <td>2021-08-16 11:33:25.481411</td>\n",
       "      <td>s_76493</td>\n",
       "      <td>c_1391</td>\n",
       "      <td>NaN</td>\n",
       "      <td>NaN</td>\n",
       "      <td>m</td>\n",
       "      <td>1991</td>\n",
       "      <td>32</td>\n",
       "    </tr>\n",
       "    <tr>\n",
       "      <th>16372</th>\n",
       "      <td>0_2245</td>\n",
       "      <td>2022-07-16 05:53:01.627491</td>\n",
       "      <td>s_239078</td>\n",
       "      <td>c_7954</td>\n",
       "      <td>NaN</td>\n",
       "      <td>NaN</td>\n",
       "      <td>m</td>\n",
       "      <td>1973</td>\n",
       "      <td>50</td>\n",
       "    </tr>\n",
       "    <tr>\n",
       "      <th>...</th>\n",
       "      <td>...</td>\n",
       "      <td>...</td>\n",
       "      <td>...</td>\n",
       "      <td>...</td>\n",
       "      <td>...</td>\n",
       "      <td>...</td>\n",
       "      <td>...</td>\n",
       "      <td>...</td>\n",
       "      <td>...</td>\n",
       "    </tr>\n",
       "    <tr>\n",
       "      <th>669533</th>\n",
       "      <td>0_2245</td>\n",
       "      <td>2021-08-25 09:06:03.504061</td>\n",
       "      <td>s_80395</td>\n",
       "      <td>c_131</td>\n",
       "      <td>NaN</td>\n",
       "      <td>NaN</td>\n",
       "      <td>m</td>\n",
       "      <td>1981</td>\n",
       "      <td>42</td>\n",
       "    </tr>\n",
       "    <tr>\n",
       "      <th>670484</th>\n",
       "      <td>0_2245</td>\n",
       "      <td>2022-03-06 19:59:19.462288</td>\n",
       "      <td>s_175311</td>\n",
       "      <td>c_4167</td>\n",
       "      <td>NaN</td>\n",
       "      <td>NaN</td>\n",
       "      <td>f</td>\n",
       "      <td>1979</td>\n",
       "      <td>44</td>\n",
       "    </tr>\n",
       "    <tr>\n",
       "      <th>671088</th>\n",
       "      <td>0_2245</td>\n",
       "      <td>2022-05-16 11:35:20.319501</td>\n",
       "      <td>s_209381</td>\n",
       "      <td>c_4453</td>\n",
       "      <td>NaN</td>\n",
       "      <td>NaN</td>\n",
       "      <td>m</td>\n",
       "      <td>1981</td>\n",
       "      <td>42</td>\n",
       "    </tr>\n",
       "    <tr>\n",
       "      <th>675480</th>\n",
       "      <td>0_2245</td>\n",
       "      <td>2022-02-11 09:05:43.952857</td>\n",
       "      <td>s_163405</td>\n",
       "      <td>c_1098</td>\n",
       "      <td>NaN</td>\n",
       "      <td>NaN</td>\n",
       "      <td>m</td>\n",
       "      <td>1986</td>\n",
       "      <td>37</td>\n",
       "    </tr>\n",
       "    <tr>\n",
       "      <th>677797</th>\n",
       "      <td>0_2245</td>\n",
       "      <td>2021-12-14 22:34:54.589921</td>\n",
       "      <td>s_134446</td>\n",
       "      <td>c_4854</td>\n",
       "      <td>NaN</td>\n",
       "      <td>NaN</td>\n",
       "      <td>m</td>\n",
       "      <td>1968</td>\n",
       "      <td>55</td>\n",
       "    </tr>\n",
       "  </tbody>\n",
       "</table>\n",
       "<p>221 rows × 9 columns</p>\n",
       "</div>"
      ],
      "text/plain": [
       "       id_prod                       date session_id client_id  price  categ  \\\n",
       "2633    0_2245 2022-09-23 07:22:38.636773   s_272266    c_4746    NaN    NaN   \n",
       "10103   0_2245 2022-07-23 09:24:14.133889   s_242482    c_6713    NaN    NaN   \n",
       "11723   0_2245 2022-12-03 03:26:35.696673   s_306338    c_5108    NaN    NaN   \n",
       "15670   0_2245 2021-08-16 11:33:25.481411    s_76493    c_1391    NaN    NaN   \n",
       "16372   0_2245 2022-07-16 05:53:01.627491   s_239078    c_7954    NaN    NaN   \n",
       "...        ...                        ...        ...       ...    ...    ...   \n",
       "669533  0_2245 2021-08-25 09:06:03.504061    s_80395     c_131    NaN    NaN   \n",
       "670484  0_2245 2022-03-06 19:59:19.462288   s_175311    c_4167    NaN    NaN   \n",
       "671088  0_2245 2022-05-16 11:35:20.319501   s_209381    c_4453    NaN    NaN   \n",
       "675480  0_2245 2022-02-11 09:05:43.952857   s_163405    c_1098    NaN    NaN   \n",
       "677797  0_2245 2021-12-14 22:34:54.589921   s_134446    c_4854    NaN    NaN   \n",
       "\n",
       "       sex  birth  age  \n",
       "2633     m   1940   83  \n",
       "10103    f   1963   60  \n",
       "11723    m   1978   45  \n",
       "15670    m   1991   32  \n",
       "16372    m   1973   50  \n",
       "...     ..    ...  ...  \n",
       "669533   m   1981   42  \n",
       "670484   f   1979   44  \n",
       "671088   m   1981   42  \n",
       "675480   m   1986   37  \n",
       "677797   m   1968   55  \n",
       "\n",
       "[221 rows x 9 columns]"
      ]
     },
     "execution_count": 42,
     "metadata": {},
     "output_type": "execute_result"
    }
   ],
   "source": [
    "# Les valeurs nulls dans catégorie\n",
    "data.loc[data['categ'].isna(),:]"
   ]
  },
  {
   "cell_type": "code",
   "execution_count": 43,
   "id": "d5a1b202",
   "metadata": {},
   "outputs": [
    {
     "data": {
      "text/html": [
       "<div>\n",
       "<style scoped>\n",
       "    .dataframe tbody tr th:only-of-type {\n",
       "        vertical-align: middle;\n",
       "    }\n",
       "\n",
       "    .dataframe tbody tr th {\n",
       "        vertical-align: top;\n",
       "    }\n",
       "\n",
       "    .dataframe thead th {\n",
       "        text-align: right;\n",
       "    }\n",
       "</style>\n",
       "<table border=\"1\" class=\"dataframe\">\n",
       "  <thead>\n",
       "    <tr style=\"text-align: right;\">\n",
       "      <th></th>\n",
       "      <th>id_prod</th>\n",
       "      <th>date</th>\n",
       "      <th>session_id</th>\n",
       "      <th>client_id</th>\n",
       "      <th>price</th>\n",
       "      <th>categ</th>\n",
       "      <th>sex</th>\n",
       "      <th>birth</th>\n",
       "      <th>age</th>\n",
       "    </tr>\n",
       "  </thead>\n",
       "  <tbody>\n",
       "    <tr>\n",
       "      <th>2633</th>\n",
       "      <td>0_2245</td>\n",
       "      <td>2022-09-23 07:22:38.636773</td>\n",
       "      <td>s_272266</td>\n",
       "      <td>c_4746</td>\n",
       "      <td>NaN</td>\n",
       "      <td>NaN</td>\n",
       "      <td>m</td>\n",
       "      <td>1940</td>\n",
       "      <td>83</td>\n",
       "    </tr>\n",
       "    <tr>\n",
       "      <th>10103</th>\n",
       "      <td>0_2245</td>\n",
       "      <td>2022-07-23 09:24:14.133889</td>\n",
       "      <td>s_242482</td>\n",
       "      <td>c_6713</td>\n",
       "      <td>NaN</td>\n",
       "      <td>NaN</td>\n",
       "      <td>f</td>\n",
       "      <td>1963</td>\n",
       "      <td>60</td>\n",
       "    </tr>\n",
       "    <tr>\n",
       "      <th>11723</th>\n",
       "      <td>0_2245</td>\n",
       "      <td>2022-12-03 03:26:35.696673</td>\n",
       "      <td>s_306338</td>\n",
       "      <td>c_5108</td>\n",
       "      <td>NaN</td>\n",
       "      <td>NaN</td>\n",
       "      <td>m</td>\n",
       "      <td>1978</td>\n",
       "      <td>45</td>\n",
       "    </tr>\n",
       "    <tr>\n",
       "      <th>15670</th>\n",
       "      <td>0_2245</td>\n",
       "      <td>2021-08-16 11:33:25.481411</td>\n",
       "      <td>s_76493</td>\n",
       "      <td>c_1391</td>\n",
       "      <td>NaN</td>\n",
       "      <td>NaN</td>\n",
       "      <td>m</td>\n",
       "      <td>1991</td>\n",
       "      <td>32</td>\n",
       "    </tr>\n",
       "    <tr>\n",
       "      <th>16372</th>\n",
       "      <td>0_2245</td>\n",
       "      <td>2022-07-16 05:53:01.627491</td>\n",
       "      <td>s_239078</td>\n",
       "      <td>c_7954</td>\n",
       "      <td>NaN</td>\n",
       "      <td>NaN</td>\n",
       "      <td>m</td>\n",
       "      <td>1973</td>\n",
       "      <td>50</td>\n",
       "    </tr>\n",
       "    <tr>\n",
       "      <th>...</th>\n",
       "      <td>...</td>\n",
       "      <td>...</td>\n",
       "      <td>...</td>\n",
       "      <td>...</td>\n",
       "      <td>...</td>\n",
       "      <td>...</td>\n",
       "      <td>...</td>\n",
       "      <td>...</td>\n",
       "      <td>...</td>\n",
       "    </tr>\n",
       "    <tr>\n",
       "      <th>669533</th>\n",
       "      <td>0_2245</td>\n",
       "      <td>2021-08-25 09:06:03.504061</td>\n",
       "      <td>s_80395</td>\n",
       "      <td>c_131</td>\n",
       "      <td>NaN</td>\n",
       "      <td>NaN</td>\n",
       "      <td>m</td>\n",
       "      <td>1981</td>\n",
       "      <td>42</td>\n",
       "    </tr>\n",
       "    <tr>\n",
       "      <th>670484</th>\n",
       "      <td>0_2245</td>\n",
       "      <td>2022-03-06 19:59:19.462288</td>\n",
       "      <td>s_175311</td>\n",
       "      <td>c_4167</td>\n",
       "      <td>NaN</td>\n",
       "      <td>NaN</td>\n",
       "      <td>f</td>\n",
       "      <td>1979</td>\n",
       "      <td>44</td>\n",
       "    </tr>\n",
       "    <tr>\n",
       "      <th>671088</th>\n",
       "      <td>0_2245</td>\n",
       "      <td>2022-05-16 11:35:20.319501</td>\n",
       "      <td>s_209381</td>\n",
       "      <td>c_4453</td>\n",
       "      <td>NaN</td>\n",
       "      <td>NaN</td>\n",
       "      <td>m</td>\n",
       "      <td>1981</td>\n",
       "      <td>42</td>\n",
       "    </tr>\n",
       "    <tr>\n",
       "      <th>675480</th>\n",
       "      <td>0_2245</td>\n",
       "      <td>2022-02-11 09:05:43.952857</td>\n",
       "      <td>s_163405</td>\n",
       "      <td>c_1098</td>\n",
       "      <td>NaN</td>\n",
       "      <td>NaN</td>\n",
       "      <td>m</td>\n",
       "      <td>1986</td>\n",
       "      <td>37</td>\n",
       "    </tr>\n",
       "    <tr>\n",
       "      <th>677797</th>\n",
       "      <td>0_2245</td>\n",
       "      <td>2021-12-14 22:34:54.589921</td>\n",
       "      <td>s_134446</td>\n",
       "      <td>c_4854</td>\n",
       "      <td>NaN</td>\n",
       "      <td>NaN</td>\n",
       "      <td>m</td>\n",
       "      <td>1968</td>\n",
       "      <td>55</td>\n",
       "    </tr>\n",
       "  </tbody>\n",
       "</table>\n",
       "<p>221 rows × 9 columns</p>\n",
       "</div>"
      ],
      "text/plain": [
       "       id_prod                       date session_id client_id  price  categ  \\\n",
       "2633    0_2245 2022-09-23 07:22:38.636773   s_272266    c_4746    NaN    NaN   \n",
       "10103   0_2245 2022-07-23 09:24:14.133889   s_242482    c_6713    NaN    NaN   \n",
       "11723   0_2245 2022-12-03 03:26:35.696673   s_306338    c_5108    NaN    NaN   \n",
       "15670   0_2245 2021-08-16 11:33:25.481411    s_76493    c_1391    NaN    NaN   \n",
       "16372   0_2245 2022-07-16 05:53:01.627491   s_239078    c_7954    NaN    NaN   \n",
       "...        ...                        ...        ...       ...    ...    ...   \n",
       "669533  0_2245 2021-08-25 09:06:03.504061    s_80395     c_131    NaN    NaN   \n",
       "670484  0_2245 2022-03-06 19:59:19.462288   s_175311    c_4167    NaN    NaN   \n",
       "671088  0_2245 2022-05-16 11:35:20.319501   s_209381    c_4453    NaN    NaN   \n",
       "675480  0_2245 2022-02-11 09:05:43.952857   s_163405    c_1098    NaN    NaN   \n",
       "677797  0_2245 2021-12-14 22:34:54.589921   s_134446    c_4854    NaN    NaN   \n",
       "\n",
       "       sex  birth  age  \n",
       "2633     m   1940   83  \n",
       "10103    f   1963   60  \n",
       "11723    m   1978   45  \n",
       "15670    m   1991   32  \n",
       "16372    m   1973   50  \n",
       "...     ..    ...  ...  \n",
       "669533   m   1981   42  \n",
       "670484   f   1979   44  \n",
       "671088   m   1981   42  \n",
       "675480   m   1986   37  \n",
       "677797   m   1968   55  \n",
       "\n",
       "[221 rows x 9 columns]"
      ]
     },
     "execution_count": 43,
     "metadata": {},
     "output_type": "execute_result"
    }
   ],
   "source": [
    "# les achats du produit 0_2245\n",
    "data.loc[data['id_prod'] == '0_2245',:]"
   ]
  },
  {
   "cell_type": "code",
   "execution_count": 44,
   "id": "7aaa2c32",
   "metadata": {},
   "outputs": [
    {
     "data": {
      "text/plain": [
       "array(['0_2245'], dtype=object)"
      ]
     },
     "execution_count": 44,
     "metadata": {},
     "output_type": "execute_result"
    }
   ],
   "source": [
    "# Liste des id_prod dont valeurs nulls\n",
    "(data.loc[data['categ'].isna(),:])['id_prod'].unique()"
   ]
  },
  {
   "cell_type": "markdown",
   "id": "a79627d7",
   "metadata": {},
   "source": [
    "### <span style='font-family:serif'><font color='blue'> *On peut observer que tous les produits <font color='red'>'0_2245'<font color='blue'> ont des valeurs nulls dans 'price' et de 'categ'.<br><span style='font-family:serif'><font color='blue'>Cela peut signifier qu'il y a un produit dans trans qui n'est pas dans prod.*<br>"
   ]
  },
  {
   "cell_type": "code",
   "execution_count": 45,
   "id": "973209b9",
   "metadata": {},
   "outputs": [
    {
     "data": {
      "text/html": [
       "<div>\n",
       "<style scoped>\n",
       "    .dataframe tbody tr th:only-of-type {\n",
       "        vertical-align: middle;\n",
       "    }\n",
       "\n",
       "    .dataframe tbody tr th {\n",
       "        vertical-align: top;\n",
       "    }\n",
       "\n",
       "    .dataframe thead th {\n",
       "        text-align: right;\n",
       "    }\n",
       "</style>\n",
       "<table border=\"1\" class=\"dataframe\">\n",
       "  <thead>\n",
       "    <tr style=\"text-align: right;\">\n",
       "      <th></th>\n",
       "      <th>id_prod</th>\n",
       "      <th>date</th>\n",
       "      <th>session_id</th>\n",
       "      <th>client_id</th>\n",
       "      <th>price</th>\n",
       "      <th>categ</th>\n",
       "      <th>sex</th>\n",
       "      <th>birth</th>\n",
       "      <th>age</th>\n",
       "    </tr>\n",
       "  </thead>\n",
       "  <tbody>\n",
       "    <tr>\n",
       "      <th>2633</th>\n",
       "      <td>0_2245</td>\n",
       "      <td>2022-09-23 07:22:38.636773</td>\n",
       "      <td>s_272266</td>\n",
       "      <td>c_4746</td>\n",
       "      <td>17.454773</td>\n",
       "      <td>0.0</td>\n",
       "      <td>m</td>\n",
       "      <td>1940</td>\n",
       "      <td>83</td>\n",
       "    </tr>\n",
       "    <tr>\n",
       "      <th>10103</th>\n",
       "      <td>0_2245</td>\n",
       "      <td>2022-07-23 09:24:14.133889</td>\n",
       "      <td>s_242482</td>\n",
       "      <td>c_6713</td>\n",
       "      <td>17.454773</td>\n",
       "      <td>0.0</td>\n",
       "      <td>f</td>\n",
       "      <td>1963</td>\n",
       "      <td>60</td>\n",
       "    </tr>\n",
       "    <tr>\n",
       "      <th>11723</th>\n",
       "      <td>0_2245</td>\n",
       "      <td>2022-12-03 03:26:35.696673</td>\n",
       "      <td>s_306338</td>\n",
       "      <td>c_5108</td>\n",
       "      <td>17.454773</td>\n",
       "      <td>0.0</td>\n",
       "      <td>m</td>\n",
       "      <td>1978</td>\n",
       "      <td>45</td>\n",
       "    </tr>\n",
       "    <tr>\n",
       "      <th>15670</th>\n",
       "      <td>0_2245</td>\n",
       "      <td>2021-08-16 11:33:25.481411</td>\n",
       "      <td>s_76493</td>\n",
       "      <td>c_1391</td>\n",
       "      <td>17.454773</td>\n",
       "      <td>0.0</td>\n",
       "      <td>m</td>\n",
       "      <td>1991</td>\n",
       "      <td>32</td>\n",
       "    </tr>\n",
       "    <tr>\n",
       "      <th>16372</th>\n",
       "      <td>0_2245</td>\n",
       "      <td>2022-07-16 05:53:01.627491</td>\n",
       "      <td>s_239078</td>\n",
       "      <td>c_7954</td>\n",
       "      <td>17.454773</td>\n",
       "      <td>0.0</td>\n",
       "      <td>m</td>\n",
       "      <td>1973</td>\n",
       "      <td>50</td>\n",
       "    </tr>\n",
       "    <tr>\n",
       "      <th>...</th>\n",
       "      <td>...</td>\n",
       "      <td>...</td>\n",
       "      <td>...</td>\n",
       "      <td>...</td>\n",
       "      <td>...</td>\n",
       "      <td>...</td>\n",
       "      <td>...</td>\n",
       "      <td>...</td>\n",
       "      <td>...</td>\n",
       "    </tr>\n",
       "    <tr>\n",
       "      <th>669533</th>\n",
       "      <td>0_2245</td>\n",
       "      <td>2021-08-25 09:06:03.504061</td>\n",
       "      <td>s_80395</td>\n",
       "      <td>c_131</td>\n",
       "      <td>17.454773</td>\n",
       "      <td>0.0</td>\n",
       "      <td>m</td>\n",
       "      <td>1981</td>\n",
       "      <td>42</td>\n",
       "    </tr>\n",
       "    <tr>\n",
       "      <th>670484</th>\n",
       "      <td>0_2245</td>\n",
       "      <td>2022-03-06 19:59:19.462288</td>\n",
       "      <td>s_175311</td>\n",
       "      <td>c_4167</td>\n",
       "      <td>17.454773</td>\n",
       "      <td>0.0</td>\n",
       "      <td>f</td>\n",
       "      <td>1979</td>\n",
       "      <td>44</td>\n",
       "    </tr>\n",
       "    <tr>\n",
       "      <th>671088</th>\n",
       "      <td>0_2245</td>\n",
       "      <td>2022-05-16 11:35:20.319501</td>\n",
       "      <td>s_209381</td>\n",
       "      <td>c_4453</td>\n",
       "      <td>17.454773</td>\n",
       "      <td>0.0</td>\n",
       "      <td>m</td>\n",
       "      <td>1981</td>\n",
       "      <td>42</td>\n",
       "    </tr>\n",
       "    <tr>\n",
       "      <th>675480</th>\n",
       "      <td>0_2245</td>\n",
       "      <td>2022-02-11 09:05:43.952857</td>\n",
       "      <td>s_163405</td>\n",
       "      <td>c_1098</td>\n",
       "      <td>17.454773</td>\n",
       "      <td>0.0</td>\n",
       "      <td>m</td>\n",
       "      <td>1986</td>\n",
       "      <td>37</td>\n",
       "    </tr>\n",
       "    <tr>\n",
       "      <th>677797</th>\n",
       "      <td>0_2245</td>\n",
       "      <td>2021-12-14 22:34:54.589921</td>\n",
       "      <td>s_134446</td>\n",
       "      <td>c_4854</td>\n",
       "      <td>17.454773</td>\n",
       "      <td>0.0</td>\n",
       "      <td>m</td>\n",
       "      <td>1968</td>\n",
       "      <td>55</td>\n",
       "    </tr>\n",
       "  </tbody>\n",
       "</table>\n",
       "<p>221 rows × 9 columns</p>\n",
       "</div>"
      ],
      "text/plain": [
       "       id_prod                       date session_id client_id      price  \\\n",
       "2633    0_2245 2022-09-23 07:22:38.636773   s_272266    c_4746  17.454773   \n",
       "10103   0_2245 2022-07-23 09:24:14.133889   s_242482    c_6713  17.454773   \n",
       "11723   0_2245 2022-12-03 03:26:35.696673   s_306338    c_5108  17.454773   \n",
       "15670   0_2245 2021-08-16 11:33:25.481411    s_76493    c_1391  17.454773   \n",
       "16372   0_2245 2022-07-16 05:53:01.627491   s_239078    c_7954  17.454773   \n",
       "...        ...                        ...        ...       ...        ...   \n",
       "669533  0_2245 2021-08-25 09:06:03.504061    s_80395     c_131  17.454773   \n",
       "670484  0_2245 2022-03-06 19:59:19.462288   s_175311    c_4167  17.454773   \n",
       "671088  0_2245 2022-05-16 11:35:20.319501   s_209381    c_4453  17.454773   \n",
       "675480  0_2245 2022-02-11 09:05:43.952857   s_163405    c_1098  17.454773   \n",
       "677797  0_2245 2021-12-14 22:34:54.589921   s_134446    c_4854  17.454773   \n",
       "\n",
       "        categ sex  birth  age  \n",
       "2633      0.0   m   1940   83  \n",
       "10103     0.0   f   1963   60  \n",
       "11723     0.0   m   1978   45  \n",
       "15670     0.0   m   1991   32  \n",
       "16372     0.0   m   1973   50  \n",
       "...       ...  ..    ...  ...  \n",
       "669533    0.0   m   1981   42  \n",
       "670484    0.0   f   1979   44  \n",
       "671088    0.0   m   1981   42  \n",
       "675480    0.0   m   1986   37  \n",
       "677797    0.0   m   1968   55  \n",
       "\n",
       "[221 rows x 9 columns]"
      ]
     },
     "execution_count": 45,
     "metadata": {},
     "output_type": "execute_result"
    }
   ],
   "source": [
    "# Remplacer les valeurs nulls par 0\n",
    "data['categ'] = data['categ'].fillna(0)\n",
    "data['price'] = data['price'].fillna(data['price'].mean())\n",
    "\n",
    "# Vérification\n",
    "data.loc[data['id_prod']=='0_2245',:]"
   ]
  },
  {
   "cell_type": "markdown",
   "id": "f01459ab",
   "metadata": {},
   "source": [
    "***\n",
    "***"
   ]
  },
  {
   "cell_type": "markdown",
   "id": "c19f2cc8",
   "metadata": {},
   "source": [
    "# <font color='blue'><span style='font-family:serif'>***PARTIE 1 : Demandes d'Antoine***"
   ]
  },
  {
   "cell_type": "markdown",
   "id": "fd7f06c8",
   "metadata": {},
   "source": [
    "> ### <font color='lateorange'>***1. Analyses autour du chiffre d'affaire***"
   ]
  },
  {
   "cell_type": "code",
   "execution_count": 46,
   "id": "09e22e18",
   "metadata": {},
   "outputs": [
    {
     "name": "stdout",
     "output_type": "stream",
     "text": [
      "\u001b[1m\u001b[94mLe montant total des achats est de \u001b[91m11,857,586.18\u001b[94m €\n"
     ]
    }
   ],
   "source": [
    "# Montant total des achats\n",
    "ca = data['price'].sum()\n",
    "print(color.BOLD + color.BLUE + \"Le montant total des achats est de \" + color.RED \n",
    "      +  f\"{round(ca,2):,}\" + color.BLUE + \" €\")"
   ]
  },
  {
   "cell_type": "code",
   "execution_count": 47,
   "id": "87336420",
   "metadata": {},
   "outputs": [
    {
     "name": "stdout",
     "output_type": "stream",
     "text": [
      "\u001b[1m\u001b[94mLa taille moyenne du panier est de \u001b[91m17.45\u001b[94m €\n",
      "\n"
     ]
    }
   ],
   "source": [
    "# La taille de panier moyen\n",
    "moyen_achats = data['price'].mean()\n",
    "print(color.BOLD + color.BLUE + \"La taille moyenne du panier est de \" + color.RED \n",
    "      +  f\"{round(moyen_achats,2):,}\" + color.BLUE + \" €\\n\")"
   ]
  },
  {
   "cell_type": "code",
   "execution_count": 48,
   "id": "02835783",
   "metadata": {},
   "outputs": [
    {
     "data": {
      "text/html": [
       "<div>\n",
       "<style scoped>\n",
       "    .dataframe tbody tr th:only-of-type {\n",
       "        vertical-align: middle;\n",
       "    }\n",
       "\n",
       "    .dataframe tbody tr th {\n",
       "        vertical-align: top;\n",
       "    }\n",
       "\n",
       "    .dataframe thead th {\n",
       "        text-align: right;\n",
       "    }\n",
       "</style>\n",
       "<table border=\"1\" class=\"dataframe\">\n",
       "  <thead>\n",
       "    <tr style=\"text-align: right;\">\n",
       "      <th></th>\n",
       "      <th>id_prod</th>\n",
       "      <th>date</th>\n",
       "      <th>session_id</th>\n",
       "      <th>client_id</th>\n",
       "      <th>price</th>\n",
       "      <th>categ</th>\n",
       "      <th>sex</th>\n",
       "      <th>birth</th>\n",
       "      <th>age</th>\n",
       "      <th>day</th>\n",
       "      <th>year</th>\n",
       "      <th>month</th>\n",
       "      <th>ym</th>\n",
       "    </tr>\n",
       "  </thead>\n",
       "  <tbody>\n",
       "    <tr>\n",
       "      <th>480501</th>\n",
       "      <td>0_1259</td>\n",
       "      <td>2021-03-01 00:01:07.843138</td>\n",
       "      <td>s_1</td>\n",
       "      <td>c_329</td>\n",
       "      <td>11.99</td>\n",
       "      <td>0.0</td>\n",
       "      <td>f</td>\n",
       "      <td>1967</td>\n",
       "      <td>56</td>\n",
       "      <td>1</td>\n",
       "      <td>2021</td>\n",
       "      <td>March</td>\n",
       "      <td>2021March</td>\n",
       "    </tr>\n",
       "    <tr>\n",
       "      <th>428350</th>\n",
       "      <td>0_1390</td>\n",
       "      <td>2021-03-01 00:02:26.047414</td>\n",
       "      <td>s_2</td>\n",
       "      <td>c_664</td>\n",
       "      <td>19.37</td>\n",
       "      <td>0.0</td>\n",
       "      <td>m</td>\n",
       "      <td>1960</td>\n",
       "      <td>63</td>\n",
       "      <td>1</td>\n",
       "      <td>2021</td>\n",
       "      <td>March</td>\n",
       "      <td>2021March</td>\n",
       "    </tr>\n",
       "    <tr>\n",
       "      <th>462563</th>\n",
       "      <td>0_1352</td>\n",
       "      <td>2021-03-01 00:02:38.311413</td>\n",
       "      <td>s_3</td>\n",
       "      <td>c_580</td>\n",
       "      <td>4.50</td>\n",
       "      <td>0.0</td>\n",
       "      <td>m</td>\n",
       "      <td>1988</td>\n",
       "      <td>35</td>\n",
       "      <td>1</td>\n",
       "      <td>2021</td>\n",
       "      <td>March</td>\n",
       "      <td>2021March</td>\n",
       "    </tr>\n",
       "    <tr>\n",
       "      <th>488153</th>\n",
       "      <td>0_1458</td>\n",
       "      <td>2021-03-01 00:04:54.559692</td>\n",
       "      <td>s_4</td>\n",
       "      <td>c_7912</td>\n",
       "      <td>6.55</td>\n",
       "      <td>0.0</td>\n",
       "      <td>f</td>\n",
       "      <td>1989</td>\n",
       "      <td>34</td>\n",
       "      <td>1</td>\n",
       "      <td>2021</td>\n",
       "      <td>March</td>\n",
       "      <td>2021March</td>\n",
       "    </tr>\n",
       "    <tr>\n",
       "      <th>438944</th>\n",
       "      <td>0_1358</td>\n",
       "      <td>2021-03-01 00:05:18.801198</td>\n",
       "      <td>s_5</td>\n",
       "      <td>c_2033</td>\n",
       "      <td>16.49</td>\n",
       "      <td>0.0</td>\n",
       "      <td>f</td>\n",
       "      <td>1956</td>\n",
       "      <td>67</td>\n",
       "      <td>1</td>\n",
       "      <td>2021</td>\n",
       "      <td>March</td>\n",
       "      <td>2021March</td>\n",
       "    </tr>\n",
       "  </tbody>\n",
       "</table>\n",
       "</div>"
      ],
      "text/plain": [
       "       id_prod                       date session_id client_id  price  categ  \\\n",
       "480501  0_1259 2021-03-01 00:01:07.843138        s_1     c_329  11.99    0.0   \n",
       "428350  0_1390 2021-03-01 00:02:26.047414        s_2     c_664  19.37    0.0   \n",
       "462563  0_1352 2021-03-01 00:02:38.311413        s_3     c_580   4.50    0.0   \n",
       "488153  0_1458 2021-03-01 00:04:54.559692        s_4    c_7912   6.55    0.0   \n",
       "438944  0_1358 2021-03-01 00:05:18.801198        s_5    c_2033  16.49    0.0   \n",
       "\n",
       "       sex  birth  age  day  year  month         ym  \n",
       "480501   f   1967   56    1  2021  March  2021March  \n",
       "428350   m   1960   63    1  2021  March  2021March  \n",
       "462563   m   1988   35    1  2021  March  2021March  \n",
       "488153   f   1989   34    1  2021  March  2021March  \n",
       "438944   f   1956   67    1  2021  March  2021March  "
      ]
     },
     "execution_count": 48,
     "metadata": {},
     "output_type": "execute_result"
    }
   ],
   "source": [
    "# Créer des colonnes 'year' et 'month' afin de simplifier l'affichage du graphe\n",
    "data['day'] = data['date'].dt.day\n",
    "data['year'] = data['date'].dt.year\n",
    "data['month'] = data['date'].dt.month_name()\n",
    "\n",
    "# Convertir ces 2 colonnes en 'string' afin de les concaténer dans une nouvelle colonne 'ym'\n",
    "data['day'] = data['day'].astype('int') # En entier pour pouvoir trier par jour \n",
    "data['year'] = data['year'].astype('str')\n",
    "data['month'] = data['month'].astype('str')\n",
    "data['ym'] = data['year'] + data['month']\n",
    "data = data.sort_values('date')\n",
    "data.head()"
   ]
  },
  {
   "cell_type": "code",
   "execution_count": 49,
   "id": "094b3d9f",
   "metadata": {},
   "outputs": [
    {
     "data": {
      "text/html": [
       "<div>\n",
       "<style scoped>\n",
       "    .dataframe tbody tr th:only-of-type {\n",
       "        vertical-align: middle;\n",
       "    }\n",
       "\n",
       "    .dataframe tbody tr th {\n",
       "        vertical-align: top;\n",
       "    }\n",
       "\n",
       "    .dataframe thead th {\n",
       "        text-align: right;\n",
       "    }\n",
       "</style>\n",
       "<table border=\"1\" class=\"dataframe\">\n",
       "  <thead>\n",
       "    <tr style=\"text-align: right;\">\n",
       "      <th></th>\n",
       "      <th>date</th>\n",
       "      <th>price</th>\n",
       "      <th>categ</th>\n",
       "      <th>month</th>\n",
       "      <th>ym</th>\n",
       "    </tr>\n",
       "  </thead>\n",
       "  <tbody>\n",
       "    <tr>\n",
       "      <th>480501</th>\n",
       "      <td>2021-03-01 00:01:07.843138</td>\n",
       "      <td>11.99</td>\n",
       "      <td>0.0</td>\n",
       "      <td>March</td>\n",
       "      <td>2021March</td>\n",
       "    </tr>\n",
       "    <tr>\n",
       "      <th>428350</th>\n",
       "      <td>2021-03-01 00:02:26.047414</td>\n",
       "      <td>19.37</td>\n",
       "      <td>0.0</td>\n",
       "      <td>March</td>\n",
       "      <td>2021March</td>\n",
       "    </tr>\n",
       "    <tr>\n",
       "      <th>462563</th>\n",
       "      <td>2021-03-01 00:02:38.311413</td>\n",
       "      <td>4.50</td>\n",
       "      <td>0.0</td>\n",
       "      <td>March</td>\n",
       "      <td>2021March</td>\n",
       "    </tr>\n",
       "    <tr>\n",
       "      <th>488153</th>\n",
       "      <td>2021-03-01 00:04:54.559692</td>\n",
       "      <td>6.55</td>\n",
       "      <td>0.0</td>\n",
       "      <td>March</td>\n",
       "      <td>2021March</td>\n",
       "    </tr>\n",
       "    <tr>\n",
       "      <th>438944</th>\n",
       "      <td>2021-03-01 00:05:18.801198</td>\n",
       "      <td>16.49</td>\n",
       "      <td>0.0</td>\n",
       "      <td>March</td>\n",
       "      <td>2021March</td>\n",
       "    </tr>\n",
       "  </tbody>\n",
       "</table>\n",
       "</div>"
      ],
      "text/plain": [
       "                             date  price  categ  month         ym\n",
       "480501 2021-03-01 00:01:07.843138  11.99    0.0  March  2021March\n",
       "428350 2021-03-01 00:02:26.047414  19.37    0.0  March  2021March\n",
       "462563 2021-03-01 00:02:38.311413   4.50    0.0  March  2021March\n",
       "488153 2021-03-01 00:04:54.559692   6.55    0.0  March  2021March\n",
       "438944 2021-03-01 00:05:18.801198  16.49    0.0  March  2021March"
      ]
     },
     "execution_count": 49,
     "metadata": {},
     "output_type": "execute_result"
    }
   ],
   "source": [
    "# df pour traiter le CA par mois\n",
    "ca_m = data[['date','price','categ','month','ym']]\n",
    "ca_m.head()"
   ]
  },
  {
   "cell_type": "code",
   "execution_count": 50,
   "id": "c83d7d02",
   "metadata": {},
   "outputs": [
    {
     "data": {
      "text/html": [
       "<div>\n",
       "<style scoped>\n",
       "    .dataframe tbody tr th:only-of-type {\n",
       "        vertical-align: middle;\n",
       "    }\n",
       "\n",
       "    .dataframe tbody tr th {\n",
       "        vertical-align: top;\n",
       "    }\n",
       "\n",
       "    .dataframe thead th {\n",
       "        text-align: right;\n",
       "    }\n",
       "</style>\n",
       "<table border=\"1\" class=\"dataframe\">\n",
       "  <thead>\n",
       "    <tr style=\"text-align: right;\">\n",
       "      <th></th>\n",
       "      <th>date</th>\n",
       "      <th>price</th>\n",
       "    </tr>\n",
       "  </thead>\n",
       "  <tbody>\n",
       "    <tr>\n",
       "      <th>0</th>\n",
       "      <td>2021-03-31</td>\n",
       "      <td>482597.702961</td>\n",
       "    </tr>\n",
       "    <tr>\n",
       "      <th>1</th>\n",
       "      <td>2021-04-30</td>\n",
       "      <td>476353.666829</td>\n",
       "    </tr>\n",
       "    <tr>\n",
       "      <th>2</th>\n",
       "      <td>2021-05-31</td>\n",
       "      <td>493083.108188</td>\n",
       "    </tr>\n",
       "    <tr>\n",
       "      <th>3</th>\n",
       "      <td>2021-06-30</td>\n",
       "      <td>484210.743414</td>\n",
       "    </tr>\n",
       "    <tr>\n",
       "      <th>4</th>\n",
       "      <td>2021-07-31</td>\n",
       "      <td>482905.219094</td>\n",
       "    </tr>\n",
       "  </tbody>\n",
       "</table>\n",
       "</div>"
      ],
      "text/plain": [
       "        date          price\n",
       "0 2021-03-31  482597.702961\n",
       "1 2021-04-30  476353.666829\n",
       "2 2021-05-31  493083.108188\n",
       "3 2021-06-30  484210.743414\n",
       "4 2021-07-31  482905.219094"
      ]
     },
     "execution_count": 50,
     "metadata": {},
     "output_type": "execute_result"
    }
   ],
   "source": [
    "# CA par mois\n",
    "ca_mois = ca_m.groupby(pd.Grouper(key='date',freq='M')).agg({'price':'sum'}).reset_index()\n",
    "ca_mois.head()"
   ]
  },
  {
   "cell_type": "code",
   "execution_count": 51,
   "id": "da153659",
   "metadata": {},
   "outputs": [
    {
     "data": {
      "text/html": [
       "<div>\n",
       "<style scoped>\n",
       "    .dataframe tbody tr th:only-of-type {\n",
       "        vertical-align: middle;\n",
       "    }\n",
       "\n",
       "    .dataframe tbody tr th {\n",
       "        vertical-align: top;\n",
       "    }\n",
       "\n",
       "    .dataframe thead th {\n",
       "        text-align: right;\n",
       "    }\n",
       "</style>\n",
       "<table border=\"1\" class=\"dataframe\">\n",
       "  <thead>\n",
       "    <tr style=\"text-align: right;\">\n",
       "      <th></th>\n",
       "      <th>date</th>\n",
       "      <th>price</th>\n",
       "      <th>year</th>\n",
       "      <th>month</th>\n",
       "      <th>ym</th>\n",
       "    </tr>\n",
       "  </thead>\n",
       "  <tbody>\n",
       "    <tr>\n",
       "      <th>0</th>\n",
       "      <td>2021-03-31</td>\n",
       "      <td>482597.702961</td>\n",
       "      <td>2021</td>\n",
       "      <td>March</td>\n",
       "      <td>2021March</td>\n",
       "    </tr>\n",
       "    <tr>\n",
       "      <th>1</th>\n",
       "      <td>2021-04-30</td>\n",
       "      <td>476353.666829</td>\n",
       "      <td>2021</td>\n",
       "      <td>April</td>\n",
       "      <td>2021April</td>\n",
       "    </tr>\n",
       "    <tr>\n",
       "      <th>2</th>\n",
       "      <td>2021-05-31</td>\n",
       "      <td>493083.108188</td>\n",
       "      <td>2021</td>\n",
       "      <td>May</td>\n",
       "      <td>2021May</td>\n",
       "    </tr>\n",
       "    <tr>\n",
       "      <th>3</th>\n",
       "      <td>2021-06-30</td>\n",
       "      <td>484210.743414</td>\n",
       "      <td>2021</td>\n",
       "      <td>June</td>\n",
       "      <td>2021June</td>\n",
       "    </tr>\n",
       "    <tr>\n",
       "      <th>4</th>\n",
       "      <td>2021-07-31</td>\n",
       "      <td>482905.219094</td>\n",
       "      <td>2021</td>\n",
       "      <td>July</td>\n",
       "      <td>2021July</td>\n",
       "    </tr>\n",
       "  </tbody>\n",
       "</table>\n",
       "</div>"
      ],
      "text/plain": [
       "        date          price  year  month         ym\n",
       "0 2021-03-31  482597.702961  2021  March  2021March\n",
       "1 2021-04-30  476353.666829  2021  April  2021April\n",
       "2 2021-05-31  493083.108188  2021    May    2021May\n",
       "3 2021-06-30  484210.743414  2021   June   2021June\n",
       "4 2021-07-31  482905.219094  2021   July   2021July"
      ]
     },
     "execution_count": 51,
     "metadata": {},
     "output_type": "execute_result"
    }
   ],
   "source": [
    "# ReCréer des colonnes 'year' et 'month' afin de simplifier l'affichage du graphe\n",
    "ca_mois['year'] = ca_mois['date'].dt.year\n",
    "ca_mois['month'] = ca_mois['date'].dt.month_name()\n",
    "\n",
    "# Convertir ces 2 colonnes en 'string' afin de les concaténer dans une nouvelle colonne 'ym'\n",
    "ca_mois['year'] = ca_mois['year'].astype('str')\n",
    "ca_mois['month'] = ca_mois['month'].astype('str')\n",
    "ca_mois['ym'] = ca_mois['year'] + ca_mois['month']\n",
    "ca_mois.head()"
   ]
  },
  {
   "cell_type": "code",
   "execution_count": 52,
   "id": "8448442d",
   "metadata": {},
   "outputs": [
    {
     "data": {
      "image/png": "[encoded data removed]",
      "text/plain": [
       "<Figure size 1224x504 with 1 Axes>"
      ]
     },
     "metadata": {
      "needs_background": "light"
     },
     "output_type": "display_data"
    }
   ],
   "source": [
    "plt.figure(figsize=(17,7))\n",
    "sns.barplot(data=ca_mois, x='ym', y='price', ci=None)\n",
    "plt.rc('xtick', labelsize=5)\n",
    "plt.grid()\n",
    "plt.title(\"Représentation du CA par mois\", fontname='Serif', fontsize=18)\n",
    "plt.show()"
   ]
  },
  {
   "cell_type": "markdown",
   "id": "89c14d22",
   "metadata": {},
   "source": [
    "### <span style='font-family:serif'><font color='red'>*Remarque:* <font color='blue'> *On aperçoit une baisse du chiffre d'affaire sur le mois d'octobre de l'année 2021 (<font color='darkslateblue'>2021-11-30<font color='blue'>). Creusons un peu plus sur ce mois.*</br>"
   ]
  },
  {
   "cell_type": "code",
   "execution_count": 53,
   "id": "68133737",
   "metadata": {
    "scrolled": false
   },
   "outputs": [
    {
     "data": {
      "image/png": "[encoded data removed]",
      "text/plain": [
       "<Figure size 1440x720 with 1 Axes>"
      ]
     },
     "metadata": {
      "needs_background": "light"
     },
     "output_type": "display_data"
    }
   ],
   "source": [
    "# Focus sur le Chiffre d'affaire du mois d'octobre par catégorie\n",
    "# CA par mois par catégorie\n",
    "plt.figure(figsize=(20,10))\n",
    "sns.barplot(data=data, x='ym', y='price', ci=None, hue='categ', estimator=sum)\n",
    "plt.grid()\n",
    "plt.rc('xtick', labelsize=7)\n",
    "plt.title(\"Chiffre d'affaire mensuelle par catégorie\", fontname='Serif', fontsize=18)\n",
    "plt.show()"
   ]
  },
  {
   "cell_type": "markdown",
   "id": "a77ad478",
   "metadata": {},
   "source": [
    "### <span style='font-family:serif'><font color='blue'> *On peut voir clairement, ici, que sur le mois d'octobre 2021 , le chiffre d'affaire de la <font color='darkslateblue'>catégorie 1 est en baisse<font color='blue'> par rapport aux autres mois. C'est ce qui est la cause de la chutte du chiffre d'affaire à cette période.*<br>"
   ]
  },
  {
   "cell_type": "code",
   "execution_count": 54,
   "id": "5ebb2a61",
   "metadata": {},
   "outputs": [
    {
     "data": {
      "text/html": [
       "<div>\n",
       "<style scoped>\n",
       "    .dataframe tbody tr th:only-of-type {\n",
       "        vertical-align: middle;\n",
       "    }\n",
       "\n",
       "    .dataframe tbody tr th {\n",
       "        vertical-align: top;\n",
       "    }\n",
       "\n",
       "    .dataframe thead th {\n",
       "        text-align: right;\n",
       "    }\n",
       "</style>\n",
       "<table border=\"1\" class=\"dataframe\">\n",
       "  <thead>\n",
       "    <tr style=\"text-align: right;\">\n",
       "      <th></th>\n",
       "      <th>id_prod</th>\n",
       "      <th>date</th>\n",
       "      <th>session_id</th>\n",
       "      <th>client_id</th>\n",
       "      <th>price</th>\n",
       "      <th>categ</th>\n",
       "      <th>sex</th>\n",
       "      <th>birth</th>\n",
       "      <th>age</th>\n",
       "      <th>day</th>\n",
       "      <th>year</th>\n",
       "      <th>month</th>\n",
       "      <th>ym</th>\n",
       "    </tr>\n",
       "  </thead>\n",
       "  <tbody>\n",
       "    <tr>\n",
       "      <th>393773</th>\n",
       "      <td>0_1145</td>\n",
       "      <td>2021-10-01 00:00:23.722317</td>\n",
       "      <td>s_98170</td>\n",
       "      <td>c_5907</td>\n",
       "      <td>6.99</td>\n",
       "      <td>0.0</td>\n",
       "      <td>f</td>\n",
       "      <td>1991</td>\n",
       "      <td>32</td>\n",
       "      <td>1</td>\n",
       "      <td>2021</td>\n",
       "      <td>October</td>\n",
       "      <td>2021October</td>\n",
       "    </tr>\n",
       "    <tr>\n",
       "      <th>47979</th>\n",
       "      <td>1_622</td>\n",
       "      <td>2021-10-01 00:03:07.095422</td>\n",
       "      <td>s_98169</td>\n",
       "      <td>c_7614</td>\n",
       "      <td>17.41</td>\n",
       "      <td>1.0</td>\n",
       "      <td>m</td>\n",
       "      <td>1995</td>\n",
       "      <td>28</td>\n",
       "      <td>1</td>\n",
       "      <td>2021</td>\n",
       "      <td>October</td>\n",
       "      <td>2021October</td>\n",
       "    </tr>\n",
       "    <tr>\n",
       "      <th>342811</th>\n",
       "      <td>1_202</td>\n",
       "      <td>2021-10-01 00:03:16.664480</td>\n",
       "      <td>s_98171</td>\n",
       "      <td>c_4492</td>\n",
       "      <td>19.96</td>\n",
       "      <td>1.0</td>\n",
       "      <td>f</td>\n",
       "      <td>1980</td>\n",
       "      <td>43</td>\n",
       "      <td>1</td>\n",
       "      <td>2021</td>\n",
       "      <td>October</td>\n",
       "      <td>2021October</td>\n",
       "    </tr>\n",
       "    <tr>\n",
       "      <th>15777</th>\n",
       "      <td>0_2268</td>\n",
       "      <td>2021-10-01 00:06:04.960675</td>\n",
       "      <td>s_98172</td>\n",
       "      <td>c_2588</td>\n",
       "      <td>17.57</td>\n",
       "      <td>0.0</td>\n",
       "      <td>m</td>\n",
       "      <td>1989</td>\n",
       "      <td>34</td>\n",
       "      <td>1</td>\n",
       "      <td>2021</td>\n",
       "      <td>October</td>\n",
       "      <td>2021October</td>\n",
       "    </tr>\n",
       "    <tr>\n",
       "      <th>7427</th>\n",
       "      <td>0_1421</td>\n",
       "      <td>2021-10-01 00:07:50.987959</td>\n",
       "      <td>s_98173</td>\n",
       "      <td>c_5953</td>\n",
       "      <td>19.99</td>\n",
       "      <td>0.0</td>\n",
       "      <td>m</td>\n",
       "      <td>1986</td>\n",
       "      <td>37</td>\n",
       "      <td>1</td>\n",
       "      <td>2021</td>\n",
       "      <td>October</td>\n",
       "      <td>2021October</td>\n",
       "    </tr>\n",
       "  </tbody>\n",
       "</table>\n",
       "</div>"
      ],
      "text/plain": [
       "       id_prod                       date session_id client_id  price  categ  \\\n",
       "393773  0_1145 2021-10-01 00:00:23.722317    s_98170    c_5907   6.99    0.0   \n",
       "47979    1_622 2021-10-01 00:03:07.095422    s_98169    c_7614  17.41    1.0   \n",
       "342811   1_202 2021-10-01 00:03:16.664480    s_98171    c_4492  19.96    1.0   \n",
       "15777   0_2268 2021-10-01 00:06:04.960675    s_98172    c_2588  17.57    0.0   \n",
       "7427    0_1421 2021-10-01 00:07:50.987959    s_98173    c_5953  19.99    0.0   \n",
       "\n",
       "       sex  birth  age  day  year    month           ym  \n",
       "393773   f   1991   32    1  2021  October  2021October  \n",
       "47979    m   1995   28    1  2021  October  2021October  \n",
       "342811   f   1980   43    1  2021  October  2021October  \n",
       "15777    m   1989   34    1  2021  October  2021October  \n",
       "7427     m   1986   37    1  2021  October  2021October  "
      ]
     },
     "execution_count": 54,
     "metadata": {},
     "output_type": "execute_result"
    }
   ],
   "source": [
    "# DF du mois d'octobre 21\n",
    "df_oct21 = data[data['ym'] == '2021October']\n",
    "df_oct21.head()"
   ]
  },
  {
   "cell_type": "code",
   "execution_count": 55,
   "id": "4648a7f1",
   "metadata": {},
   "outputs": [
    {
     "data": {
      "text/html": [
       "<div>\n",
       "<style scoped>\n",
       "    .dataframe tbody tr th:only-of-type {\n",
       "        vertical-align: middle;\n",
       "    }\n",
       "\n",
       "    .dataframe tbody tr th {\n",
       "        vertical-align: top;\n",
       "    }\n",
       "\n",
       "    .dataframe thead th {\n",
       "        text-align: right;\n",
       "    }\n",
       "</style>\n",
       "<table border=\"1\" class=\"dataframe\">\n",
       "  <thead>\n",
       "    <tr style=\"text-align: right;\">\n",
       "      <th></th>\n",
       "      <th>day</th>\n",
       "      <th>categ</th>\n",
       "      <th>price</th>\n",
       "    </tr>\n",
       "  </thead>\n",
       "  <tbody>\n",
       "    <tr>\n",
       "      <th>0</th>\n",
       "      <td>1</td>\n",
       "      <td>0.0</td>\n",
       "      <td>6950.50</td>\n",
       "    </tr>\n",
       "    <tr>\n",
       "      <th>1</th>\n",
       "      <td>1</td>\n",
       "      <td>1.0</td>\n",
       "      <td>7003.79</td>\n",
       "    </tr>\n",
       "    <tr>\n",
       "      <th>2</th>\n",
       "      <td>1</td>\n",
       "      <td>2.0</td>\n",
       "      <td>3104.05</td>\n",
       "    </tr>\n",
       "    <tr>\n",
       "      <th>3</th>\n",
       "      <td>2</td>\n",
       "      <td>0.0</td>\n",
       "      <td>7141.01</td>\n",
       "    </tr>\n",
       "    <tr>\n",
       "      <th>4</th>\n",
       "      <td>2</td>\n",
       "      <td>2.0</td>\n",
       "      <td>2041.12</td>\n",
       "    </tr>\n",
       "  </tbody>\n",
       "</table>\n",
       "</div>"
      ],
      "text/plain": [
       "   day  categ    price\n",
       "0    1    0.0  6950.50\n",
       "1    1    1.0  7003.79\n",
       "2    1    2.0  3104.05\n",
       "3    2    0.0  7141.01\n",
       "4    2    2.0  2041.12"
      ]
     },
     "execution_count": 55,
     "metadata": {},
     "output_type": "execute_result"
    }
   ],
   "source": [
    "# Le mois d'octobre 2021 par jour\n",
    "df_oct21_jr = df_oct21.groupby(['day','categ']).agg({'price':'sum'})\n",
    "df_oct21_jr = df_oct21_jr.reset_index()\n",
    "df_oct21_jr.head()"
   ]
  },
  {
   "cell_type": "code",
   "execution_count": 56,
   "id": "cdda9427",
   "metadata": {},
   "outputs": [
    {
     "data": {
      "image/png": "[encoded data removed]",
      "text/plain": [
       "<Figure size 1080x504 with 1 Axes>"
      ]
     },
     "metadata": {
      "needs_background": "light"
     },
     "output_type": "display_data"
    }
   ],
   "source": [
    "# Représentation graphique\n",
    "plt.figure(figsize=(15,7))\n",
    "sns.barplot(data=df_oct21_jr.sort_values('day',ascending=True), x=\"day\", y='price', hue='categ', estimator=sum)\n",
    "plt.grid()\n",
    "plt.title(\"Chiffre d'affaire du mois d'octobre 2021 par jour\", fontname='Serif', fontsize=18)\n",
    "plt.show()"
   ]
  },
  {
   "cell_type": "markdown",
   "id": "078067c1",
   "metadata": {},
   "source": [
    "### <span style='font-family:serif'><font color='blue'> *D'après ce graphe on peut voir clairement qu'à partir 2 oct au 27 oct 2021, aucun produit 1 n'a été vendu. C'est ce qui a causé la baisse durant ce mois*<br>"
   ]
  },
  {
   "cell_type": "code",
   "execution_count": 57,
   "id": "cfe8ab58",
   "metadata": {},
   "outputs": [
    {
     "data": {
      "text/html": [
       "<div>\n",
       "<style scoped>\n",
       "    .dataframe tbody tr th:only-of-type {\n",
       "        vertical-align: middle;\n",
       "    }\n",
       "\n",
       "    .dataframe tbody tr th {\n",
       "        vertical-align: top;\n",
       "    }\n",
       "\n",
       "    .dataframe thead th {\n",
       "        text-align: right;\n",
       "    }\n",
       "</style>\n",
       "<table border=\"1\" class=\"dataframe\">\n",
       "  <thead>\n",
       "    <tr style=\"text-align: right;\">\n",
       "      <th></th>\n",
       "      <th>client_id</th>\n",
       "      <th>price</th>\n",
       "    </tr>\n",
       "  </thead>\n",
       "  <tbody>\n",
       "    <tr>\n",
       "      <th>677</th>\n",
       "      <td>c_1609</td>\n",
       "      <td>324033.350000</td>\n",
       "    </tr>\n",
       "    <tr>\n",
       "      <th>4388</th>\n",
       "      <td>c_4958</td>\n",
       "      <td>289760.340000</td>\n",
       "    </tr>\n",
       "    <tr>\n",
       "      <th>6337</th>\n",
       "      <td>c_6714</td>\n",
       "      <td>153703.648641</td>\n",
       "    </tr>\n",
       "    <tr>\n",
       "      <th>2724</th>\n",
       "      <td>c_3454</td>\n",
       "      <td>113690.294320</td>\n",
       "    </tr>\n",
       "    <tr>\n",
       "      <th>2513</th>\n",
       "      <td>c_3263</td>\n",
       "      <td>5276.870000</td>\n",
       "    </tr>\n",
       "    <tr>\n",
       "      <th>634</th>\n",
       "      <td>c_1570</td>\n",
       "      <td>5271.620000</td>\n",
       "    </tr>\n",
       "    <tr>\n",
       "      <th>2108</th>\n",
       "      <td>c_2899</td>\n",
       "      <td>5214.050000</td>\n",
       "    </tr>\n",
       "  </tbody>\n",
       "</table>\n",
       "</div>"
      ],
      "text/plain": [
       "     client_id          price\n",
       "677     c_1609  324033.350000\n",
       "4388    c_4958  289760.340000\n",
       "6337    c_6714  153703.648641\n",
       "2724    c_3454  113690.294320\n",
       "2513    c_3263    5276.870000\n",
       "634     c_1570    5271.620000\n",
       "2108    c_2899    5214.050000"
      ]
     },
     "execution_count": 57,
     "metadata": {},
     "output_type": "execute_result"
    }
   ],
   "source": [
    "# df regroupant les CA par client\n",
    "ca_cl = data.groupby('client_id')['price'].sum()\n",
    "ca_cl = ca_cl.reset_index().sort_values('price',ascending=False)\n",
    "ca_cl.head(7)"
   ]
  },
  {
   "cell_type": "markdown",
   "id": "5d07e047",
   "metadata": {},
   "source": [
    "### <span style='font-family:serif'><font color='blue'> *On peu apercevoir clairement qu'il y a 4 gros clients qui sortent du lot. Il pourrait s'agir des clients professionnels tandis que le reste, des clients particuliers. Nous allons donc créer une colonne pour indiquer le type des clients.*<br>"
   ]
  },
  {
   "cell_type": "code",
   "execution_count": 58,
   "id": "57391256",
   "metadata": {},
   "outputs": [
    {
     "data": {
      "text/html": [
       "<div>\n",
       "<style scoped>\n",
       "    .dataframe tbody tr th:only-of-type {\n",
       "        vertical-align: middle;\n",
       "    }\n",
       "\n",
       "    .dataframe tbody tr th {\n",
       "        vertical-align: top;\n",
       "    }\n",
       "\n",
       "    .dataframe thead th {\n",
       "        text-align: right;\n",
       "    }\n",
       "</style>\n",
       "<table border=\"1\" class=\"dataframe\">\n",
       "  <thead>\n",
       "    <tr style=\"text-align: right;\">\n",
       "      <th></th>\n",
       "      <th>client_id</th>\n",
       "      <th>price</th>\n",
       "      <th>type_client</th>\n",
       "    </tr>\n",
       "  </thead>\n",
       "  <tbody>\n",
       "    <tr>\n",
       "      <th>677</th>\n",
       "      <td>c_1609</td>\n",
       "      <td>324033.350000</td>\n",
       "      <td>pro</td>\n",
       "    </tr>\n",
       "    <tr>\n",
       "      <th>4388</th>\n",
       "      <td>c_4958</td>\n",
       "      <td>289760.340000</td>\n",
       "      <td>pro</td>\n",
       "    </tr>\n",
       "    <tr>\n",
       "      <th>6337</th>\n",
       "      <td>c_6714</td>\n",
       "      <td>153703.648641</td>\n",
       "      <td>pro</td>\n",
       "    </tr>\n",
       "    <tr>\n",
       "      <th>2724</th>\n",
       "      <td>c_3454</td>\n",
       "      <td>113690.294320</td>\n",
       "      <td>pro</td>\n",
       "    </tr>\n",
       "    <tr>\n",
       "      <th>2513</th>\n",
       "      <td>c_3263</td>\n",
       "      <td>5276.870000</td>\n",
       "      <td>lambda</td>\n",
       "    </tr>\n",
       "  </tbody>\n",
       "</table>\n",
       "</div>"
      ],
      "text/plain": [
       "     client_id          price type_client\n",
       "677     c_1609  324033.350000         pro\n",
       "4388    c_4958  289760.340000         pro\n",
       "6337    c_6714  153703.648641         pro\n",
       "2724    c_3454  113690.294320         pro\n",
       "2513    c_3263    5276.870000      lambda"
      ]
     },
     "execution_count": 58,
     "metadata": {},
     "output_type": "execute_result"
    }
   ],
   "source": [
    "# Créer la colonne type de client\n",
    "ca_cl['type_client'] = [\"pro\" if p >=100000 else \"lambda\" for p in ca_cl['price']]\n",
    "ca_cl.head()"
   ]
  },
  {
   "cell_type": "code",
   "execution_count": 59,
   "id": "9c3df549",
   "metadata": {},
   "outputs": [
    {
     "data": {
      "text/html": [
       "<div>\n",
       "<style scoped>\n",
       "    .dataframe tbody tr th:only-of-type {\n",
       "        vertical-align: middle;\n",
       "    }\n",
       "\n",
       "    .dataframe tbody tr th {\n",
       "        vertical-align: top;\n",
       "    }\n",
       "\n",
       "    .dataframe thead th {\n",
       "        text-align: right;\n",
       "    }\n",
       "</style>\n",
       "<table border=\"1\" class=\"dataframe\">\n",
       "  <thead>\n",
       "    <tr style=\"text-align: right;\">\n",
       "      <th></th>\n",
       "      <th>id_prod</th>\n",
       "      <th>date</th>\n",
       "      <th>session_id</th>\n",
       "      <th>client_id</th>\n",
       "      <th>price</th>\n",
       "      <th>categ</th>\n",
       "      <th>sex</th>\n",
       "      <th>birth</th>\n",
       "      <th>age</th>\n",
       "      <th>day</th>\n",
       "      <th>year</th>\n",
       "      <th>month</th>\n",
       "      <th>ym</th>\n",
       "      <th>type_client</th>\n",
       "    </tr>\n",
       "  </thead>\n",
       "  <tbody>\n",
       "    <tr>\n",
       "      <th>0</th>\n",
       "      <td>0_1259</td>\n",
       "      <td>2021-03-01 00:01:07.843138</td>\n",
       "      <td>s_1</td>\n",
       "      <td>c_329</td>\n",
       "      <td>11.99</td>\n",
       "      <td>0.0</td>\n",
       "      <td>f</td>\n",
       "      <td>1967</td>\n",
       "      <td>56</td>\n",
       "      <td>1</td>\n",
       "      <td>2021</td>\n",
       "      <td>March</td>\n",
       "      <td>2021March</td>\n",
       "      <td>lambda</td>\n",
       "    </tr>\n",
       "    <tr>\n",
       "      <th>1</th>\n",
       "      <td>0_1390</td>\n",
       "      <td>2021-03-01 00:02:26.047414</td>\n",
       "      <td>s_2</td>\n",
       "      <td>c_664</td>\n",
       "      <td>19.37</td>\n",
       "      <td>0.0</td>\n",
       "      <td>m</td>\n",
       "      <td>1960</td>\n",
       "      <td>63</td>\n",
       "      <td>1</td>\n",
       "      <td>2021</td>\n",
       "      <td>March</td>\n",
       "      <td>2021March</td>\n",
       "      <td>lambda</td>\n",
       "    </tr>\n",
       "    <tr>\n",
       "      <th>2</th>\n",
       "      <td>0_1352</td>\n",
       "      <td>2021-03-01 00:02:38.311413</td>\n",
       "      <td>s_3</td>\n",
       "      <td>c_580</td>\n",
       "      <td>4.50</td>\n",
       "      <td>0.0</td>\n",
       "      <td>m</td>\n",
       "      <td>1988</td>\n",
       "      <td>35</td>\n",
       "      <td>1</td>\n",
       "      <td>2021</td>\n",
       "      <td>March</td>\n",
       "      <td>2021March</td>\n",
       "      <td>lambda</td>\n",
       "    </tr>\n",
       "    <tr>\n",
       "      <th>3</th>\n",
       "      <td>0_1458</td>\n",
       "      <td>2021-03-01 00:04:54.559692</td>\n",
       "      <td>s_4</td>\n",
       "      <td>c_7912</td>\n",
       "      <td>6.55</td>\n",
       "      <td>0.0</td>\n",
       "      <td>f</td>\n",
       "      <td>1989</td>\n",
       "      <td>34</td>\n",
       "      <td>1</td>\n",
       "      <td>2021</td>\n",
       "      <td>March</td>\n",
       "      <td>2021March</td>\n",
       "      <td>lambda</td>\n",
       "    </tr>\n",
       "    <tr>\n",
       "      <th>4</th>\n",
       "      <td>0_1358</td>\n",
       "      <td>2021-03-01 00:05:18.801198</td>\n",
       "      <td>s_5</td>\n",
       "      <td>c_2033</td>\n",
       "      <td>16.49</td>\n",
       "      <td>0.0</td>\n",
       "      <td>f</td>\n",
       "      <td>1956</td>\n",
       "      <td>67</td>\n",
       "      <td>1</td>\n",
       "      <td>2021</td>\n",
       "      <td>March</td>\n",
       "      <td>2021March</td>\n",
       "      <td>lambda</td>\n",
       "    </tr>\n",
       "  </tbody>\n",
       "</table>\n",
       "</div>"
      ],
      "text/plain": [
       "  id_prod                       date session_id client_id  price  categ sex  \\\n",
       "0  0_1259 2021-03-01 00:01:07.843138        s_1     c_329  11.99    0.0   f   \n",
       "1  0_1390 2021-03-01 00:02:26.047414        s_2     c_664  19.37    0.0   m   \n",
       "2  0_1352 2021-03-01 00:02:38.311413        s_3     c_580   4.50    0.0   m   \n",
       "3  0_1458 2021-03-01 00:04:54.559692        s_4    c_7912   6.55    0.0   f   \n",
       "4  0_1358 2021-03-01 00:05:18.801198        s_5    c_2033  16.49    0.0   f   \n",
       "\n",
       "   birth  age  day  year  month         ym type_client  \n",
       "0   1967   56    1  2021  March  2021March      lambda  \n",
       "1   1960   63    1  2021  March  2021March      lambda  \n",
       "2   1988   35    1  2021  March  2021March      lambda  \n",
       "3   1989   34    1  2021  March  2021March      lambda  \n",
       "4   1956   67    1  2021  March  2021March      lambda  "
      ]
     },
     "execution_count": 59,
     "metadata": {},
     "output_type": "execute_result"
    }
   ],
   "source": [
    "# Ne garder que \"client_id\" et \"prix\"\n",
    "ca_cl2 = ca_cl[['client_id','type_client']]\n",
    "\n",
    "# Jointure entre data et prix_cl pour rajouter \"type_client\" sur le df final\n",
    "datafinal = pd.merge(data, ca_cl2, on='client_id', how='left')\n",
    "datafinal.head()"
   ]
  },
  {
   "cell_type": "code",
   "execution_count": 60,
   "id": "15de708b",
   "metadata": {},
   "outputs": [
    {
     "data": {
      "text/html": [
       "<div>\n",
       "<style scoped>\n",
       "    .dataframe tbody tr th:only-of-type {\n",
       "        vertical-align: middle;\n",
       "    }\n",
       "\n",
       "    .dataframe tbody tr th {\n",
       "        vertical-align: top;\n",
       "    }\n",
       "\n",
       "    .dataframe thead th {\n",
       "        text-align: right;\n",
       "    }\n",
       "</style>\n",
       "<table border=\"1\" class=\"dataframe\">\n",
       "  <thead>\n",
       "    <tr style=\"text-align: right;\">\n",
       "      <th></th>\n",
       "      <th>sex</th>\n",
       "      <th>price</th>\n",
       "    </tr>\n",
       "  </thead>\n",
       "  <tbody>\n",
       "    <tr>\n",
       "      <th>0</th>\n",
       "      <td>f</td>\n",
       "      <td>17.321781</td>\n",
       "    </tr>\n",
       "    <tr>\n",
       "      <th>1</th>\n",
       "      <td>m</td>\n",
       "      <td>17.586780</td>\n",
       "    </tr>\n",
       "  </tbody>\n",
       "</table>\n",
       "</div>"
      ],
      "text/plain": [
       "  sex      price\n",
       "0   f  17.321781\n",
       "1   m  17.586780"
      ]
     },
     "execution_count": 60,
     "metadata": {},
     "output_type": "execute_result"
    }
   ],
   "source": [
    "# Moyenne d'achats par rapport sexes\n",
    "prix_sex = datafinal.groupby('sex')['price'].mean()\n",
    "prix_sex = prix_sex.reset_index()\n",
    "prix_sex"
   ]
  },
  {
   "cell_type": "code",
   "execution_count": 61,
   "id": "508fef43",
   "metadata": {},
   "outputs": [
    {
     "data": {
      "image/png": "[encoded data removed]",
      "text/plain": [
       "<Figure size 1080x504 with 1 Axes>"
      ]
     },
     "metadata": {
      "needs_background": "light"
     },
     "output_type": "display_data"
    }
   ],
   "source": [
    "# Histogramme Nombre de clients par rapport à l'âge\n",
    "plt.figure(figsize=(15,7))\n",
    "sns.histplot(data=datafinal, x='age', bins=60, kde=True)\n",
    "plt.grid()\n",
    "plt.title(\"Représentation du nombre de clients par rapport à l'âge\", fontname='Serif', fontsize=18)\n",
    "plt.show()"
   ]
  },
  {
   "cell_type": "markdown",
   "id": "dbb24fae",
   "metadata": {},
   "source": [
    "### <span style='font-family:serif'><font color='blue'> *Ce graphe nous montre que le plus grand nombre des clients ont des âges qui tournent autour de 40 et 50 ans.*<br>"
   ]
  },
  {
   "cell_type": "markdown",
   "id": "17ab898f",
   "metadata": {},
   "source": [
    "> ### <font color='lateorange'>***2. Décomposition en moyenne mobile***"
   ]
  },
  {
   "cell_type": "markdown",
   "id": "66a5ecc9",
   "metadata": {},
   "source": [
    ">> #### <font color='darkslateblue'> ***Moyenne mobile par semaine***"
   ]
  },
  {
   "cell_type": "code",
   "execution_count": 62,
   "id": "16ba3d60",
   "metadata": {},
   "outputs": [
    {
     "data": {
      "text/html": [
       "<div>\n",
       "<style scoped>\n",
       "    .dataframe tbody tr th:only-of-type {\n",
       "        vertical-align: middle;\n",
       "    }\n",
       "\n",
       "    .dataframe tbody tr th {\n",
       "        vertical-align: top;\n",
       "    }\n",
       "\n",
       "    .dataframe thead th {\n",
       "        text-align: right;\n",
       "    }\n",
       "</style>\n",
       "<table border=\"1\" class=\"dataframe\">\n",
       "  <thead>\n",
       "    <tr style=\"text-align: right;\">\n",
       "      <th></th>\n",
       "      <th>price</th>\n",
       "      <th>categ</th>\n",
       "      <th>month</th>\n",
       "      <th>ym</th>\n",
       "    </tr>\n",
       "    <tr>\n",
       "      <th>date</th>\n",
       "      <th></th>\n",
       "      <th></th>\n",
       "      <th></th>\n",
       "      <th></th>\n",
       "    </tr>\n",
       "  </thead>\n",
       "  <tbody>\n",
       "    <tr>\n",
       "      <th>2021-03-01 00:01:07.843138</th>\n",
       "      <td>11.99</td>\n",
       "      <td>0.0</td>\n",
       "      <td>March</td>\n",
       "      <td>2021March</td>\n",
       "    </tr>\n",
       "    <tr>\n",
       "      <th>2021-03-01 00:02:26.047414</th>\n",
       "      <td>19.37</td>\n",
       "      <td>0.0</td>\n",
       "      <td>March</td>\n",
       "      <td>2021March</td>\n",
       "    </tr>\n",
       "    <tr>\n",
       "      <th>2021-03-01 00:02:38.311413</th>\n",
       "      <td>4.50</td>\n",
       "      <td>0.0</td>\n",
       "      <td>March</td>\n",
       "      <td>2021March</td>\n",
       "    </tr>\n",
       "    <tr>\n",
       "      <th>2021-03-01 00:04:54.559692</th>\n",
       "      <td>6.55</td>\n",
       "      <td>0.0</td>\n",
       "      <td>March</td>\n",
       "      <td>2021March</td>\n",
       "    </tr>\n",
       "    <tr>\n",
       "      <th>2021-03-01 00:05:18.801198</th>\n",
       "      <td>16.49</td>\n",
       "      <td>0.0</td>\n",
       "      <td>March</td>\n",
       "      <td>2021March</td>\n",
       "    </tr>\n",
       "    <tr>\n",
       "      <th>...</th>\n",
       "      <td>...</td>\n",
       "      <td>...</td>\n",
       "      <td>...</td>\n",
       "      <td>...</td>\n",
       "    </tr>\n",
       "    <tr>\n",
       "      <th>2023-02-28 23:49:03.148402</th>\n",
       "      <td>21.92</td>\n",
       "      <td>1.0</td>\n",
       "      <td>February</td>\n",
       "      <td>2023February</td>\n",
       "    </tr>\n",
       "    <tr>\n",
       "      <th>2023-02-28 23:51:29.318531</th>\n",
       "      <td>48.99</td>\n",
       "      <td>2.0</td>\n",
       "      <td>February</td>\n",
       "      <td>2023February</td>\n",
       "    </tr>\n",
       "    <tr>\n",
       "      <th>2023-02-28 23:53:18.929676</th>\n",
       "      <td>26.99</td>\n",
       "      <td>1.0</td>\n",
       "      <td>February</td>\n",
       "      <td>2023February</td>\n",
       "    </tr>\n",
       "    <tr>\n",
       "      <th>2023-02-28 23:58:00.107815</th>\n",
       "      <td>8.99</td>\n",
       "      <td>0.0</td>\n",
       "      <td>February</td>\n",
       "      <td>2023February</td>\n",
       "    </tr>\n",
       "    <tr>\n",
       "      <th>2023-02-28 23:58:30.792755</th>\n",
       "      <td>4.52</td>\n",
       "      <td>0.0</td>\n",
       "      <td>February</td>\n",
       "      <td>2023February</td>\n",
       "    </tr>\n",
       "  </tbody>\n",
       "</table>\n",
       "<p>679332 rows × 4 columns</p>\n",
       "</div>"
      ],
      "text/plain": [
       "                            price  categ     month            ym\n",
       "date                                                            \n",
       "2021-03-01 00:01:07.843138  11.99    0.0     March     2021March\n",
       "2021-03-01 00:02:26.047414  19.37    0.0     March     2021March\n",
       "2021-03-01 00:02:38.311413   4.50    0.0     March     2021March\n",
       "2021-03-01 00:04:54.559692   6.55    0.0     March     2021March\n",
       "2021-03-01 00:05:18.801198  16.49    0.0     March     2021March\n",
       "...                           ...    ...       ...           ...\n",
       "2023-02-28 23:49:03.148402  21.92    1.0  February  2023February\n",
       "2023-02-28 23:51:29.318531  48.99    2.0  February  2023February\n",
       "2023-02-28 23:53:18.929676  26.99    1.0  February  2023February\n",
       "2023-02-28 23:58:00.107815   8.99    0.0  February  2023February\n",
       "2023-02-28 23:58:30.792755   4.52    0.0  February  2023February\n",
       "\n",
       "[679332 rows x 4 columns]"
      ]
     },
     "execution_count": 62,
     "metadata": {},
     "output_type": "execute_result"
    }
   ],
   "source": [
    "# Indexer la colonne date\n",
    "ca_m = ca_m.set_index('date')\n",
    "ca_m"
   ]
  },
  {
   "cell_type": "code",
   "execution_count": 63,
   "id": "66499fcd",
   "metadata": {},
   "outputs": [
    {
     "data": {
      "text/html": [
       "<div>\n",
       "<style scoped>\n",
       "    .dataframe tbody tr th:only-of-type {\n",
       "        vertical-align: middle;\n",
       "    }\n",
       "\n",
       "    .dataframe tbody tr th {\n",
       "        vertical-align: top;\n",
       "    }\n",
       "\n",
       "    .dataframe thead th {\n",
       "        text-align: right;\n",
       "    }\n",
       "</style>\n",
       "<table border=\"1\" class=\"dataframe\">\n",
       "  <thead>\n",
       "    <tr style=\"text-align: right;\">\n",
       "      <th></th>\n",
       "      <th>price</th>\n",
       "      <th>categ</th>\n",
       "    </tr>\n",
       "    <tr>\n",
       "      <th>date</th>\n",
       "      <th></th>\n",
       "      <th></th>\n",
       "    </tr>\n",
       "  </thead>\n",
       "  <tbody>\n",
       "    <tr>\n",
       "      <th>2021-03-01</th>\n",
       "      <td>16582.674773</td>\n",
       "      <td>427.0</td>\n",
       "    </tr>\n",
       "    <tr>\n",
       "      <th>2021-03-02</th>\n",
       "      <td>15503.904773</td>\n",
       "      <td>362.0</td>\n",
       "    </tr>\n",
       "    <tr>\n",
       "      <th>2021-03-03</th>\n",
       "      <td>15198.690000</td>\n",
       "      <td>360.0</td>\n",
       "    </tr>\n",
       "    <tr>\n",
       "      <th>2021-03-04</th>\n",
       "      <td>15196.070000</td>\n",
       "      <td>383.0</td>\n",
       "    </tr>\n",
       "    <tr>\n",
       "      <th>2021-03-05</th>\n",
       "      <td>17471.370000</td>\n",
       "      <td>433.0</td>\n",
       "    </tr>\n",
       "  </tbody>\n",
       "</table>\n",
       "</div>"
      ],
      "text/plain": [
       "                   price  categ\n",
       "date                           \n",
       "2021-03-01  16582.674773  427.0\n",
       "2021-03-02  15503.904773  362.0\n",
       "2021-03-03  15198.690000  360.0\n",
       "2021-03-04  15196.070000  383.0\n",
       "2021-03-05  17471.370000  433.0"
      ]
     },
     "execution_count": 63,
     "metadata": {},
     "output_type": "execute_result"
    }
   ],
   "source": [
    "# Sommer par jour les prix\n",
    "mm_jour = ca_m.resample('D').sum()\n",
    "mm_jour.head()"
   ]
  },
  {
   "cell_type": "code",
   "execution_count": 64,
   "id": "234efd8d",
   "metadata": {},
   "outputs": [
    {
     "data": {
      "text/html": [
       "<div>\n",
       "<style scoped>\n",
       "    .dataframe tbody tr th:only-of-type {\n",
       "        vertical-align: middle;\n",
       "    }\n",
       "\n",
       "    .dataframe tbody tr th {\n",
       "        vertical-align: top;\n",
       "    }\n",
       "\n",
       "    .dataframe thead th {\n",
       "        text-align: right;\n",
       "    }\n",
       "</style>\n",
       "<table border=\"1\" class=\"dataframe\">\n",
       "  <thead>\n",
       "    <tr style=\"text-align: right;\">\n",
       "      <th></th>\n",
       "      <th>price</th>\n",
       "      <th>categ</th>\n",
       "      <th>md</th>\n",
       "    </tr>\n",
       "    <tr>\n",
       "      <th>date</th>\n",
       "      <th></th>\n",
       "      <th></th>\n",
       "      <th></th>\n",
       "    </tr>\n",
       "  </thead>\n",
       "  <tbody>\n",
       "    <tr>\n",
       "      <th>2021-03-01</th>\n",
       "      <td>16582.674773</td>\n",
       "      <td>427.0</td>\n",
       "      <td>NaN</td>\n",
       "    </tr>\n",
       "    <tr>\n",
       "      <th>2021-03-02</th>\n",
       "      <td>15503.904773</td>\n",
       "      <td>362.0</td>\n",
       "      <td>NaN</td>\n",
       "    </tr>\n",
       "    <tr>\n",
       "      <th>2021-03-03</th>\n",
       "      <td>15198.690000</td>\n",
       "      <td>360.0</td>\n",
       "      <td>NaN</td>\n",
       "    </tr>\n",
       "    <tr>\n",
       "      <th>2021-03-04</th>\n",
       "      <td>15196.070000</td>\n",
       "      <td>383.0</td>\n",
       "      <td>NaN</td>\n",
       "    </tr>\n",
       "    <tr>\n",
       "      <th>2021-03-05</th>\n",
       "      <td>17471.370000</td>\n",
       "      <td>433.0</td>\n",
       "      <td>NaN</td>\n",
       "    </tr>\n",
       "  </tbody>\n",
       "</table>\n",
       "</div>"
      ],
      "text/plain": [
       "                   price  categ  md\n",
       "date                               \n",
       "2021-03-01  16582.674773  427.0 NaN\n",
       "2021-03-02  15503.904773  362.0 NaN\n",
       "2021-03-03  15198.690000  360.0 NaN\n",
       "2021-03-04  15196.070000  383.0 NaN\n",
       "2021-03-05  17471.370000  433.0 NaN"
      ]
     },
     "execution_count": 64,
     "metadata": {},
     "output_type": "execute_result"
    }
   ],
   "source": [
    "# Moyenne mobile par semaine\n",
    "mm_jour['md'] = mm_jour['price'].rolling(7).mean()\n",
    "mm_jour.head()"
   ]
  },
  {
   "cell_type": "code",
   "execution_count": 65,
   "id": "53484a91",
   "metadata": {},
   "outputs": [
    {
     "data": {
      "image/png": "[encoded data removed]",
      "text/plain": [
       "<Figure size 1080x504 with 1 Axes>"
      ]
     },
     "metadata": {
      "needs_background": "light"
     },
     "output_type": "display_data"
    }
   ],
   "source": [
    "# Représentation graphique de la moyenne mobile par semaine \n",
    "mm_jour['md'].plot(figsize=(15,7))\n",
    "plt.grid()\n",
    "plt.title(\"Moyenne mobile par semaine\", fontname='Serif', fontsize=18)\n",
    "plt.ylabel(\"Moyenne mobile\")\n",
    "plt.show()"
   ]
  },
  {
   "cell_type": "markdown",
   "id": "b0910020",
   "metadata": {},
   "source": [
    "### <span style='font-family:serif'><font color='blue'> *Les moyennes mobiles ici nous nontrent qu'il n'y pas de tendance particulière sur l'évolution des prix au cours du temps*<br>"
   ]
  },
  {
   "cell_type": "markdown",
   "id": "058db3e7",
   "metadata": {},
   "source": [
    ">> #### <font color='darkslateblue'> ***Moyenne mobile par trimestre***"
   ]
  },
  {
   "cell_type": "code",
   "execution_count": 66,
   "id": "9bed0ab8",
   "metadata": {},
   "outputs": [
    {
     "data": {
      "text/html": [
       "<div>\n",
       "<style scoped>\n",
       "    .dataframe tbody tr th:only-of-type {\n",
       "        vertical-align: middle;\n",
       "    }\n",
       "\n",
       "    .dataframe tbody tr th {\n",
       "        vertical-align: top;\n",
       "    }\n",
       "\n",
       "    .dataframe thead th {\n",
       "        text-align: right;\n",
       "    }\n",
       "</style>\n",
       "<table border=\"1\" class=\"dataframe\">\n",
       "  <thead>\n",
       "    <tr style=\"text-align: right;\">\n",
       "      <th></th>\n",
       "      <th>price</th>\n",
       "      <th>categ</th>\n",
       "    </tr>\n",
       "    <tr>\n",
       "      <th>date</th>\n",
       "      <th></th>\n",
       "      <th></th>\n",
       "    </tr>\n",
       "  </thead>\n",
       "  <tbody>\n",
       "    <tr>\n",
       "      <th>2021-03-31</th>\n",
       "      <td>482597.702961</td>\n",
       "      <td>11806.0</td>\n",
       "    </tr>\n",
       "    <tr>\n",
       "      <th>2021-04-30</th>\n",
       "      <td>476353.666829</td>\n",
       "      <td>10623.0</td>\n",
       "    </tr>\n",
       "    <tr>\n",
       "      <th>2021-05-31</th>\n",
       "      <td>493083.108188</td>\n",
       "      <td>11461.0</td>\n",
       "    </tr>\n",
       "    <tr>\n",
       "      <th>2021-06-30</th>\n",
       "      <td>484210.743414</td>\n",
       "      <td>12640.0</td>\n",
       "    </tr>\n",
       "    <tr>\n",
       "      <th>2021-07-31</th>\n",
       "      <td>482905.219094</td>\n",
       "      <td>13151.0</td>\n",
       "    </tr>\n",
       "  </tbody>\n",
       "</table>\n",
       "</div>"
      ],
      "text/plain": [
       "                    price    categ\n",
       "date                              \n",
       "2021-03-31  482597.702961  11806.0\n",
       "2021-04-30  476353.666829  10623.0\n",
       "2021-05-31  493083.108188  11461.0\n",
       "2021-06-30  484210.743414  12640.0\n",
       "2021-07-31  482905.219094  13151.0"
      ]
     },
     "execution_count": 66,
     "metadata": {},
     "output_type": "execute_result"
    }
   ],
   "source": [
    "#Sommer par mois les prix\n",
    "mm_mois = ca_m.resample('M').sum()\n",
    "mm_mois.head()"
   ]
  },
  {
   "cell_type": "code",
   "execution_count": 67,
   "id": "53700fec",
   "metadata": {},
   "outputs": [],
   "source": [
    "# Moyenne mobile par trimestre\n",
    "mm_mois['mm'] = mm_mois['price'].rolling(4).mean()"
   ]
  },
  {
   "cell_type": "code",
   "execution_count": 68,
   "id": "43d77c3d",
   "metadata": {},
   "outputs": [
    {
     "data": {
      "image/png": "[encoded data removed]",
      "text/plain": [
       "<Figure size 1440x720 with 1 Axes>"
      ]
     },
     "metadata": {
      "needs_background": "light"
     },
     "output_type": "display_data"
    }
   ],
   "source": [
    "# Représentation graphique\n",
    "mm_mois['mm'].plot(figsize=(20,10))\n",
    "plt.grid()\n",
    "plt.title(\"Moyenne mobile par trimestre\", fontname='Serif', fontsize=18)\n",
    "plt.ylabel(\"Moyenne mobile\")\n",
    "plt.show()"
   ]
  },
  {
   "cell_type": "markdown",
   "id": "9ea2b710",
   "metadata": {},
   "source": [
    "### <span style='font-family:serif'><font color='blue'> *Les moyennes mobiles ici nous nontrent qu'il n'y pas de tendance particulière sur l'évolution des prix au cours du temps*<br>"
   ]
  },
  {
   "cell_type": "markdown",
   "id": "dd2da14d",
   "metadata": {},
   "source": [
    "> ### <font color='lateorange'>***3. Les tops et les flops***"
   ]
  },
  {
   "cell_type": "code",
   "execution_count": 69,
   "id": "78030d5d",
   "metadata": {},
   "outputs": [
    {
     "name": "stdout",
     "output_type": "stream",
     "text": [
      "\u001b[1mLes tops de nos clients:\n",
      "\u001b[94m 1_369    2252\n",
      "1_417    2189\n",
      "1_414    2180\n",
      "1_498    2128\n",
      "1_425    2096\n",
      "Name: id_prod, dtype: int64 \u001b[0m \n",
      "\n",
      "\u001b[1mLes flops de nos clients:\n",
      "\u001b[94m 0_1601    1\n",
      "0_1151    1\n",
      "0_1728    1\n",
      "0_1284    1\n",
      "0_1633    1\n",
      "Name: id_prod, dtype: int64 \u001b[0m\n"
     ]
    }
   ],
   "source": [
    "# Compter le nombre produits vendus (id_prod)\n",
    "tf = datafinal['id_prod'].value_counts()\n",
    "\n",
    "print(color.BOLD + \"Les tops de nos clients:\\n\" + color.BLUE, tf.head(), color.END ,\"\\n\")\n",
    "\n",
    "print(color.BOLD + \"Les flops de nos clients:\\n\" + color.BLUE, tf.tail(), color.END )"
   ]
  },
  {
   "cell_type": "markdown",
   "id": "7ee06771",
   "metadata": {},
   "source": [
    "> ### <font color='lateorange'>***4. La répartition par catégorie***"
   ]
  },
  {
   "cell_type": "code",
   "execution_count": 70,
   "id": "87d8f52f",
   "metadata": {},
   "outputs": [
    {
     "data": {
      "image/png": "[encoded data removed]",
      "text/plain": [
       "<Figure size 1080x576 with 1 Axes>"
      ]
     },
     "metadata": {
      "needs_background": "light"
     },
     "output_type": "display_data"
    },
    {
     "data": {
      "image/png": "[encoded data removed]",
      "text/plain": [
       "<Figure size 2160x720 with 1 Axes>"
      ]
     },
     "metadata": {},
     "output_type": "display_data"
    }
   ],
   "source": [
    "# CA Mensuelle par categorie\n",
    "plt.figure (figsize=(15,8))\n",
    "ca_m['price'].loc[ca_m['categ']==0].resample('M').sum().plot(label= 'categorie 0 ', c='red')\n",
    "ca_m['price'].loc[ca_m['categ']==1].resample('M').sum().plot(label= 'categorie 1 ',c='orange')\n",
    "ca_m['price'].loc[ca_m['categ']==2].resample('M').sum().plot(label= 'categorie 2 ',c='green')\n",
    "plt.title(\"Chiffre d'affaire Mensuelle par catégories\", fontname='Serif', fontsize=18)\n",
    "plt.legend()\n",
    "plt.grid()\n",
    "plt.show()\n",
    "\n",
    "# Représentation des ventes par catégorie (en camembert)\n",
    "datafinal[\"categ\"].value_counts().plot.pie(autopct='%.2f%%', figsize=(30,10), wedgeprops= {'linewidth' : 2, 'edgecolor' : 'white'})\n",
    "plt.title(\"Nombre de ventes de livres par catégorie\", fontname='Serif', fontsize=18)\n",
    "plt.legend()\n",
    "plt.show()"
   ]
  },
  {
   "cell_type": "markdown",
   "id": "4563f5d9",
   "metadata": {},
   "source": [
    "### <span style='font-family:serif'><font color='darkslateblue'> *Le premier graphe <font color='blue'>représente l'évolution du chiffre d'affaire pour chaque catégorie.*<br><br> <span style='font-family:serif'><font color='darkslateblue'> *Le deuxième graphe<font color='blue'>, quant à lui, représente le nombre de vente par catégorie. Ici on voit que les produits les plus vendus sont ceux du catégorie 0 et les moins vendus sont ceux du catégorie 2.*<br><br>"
   ]
  },
  {
   "cell_type": "markdown",
   "id": "ebd27bee",
   "metadata": {},
   "source": [
    "> ### <font color='lateorange'>***5. Le Chiffre d'affaire par clients***"
   ]
  },
  {
   "cell_type": "code",
   "execution_count": 71,
   "id": "a59f5bd5",
   "metadata": {},
   "outputs": [
    {
     "data": {
      "text/html": [
       "<div>\n",
       "<style scoped>\n",
       "    .dataframe tbody tr th:only-of-type {\n",
       "        vertical-align: middle;\n",
       "    }\n",
       "\n",
       "    .dataframe tbody tr th {\n",
       "        vertical-align: top;\n",
       "    }\n",
       "\n",
       "    .dataframe thead th {\n",
       "        text-align: right;\n",
       "    }\n",
       "</style>\n",
       "<table border=\"1\" class=\"dataframe\">\n",
       "  <thead>\n",
       "    <tr style=\"text-align: right;\">\n",
       "      <th></th>\n",
       "      <th>client_id</th>\n",
       "      <th>price</th>\n",
       "      <th>type_client</th>\n",
       "    </tr>\n",
       "  </thead>\n",
       "  <tbody>\n",
       "    <tr>\n",
       "      <th>677</th>\n",
       "      <td>c_1609</td>\n",
       "      <td>324033.350000</td>\n",
       "      <td>pro</td>\n",
       "    </tr>\n",
       "    <tr>\n",
       "      <th>4388</th>\n",
       "      <td>c_4958</td>\n",
       "      <td>289760.340000</td>\n",
       "      <td>pro</td>\n",
       "    </tr>\n",
       "    <tr>\n",
       "      <th>6337</th>\n",
       "      <td>c_6714</td>\n",
       "      <td>153703.648641</td>\n",
       "      <td>pro</td>\n",
       "    </tr>\n",
       "    <tr>\n",
       "      <th>2724</th>\n",
       "      <td>c_3454</td>\n",
       "      <td>113690.294320</td>\n",
       "      <td>pro</td>\n",
       "    </tr>\n",
       "    <tr>\n",
       "      <th>2513</th>\n",
       "      <td>c_3263</td>\n",
       "      <td>5276.870000</td>\n",
       "      <td>lambda</td>\n",
       "    </tr>\n",
       "    <tr>\n",
       "      <th>...</th>\n",
       "      <td>...</td>\n",
       "      <td>...</td>\n",
       "      <td>...</td>\n",
       "    </tr>\n",
       "    <tr>\n",
       "      <th>4044</th>\n",
       "      <td>c_4648</td>\n",
       "      <td>11.200000</td>\n",
       "      <td>lambda</td>\n",
       "    </tr>\n",
       "    <tr>\n",
       "      <th>1556</th>\n",
       "      <td>c_240</td>\n",
       "      <td>11.060000</td>\n",
       "      <td>lambda</td>\n",
       "    </tr>\n",
       "    <tr>\n",
       "      <th>7889</th>\n",
       "      <td>c_8114</td>\n",
       "      <td>9.980000</td>\n",
       "      <td>lambda</td>\n",
       "    </tr>\n",
       "    <tr>\n",
       "      <th>7918</th>\n",
       "      <td>c_8140</td>\n",
       "      <td>8.300000</td>\n",
       "      <td>lambda</td>\n",
       "    </tr>\n",
       "    <tr>\n",
       "      <th>8151</th>\n",
       "      <td>c_8351</td>\n",
       "      <td>6.310000</td>\n",
       "      <td>lambda</td>\n",
       "    </tr>\n",
       "  </tbody>\n",
       "</table>\n",
       "<p>8600 rows × 3 columns</p>\n",
       "</div>"
      ],
      "text/plain": [
       "     client_id          price type_client\n",
       "677     c_1609  324033.350000         pro\n",
       "4388    c_4958  289760.340000         pro\n",
       "6337    c_6714  153703.648641         pro\n",
       "2724    c_3454  113690.294320         pro\n",
       "2513    c_3263    5276.870000      lambda\n",
       "...        ...            ...         ...\n",
       "4044    c_4648      11.200000      lambda\n",
       "1556     c_240      11.060000      lambda\n",
       "7889    c_8114       9.980000      lambda\n",
       "7918    c_8140       8.300000      lambda\n",
       "8151    c_8351       6.310000      lambda\n",
       "\n",
       "[8600 rows x 3 columns]"
      ]
     },
     "execution_count": 71,
     "metadata": {},
     "output_type": "execute_result"
    }
   ],
   "source": [
    "ca_cl"
   ]
  },
  {
   "cell_type": "code",
   "execution_count": 72,
   "id": "ae810ea9",
   "metadata": {},
   "outputs": [
    {
     "data": {
      "text/html": [
       "<div>\n",
       "<style scoped>\n",
       "    .dataframe tbody tr th:only-of-type {\n",
       "        vertical-align: middle;\n",
       "    }\n",
       "\n",
       "    .dataframe tbody tr th {\n",
       "        vertical-align: top;\n",
       "    }\n",
       "\n",
       "    .dataframe thead th {\n",
       "        text-align: right;\n",
       "    }\n",
       "</style>\n",
       "<table border=\"1\" class=\"dataframe\">\n",
       "  <thead>\n",
       "    <tr style=\"text-align: right;\">\n",
       "      <th></th>\n",
       "      <th>type_client</th>\n",
       "      <th>price</th>\n",
       "    </tr>\n",
       "  </thead>\n",
       "  <tbody>\n",
       "    <tr>\n",
       "      <th>0</th>\n",
       "      <td>lambda</td>\n",
       "      <td>1.097640e+07</td>\n",
       "    </tr>\n",
       "    <tr>\n",
       "      <th>1</th>\n",
       "      <td>pro</td>\n",
       "      <td>8.811876e+05</td>\n",
       "    </tr>\n",
       "  </tbody>\n",
       "</table>\n",
       "</div>"
      ],
      "text/plain": [
       "  type_client         price\n",
       "0      lambda  1.097640e+07\n",
       "1         pro  8.811876e+05"
      ]
     },
     "execution_count": 72,
     "metadata": {},
     "output_type": "execute_result"
    }
   ],
   "source": [
    "# CA par type de client\n",
    "ca_type = ca_cl.groupby('type_client').agg({'price':'sum'})\n",
    "ca_type = ca_type.reset_index()\n",
    "ca_type"
   ]
  },
  {
   "cell_type": "code",
   "execution_count": 73,
   "id": "26bce34b",
   "metadata": {},
   "outputs": [
    {
     "name": "stdout",
     "output_type": "stream",
     "text": [
      "\u001b[94m\u001b[1mLe CA des 4 clients pro représentent à eux seuls, \u001b[91m7.43 %\u001b[94m du CA total.\n",
      "\u001b[94m\u001b[1mCe qui fait un CA de\u001b[91m 881,187.63 \u001b[94m€ pour les tous les client pro.\n",
      "\n",
      "\u001b[94m\u001b[1mLe CA du reste des clients lambda représentent , \u001b[91m92.57 %\u001b[94m du CA total.\n",
      "\u001b[94m\u001b[1mCe qui fait un CA de\u001b[91m 10,976,398.55 \u001b[94m€ pour tous les client lambda.\n",
      "\n"
     ]
    }
   ],
   "source": [
    "# Pourcentage du CA des clients pro\n",
    "capro = ca_cl.loc[ca_cl['type_client'] == 'pro', 'price'].sum()\n",
    "pro_pct = capro / ca * 100\n",
    "print(color.BLUE + color.BOLD + \"Le CA des 4 clients pro représentent à eux seuls, \" \n",
    "      + color.RED + \"%.2f\" % pro_pct, \"%\" + color.BLUE + \" du CA total.\")\n",
    "print(color.BLUE + color.BOLD + \"Ce qui fait un CA de\" + color.RED , f\"{round(capro,2):,}\", color.BLUE + \"€ pour les tous les client pro.\\n\")\n",
    "\n",
    "# Pourcentage du CA des clients lambda\n",
    "calam = ca_cl.loc[ca_cl['type_client'] == 'lambda', 'price'].sum()\n",
    "lam_pct = calam / ca * 100\n",
    "print(color.BLUE + color.BOLD + \"Le CA du reste des clients lambda représentent , \" \n",
    "      + color.RED + \"%.2f\" % lam_pct, \"%\" + color.BLUE + \" du CA total.\")\n",
    "print(color.BLUE + color.BOLD + \"Ce qui fait un CA de\" + color.RED , f\"{round(calam,2):,}\", color.BLUE + \"€ pour tous les client lambda.\\n\")\n",
    "\n"
   ]
  },
  {
   "cell_type": "code",
   "execution_count": 74,
   "id": "fdf79f08",
   "metadata": {},
   "outputs": [
    {
     "data": {
      "image/png": "[encoded data removed]",
      "text/plain": [
       "<Figure size 2160x720 with 1 Axes>"
      ]
     },
     "metadata": {},
     "output_type": "display_data"
    }
   ],
   "source": [
    "#diagramme de repartition \n",
    "values = [capro, calam]\n",
    "names = ['pro','lambda']\n",
    "plt.figure(figsize=(30,10))\n",
    "plt.pie(values, labels=names, labeldistance=1.15, wedgeprops= {'linewidth' : 2, 'edgecolor' : 'white'},\n",
    "        autopct = lambda x: str(round(x, 2))+ '%')\n",
    "plt.title(\"\\nChiffre d'Affaire par type de clients\", fontname='Serif', fontsize=18)\n",
    "\n",
    "plt.show()"
   ]
  },
  {
   "cell_type": "markdown",
   "id": "9bc4e3dc",
   "metadata": {},
   "source": [
    "> ### <font color='lateorange'>***6. La courbe de lorenz***"
   ]
  },
  {
   "cell_type": "code",
   "execution_count": 75,
   "id": "7d0ad346",
   "metadata": {},
   "outputs": [
    {
     "data": {
      "text/html": [
       "<div>\n",
       "<style scoped>\n",
       "    .dataframe tbody tr th:only-of-type {\n",
       "        vertical-align: middle;\n",
       "    }\n",
       "\n",
       "    .dataframe tbody tr th {\n",
       "        vertical-align: top;\n",
       "    }\n",
       "\n",
       "    .dataframe thead th {\n",
       "        text-align: right;\n",
       "    }\n",
       "</style>\n",
       "<table border=\"1\" class=\"dataframe\">\n",
       "  <thead>\n",
       "    <tr style=\"text-align: right;\">\n",
       "      <th></th>\n",
       "      <th>client_id</th>\n",
       "      <th>price</th>\n",
       "      <th>type_client</th>\n",
       "    </tr>\n",
       "  </thead>\n",
       "  <tbody>\n",
       "    <tr>\n",
       "      <th>2513</th>\n",
       "      <td>c_3263</td>\n",
       "      <td>5276.87</td>\n",
       "      <td>lambda</td>\n",
       "    </tr>\n",
       "    <tr>\n",
       "      <th>634</th>\n",
       "      <td>c_1570</td>\n",
       "      <td>5271.62</td>\n",
       "      <td>lambda</td>\n",
       "    </tr>\n",
       "    <tr>\n",
       "      <th>2108</th>\n",
       "      <td>c_2899</td>\n",
       "      <td>5214.05</td>\n",
       "      <td>lambda</td>\n",
       "    </tr>\n",
       "    <tr>\n",
       "      <th>1268</th>\n",
       "      <td>c_2140</td>\n",
       "      <td>5208.82</td>\n",
       "      <td>lambda</td>\n",
       "    </tr>\n",
       "    <tr>\n",
       "      <th>7006</th>\n",
       "      <td>c_7319</td>\n",
       "      <td>5155.77</td>\n",
       "      <td>lambda</td>\n",
       "    </tr>\n",
       "  </tbody>\n",
       "</table>\n",
       "</div>"
      ],
      "text/plain": [
       "     client_id    price type_client\n",
       "2513    c_3263  5276.87      lambda\n",
       "634     c_1570  5271.62      lambda\n",
       "2108    c_2899  5214.05      lambda\n",
       "1268    c_2140  5208.82      lambda\n",
       "7006    c_7319  5155.77      lambda"
      ]
     },
     "execution_count": 75,
     "metadata": {},
     "output_type": "execute_result"
    }
   ],
   "source": [
    "# Filtre sur les clients lambda\n",
    "ca_client_lambda = ca_cl.loc[ca_cl['type_client'] == 'lambda',:]\n",
    "ca_client_lambda.sort_values('price', ascending=False)\n",
    "ca_client_lambda.head()"
   ]
  },
  {
   "cell_type": "code",
   "execution_count": 76,
   "id": "8b7e3300",
   "metadata": {},
   "outputs": [
    {
     "data": {
      "image/png": "[encoded data removed]",
      "text/plain": [
       "<Figure size 1080x720 with 1 Axes>"
      ]
     },
     "metadata": {
      "needs_background": "light"
     },
     "output_type": "display_data"
    }
   ],
   "source": [
    "#courbe de lorenz\n",
    "ca_clt = ca_cl[ca_cl['price'] > 0]\n",
    "p = ca_clt['price'].values\n",
    "n = len(p)\n",
    "lorenz = np.cumsum(np.sort(p)) / p.sum()\n",
    "lorenz = np.append([0],lorenz) # La courbe de Lorenz commence à 0\n",
    "\n",
    "# la courbe de lorenz sans les clients pro\n",
    "ca_lam = ca_client_lambda[ca_client_lambda['price'].notnull()]\n",
    "p2 = ca_lam['price'].values\n",
    "n2 = len(p2)\n",
    "lorenz2 = np.cumsum(np.sort(p2)) / p2.sum()\n",
    "lorenz2 = np.append([0],lorenz2) # La courbe de Lorenz commence à 0\n",
    "\n",
    "# Affichage de la courbe et de la droite xaxis\n",
    "xaxis = np.linspace(0-1/n,1+1/n,len(lorenz))\n",
    "xaxis2 = np.linspace(0-1/n2,1+1/n2,len(lorenz2))\n",
    "\n",
    "# Traçage\n",
    "plt.figure(figsize=(15,10))\n",
    "plt.plot(xaxis,lorenz,drawstyle='steps-post', linewidth=1, c='black') # La courbe de lorenz principal\n",
    "plt.plot(xaxis2,lorenz2,drawstyle='steps-post', linewidth=1, c='darkblue',ls='--') # La Courbe sans les pro\n",
    "plt.fill_between(xaxis,lorenz,0,color='lightskyblue') # colore en bleu la surface inférieur de la courbe principale\n",
    "plt.plot([0,1], [0,1], \"r\", linewidth=1) # Tracer la bissectrice en rouge\n",
    "plt.fill_between(xaxis, xaxis, lorenz, color='orange', alpha=0.5) # Colore en orange la surface entre la bissectrice et la courbe\n",
    "plt.title(\"Courbe de Lorenz (Répartition du CA par clients)\", fontname='Serif', fontsize=18)\n",
    "plt.xlabel('Parts cumulées des achats')\n",
    "plt.ylabel('Parts cumulées du CA')\n",
    "plt.grid()\n",
    "plt.show()\n"
   ]
  },
  {
   "cell_type": "markdown",
   "id": "1a521dce",
   "metadata": {},
   "source": [
    "### <span style='font-family:serif'><font color='blue'> *On peut en conclure une certaine équi-répartition en constatant que la courbe est plus proche de la droite. Pour appuyer sur cette idée, on va calculer l'indice de gini qui représente la valeur de l'aire entre la droite de répartiton parfaite et la coube de Lorenz.*<br>"
   ]
  },
  {
   "cell_type": "code",
   "execution_count": 77,
   "id": "6d71ad40",
   "metadata": {},
   "outputs": [
    {
     "name": "stdout",
     "output_type": "stream",
     "text": [
      "\n",
      " \u001b[94m\u001b[1mL'indice de gini est de\u001b[91m 0.45 \u001b[94m pour la courbe de lorenz principale.\n",
      "\n",
      " \u001b[94m\u001b[1mSi on enlève les clients 'pro', on obtient un indice de gini qui vaut :\u001b[91m 0.4 \u001b[94m\n",
      "\n"
     ]
    }
   ],
   "source": [
    "# L'indice de Gini\n",
    "AUC = (lorenz.sum() - lorenz[-1]/2 - lorenz[0]/2)/n # Surface sous la courbe de Lorenz. Le premier segment (lorenz[0]) est à moitié en dessous de 0, on le coupe donc en 2, on fait de même pour le dernier segment lorenz[-1] qui est à moitié au dessus de 1.\n",
    "S = 0.5 - AUC # surface entre la première bissectrice et le courbe de Lorenz\n",
    "gini = 2*S\n",
    "\n",
    "# L'indice de Gini sans les clients pro\n",
    "AUC2 = (lorenz2.sum() - lorenz2[-1]/2 - lorenz2[0]/2)/n2 # Surface sous la courbe de Lorenz. Le premier segment (lorenz[0]) est à moitié en dessous de 0, on le coupe donc en 2, on fait de même pour le dernier segment lorenz[-1] qui est à moitié au dessus de 1.\n",
    "S2 = 0.5 - AUC2 # surface entre la première bissectrice et le courbe de Lorenz\n",
    "gini2 = 2*S2\n",
    "\n",
    "print(\"\\n\", color.BLUE + color.BOLD + \"L'indice de gini est de\" \n",
    "      + color.RED , f\"{round(gini,2):,}\", color.BLUE + \" pour la courbe de lorenz principale.\")\n",
    "print(\"\\n\", color.BLUE + color.BOLD + \"Si on enlève les clients 'pro', on obtient un indice de gini qui vaut :\"\n",
    "      + color.RED , f\"{round(gini2,2):,}\", color.BLUE + \"\\n\")"
   ]
  },
  {
   "cell_type": "markdown",
   "id": "655fe55c",
   "metadata": {},
   "source": [
    "### <span style='font-family:serif'><font color='blue'> *L'indice de Gini = 0.45 nous confirme bien une rémunération égalitaire du chiffre d'affaire.*<br>"
   ]
  },
  {
   "cell_type": "markdown",
   "id": "999a384b",
   "metadata": {},
   "source": [
    "# <font color='blue'><span style='font-family:serif'>***PARTIE 2 : Demandes de Julie***"
   ]
  },
  {
   "cell_type": "markdown",
   "id": "b3fc0fed",
   "metadata": {},
   "source": [
    "### <font color='blue'>***Pré-traitement du datafinal***<br>"
   ]
  },
  {
   "cell_type": "code",
   "execution_count": 78,
   "id": "72f55950",
   "metadata": {},
   "outputs": [
    {
     "data": {
      "text/html": [
       "<div>\n",
       "<style scoped>\n",
       "    .dataframe tbody tr th:only-of-type {\n",
       "        vertical-align: middle;\n",
       "    }\n",
       "\n",
       "    .dataframe tbody tr th {\n",
       "        vertical-align: top;\n",
       "    }\n",
       "\n",
       "    .dataframe thead th {\n",
       "        text-align: right;\n",
       "    }\n",
       "</style>\n",
       "<table border=\"1\" class=\"dataframe\">\n",
       "  <thead>\n",
       "    <tr style=\"text-align: right;\">\n",
       "      <th></th>\n",
       "      <th>id_prod</th>\n",
       "      <th>date</th>\n",
       "      <th>session_id</th>\n",
       "      <th>client_id</th>\n",
       "      <th>price</th>\n",
       "      <th>categ</th>\n",
       "      <th>sex</th>\n",
       "      <th>birth</th>\n",
       "      <th>age</th>\n",
       "      <th>day</th>\n",
       "      <th>year</th>\n",
       "      <th>month</th>\n",
       "      <th>ym</th>\n",
       "      <th>type_client</th>\n",
       "      <th>tranche_age</th>\n",
       "    </tr>\n",
       "  </thead>\n",
       "  <tbody>\n",
       "    <tr>\n",
       "      <th>0</th>\n",
       "      <td>0_1259</td>\n",
       "      <td>2021-03-01 00:01:07.843138</td>\n",
       "      <td>s_1</td>\n",
       "      <td>c_329</td>\n",
       "      <td>11.99</td>\n",
       "      <td>0.0</td>\n",
       "      <td>f</td>\n",
       "      <td>1967</td>\n",
       "      <td>56</td>\n",
       "      <td>1</td>\n",
       "      <td>2021</td>\n",
       "      <td>March</td>\n",
       "      <td>2021March</td>\n",
       "      <td>lambda</td>\n",
       "      <td>51-60</td>\n",
       "    </tr>\n",
       "    <tr>\n",
       "      <th>1</th>\n",
       "      <td>0_1390</td>\n",
       "      <td>2021-03-01 00:02:26.047414</td>\n",
       "      <td>s_2</td>\n",
       "      <td>c_664</td>\n",
       "      <td>19.37</td>\n",
       "      <td>0.0</td>\n",
       "      <td>m</td>\n",
       "      <td>1960</td>\n",
       "      <td>63</td>\n",
       "      <td>1</td>\n",
       "      <td>2021</td>\n",
       "      <td>March</td>\n",
       "      <td>2021March</td>\n",
       "      <td>lambda</td>\n",
       "      <td>60+</td>\n",
       "    </tr>\n",
       "    <tr>\n",
       "      <th>2</th>\n",
       "      <td>0_1352</td>\n",
       "      <td>2021-03-01 00:02:38.311413</td>\n",
       "      <td>s_3</td>\n",
       "      <td>c_580</td>\n",
       "      <td>4.50</td>\n",
       "      <td>0.0</td>\n",
       "      <td>m</td>\n",
       "      <td>1988</td>\n",
       "      <td>35</td>\n",
       "      <td>1</td>\n",
       "      <td>2021</td>\n",
       "      <td>March</td>\n",
       "      <td>2021March</td>\n",
       "      <td>lambda</td>\n",
       "      <td>31-40</td>\n",
       "    </tr>\n",
       "    <tr>\n",
       "      <th>3</th>\n",
       "      <td>0_1458</td>\n",
       "      <td>2021-03-01 00:04:54.559692</td>\n",
       "      <td>s_4</td>\n",
       "      <td>c_7912</td>\n",
       "      <td>6.55</td>\n",
       "      <td>0.0</td>\n",
       "      <td>f</td>\n",
       "      <td>1989</td>\n",
       "      <td>34</td>\n",
       "      <td>1</td>\n",
       "      <td>2021</td>\n",
       "      <td>March</td>\n",
       "      <td>2021March</td>\n",
       "      <td>lambda</td>\n",
       "      <td>31-40</td>\n",
       "    </tr>\n",
       "    <tr>\n",
       "      <th>4</th>\n",
       "      <td>0_1358</td>\n",
       "      <td>2021-03-01 00:05:18.801198</td>\n",
       "      <td>s_5</td>\n",
       "      <td>c_2033</td>\n",
       "      <td>16.49</td>\n",
       "      <td>0.0</td>\n",
       "      <td>f</td>\n",
       "      <td>1956</td>\n",
       "      <td>67</td>\n",
       "      <td>1</td>\n",
       "      <td>2021</td>\n",
       "      <td>March</td>\n",
       "      <td>2021March</td>\n",
       "      <td>lambda</td>\n",
       "      <td>60+</td>\n",
       "    </tr>\n",
       "  </tbody>\n",
       "</table>\n",
       "</div>"
      ],
      "text/plain": [
       "  id_prod                       date session_id client_id  price  categ sex  \\\n",
       "0  0_1259 2021-03-01 00:01:07.843138        s_1     c_329  11.99    0.0   f   \n",
       "1  0_1390 2021-03-01 00:02:26.047414        s_2     c_664  19.37    0.0   m   \n",
       "2  0_1352 2021-03-01 00:02:38.311413        s_3     c_580   4.50    0.0   m   \n",
       "3  0_1458 2021-03-01 00:04:54.559692        s_4    c_7912   6.55    0.0   f   \n",
       "4  0_1358 2021-03-01 00:05:18.801198        s_5    c_2033  16.49    0.0   f   \n",
       "\n",
       "   birth  age  day  year  month         ym type_client tranche_age  \n",
       "0   1967   56    1  2021  March  2021March      lambda       51-60  \n",
       "1   1960   63    1  2021  March  2021March      lambda         60+  \n",
       "2   1988   35    1  2021  March  2021March      lambda       31-40  \n",
       "3   1989   34    1  2021  March  2021March      lambda       31-40  \n",
       "4   1956   67    1  2021  March  2021March      lambda         60+  "
      ]
     },
     "execution_count": 78,
     "metadata": {},
     "output_type": "execute_result"
    }
   ],
   "source": [
    "# Colonne tranche d'âge\n",
    "datafinal.loc[(datafinal['age'] <= 20), 'tranche_age'] = '18-20'\n",
    "datafinal.loc[(datafinal['age'] > 21) & (datafinal['age'] <= 30), 'tranche_age'] = '21-30'\n",
    "datafinal.loc[(datafinal['age'] > 31) & (datafinal['age'] <= 40), 'tranche_age'] = '31-40'\n",
    "datafinal.loc[(datafinal['age'] > 41) & (datafinal['age'] <= 50), 'tranche_age'] = '41-50'\n",
    "datafinal.loc[(datafinal['age'] > 51) & (datafinal['age'] <= 60), 'tranche_age'] = '51-60'\n",
    "datafinal.loc[(datafinal['age'] > 60), 'tranche_age'] = '60+'\n",
    "\n",
    "datafinal.head()"
   ]
  },
  {
   "cell_type": "code",
   "execution_count": 79,
   "id": "58859bac",
   "metadata": {},
   "outputs": [
    {
     "data": {
      "text/html": [
       "<div>\n",
       "<style scoped>\n",
       "    .dataframe tbody tr th:only-of-type {\n",
       "        vertical-align: middle;\n",
       "    }\n",
       "\n",
       "    .dataframe tbody tr th {\n",
       "        vertical-align: top;\n",
       "    }\n",
       "\n",
       "    .dataframe thead th {\n",
       "        text-align: right;\n",
       "    }\n",
       "</style>\n",
       "<table border=\"1\" class=\"dataframe\">\n",
       "  <thead>\n",
       "    <tr style=\"text-align: right;\">\n",
       "      <th></th>\n",
       "      <th>date</th>\n",
       "      <th>id_prod</th>\n",
       "      <th>session_id</th>\n",
       "      <th>client_id</th>\n",
       "      <th>price</th>\n",
       "      <th>categ</th>\n",
       "      <th>sex</th>\n",
       "      <th>age</th>\n",
       "      <th>tranche_age</th>\n",
       "    </tr>\n",
       "  </thead>\n",
       "  <tbody>\n",
       "    <tr>\n",
       "      <th>0</th>\n",
       "      <td>2021-03-01 00:01:07.843138</td>\n",
       "      <td>0_1259</td>\n",
       "      <td>s_1</td>\n",
       "      <td>c_329</td>\n",
       "      <td>11.99</td>\n",
       "      <td>0.0</td>\n",
       "      <td>f</td>\n",
       "      <td>56</td>\n",
       "      <td>51-60</td>\n",
       "    </tr>\n",
       "    <tr>\n",
       "      <th>1</th>\n",
       "      <td>2021-03-01 00:02:26.047414</td>\n",
       "      <td>0_1390</td>\n",
       "      <td>s_2</td>\n",
       "      <td>c_664</td>\n",
       "      <td>19.37</td>\n",
       "      <td>0.0</td>\n",
       "      <td>m</td>\n",
       "      <td>63</td>\n",
       "      <td>60+</td>\n",
       "    </tr>\n",
       "    <tr>\n",
       "      <th>2</th>\n",
       "      <td>2021-03-01 00:02:38.311413</td>\n",
       "      <td>0_1352</td>\n",
       "      <td>s_3</td>\n",
       "      <td>c_580</td>\n",
       "      <td>4.50</td>\n",
       "      <td>0.0</td>\n",
       "      <td>m</td>\n",
       "      <td>35</td>\n",
       "      <td>31-40</td>\n",
       "    </tr>\n",
       "    <tr>\n",
       "      <th>3</th>\n",
       "      <td>2021-03-01 00:04:54.559692</td>\n",
       "      <td>0_1458</td>\n",
       "      <td>s_4</td>\n",
       "      <td>c_7912</td>\n",
       "      <td>6.55</td>\n",
       "      <td>0.0</td>\n",
       "      <td>f</td>\n",
       "      <td>34</td>\n",
       "      <td>31-40</td>\n",
       "    </tr>\n",
       "    <tr>\n",
       "      <th>4</th>\n",
       "      <td>2021-03-01 00:05:18.801198</td>\n",
       "      <td>0_1358</td>\n",
       "      <td>s_5</td>\n",
       "      <td>c_2033</td>\n",
       "      <td>16.49</td>\n",
       "      <td>0.0</td>\n",
       "      <td>f</td>\n",
       "      <td>67</td>\n",
       "      <td>60+</td>\n",
       "    </tr>\n",
       "  </tbody>\n",
       "</table>\n",
       "</div>"
      ],
      "text/plain": [
       "                        date id_prod session_id client_id  price  categ sex  \\\n",
       "0 2021-03-01 00:01:07.843138  0_1259        s_1     c_329  11.99    0.0   f   \n",
       "1 2021-03-01 00:02:26.047414  0_1390        s_2     c_664  19.37    0.0   m   \n",
       "2 2021-03-01 00:02:38.311413  0_1352        s_3     c_580   4.50    0.0   m   \n",
       "3 2021-03-01 00:04:54.559692  0_1458        s_4    c_7912   6.55    0.0   f   \n",
       "4 2021-03-01 00:05:18.801198  0_1358        s_5    c_2033  16.49    0.0   f   \n",
       "\n",
       "   age tranche_age  \n",
       "0   56       51-60  \n",
       "1   63         60+  \n",
       "2   35       31-40  \n",
       "3   34       31-40  \n",
       "4   67         60+  "
      ]
     },
     "execution_count": 79,
     "metadata": {},
     "output_type": "execute_result"
    }
   ],
   "source": [
    "#creation du df d'analyse\n",
    "dfa = datafinal[['date','id_prod','session_id','client_id','price','categ','sex','age','tranche_age']]\n",
    "dfa.head()"
   ]
  },
  {
   "cell_type": "code",
   "execution_count": 80,
   "id": "16f8ea7f",
   "metadata": {},
   "outputs": [],
   "source": [
    "# Modification des colonnes en category\n",
    "dfa['tranche_age'].astype('category').cat.codes\n",
    "dfa['sex'].astype('category').cat.codes\n",
    "dfa['categ'].astype('category').cat.codes\n",
    "\n",
    "# Transformation de date en mois jour\n",
    "dfa['date']=dfa['date'].dt.strftime('%Y-%m')"
   ]
  },
  {
   "cell_type": "code",
   "execution_count": 81,
   "id": "a664bfff",
   "metadata": {},
   "outputs": [
    {
     "data": {
      "text/html": [
       "<div>\n",
       "<style scoped>\n",
       "    .dataframe tbody tr th:only-of-type {\n",
       "        vertical-align: middle;\n",
       "    }\n",
       "\n",
       "    .dataframe tbody tr th {\n",
       "        vertical-align: top;\n",
       "    }\n",
       "\n",
       "    .dataframe thead th {\n",
       "        text-align: right;\n",
       "    }\n",
       "</style>\n",
       "<table border=\"1\" class=\"dataframe\">\n",
       "  <thead>\n",
       "    <tr style=\"text-align: right;\">\n",
       "      <th></th>\n",
       "      <th>date</th>\n",
       "      <th>id_prod</th>\n",
       "      <th>session_id</th>\n",
       "      <th>client_id</th>\n",
       "      <th>price</th>\n",
       "      <th>categ</th>\n",
       "      <th>sex</th>\n",
       "      <th>age</th>\n",
       "      <th>tranche_age</th>\n",
       "    </tr>\n",
       "  </thead>\n",
       "  <tbody>\n",
       "    <tr>\n",
       "      <th>0</th>\n",
       "      <td>2021-03</td>\n",
       "      <td>0_1259</td>\n",
       "      <td>s_1</td>\n",
       "      <td>c_329</td>\n",
       "      <td>11.99</td>\n",
       "      <td>0.0</td>\n",
       "      <td>f</td>\n",
       "      <td>56</td>\n",
       "      <td>51-60</td>\n",
       "    </tr>\n",
       "    <tr>\n",
       "      <th>1</th>\n",
       "      <td>2021-03</td>\n",
       "      <td>0_1390</td>\n",
       "      <td>s_2</td>\n",
       "      <td>c_664</td>\n",
       "      <td>19.37</td>\n",
       "      <td>0.0</td>\n",
       "      <td>m</td>\n",
       "      <td>63</td>\n",
       "      <td>60+</td>\n",
       "    </tr>\n",
       "    <tr>\n",
       "      <th>2</th>\n",
       "      <td>2021-03</td>\n",
       "      <td>0_1352</td>\n",
       "      <td>s_3</td>\n",
       "      <td>c_580</td>\n",
       "      <td>4.50</td>\n",
       "      <td>0.0</td>\n",
       "      <td>m</td>\n",
       "      <td>35</td>\n",
       "      <td>31-40</td>\n",
       "    </tr>\n",
       "    <tr>\n",
       "      <th>3</th>\n",
       "      <td>2021-03</td>\n",
       "      <td>0_1458</td>\n",
       "      <td>s_4</td>\n",
       "      <td>c_7912</td>\n",
       "      <td>6.55</td>\n",
       "      <td>0.0</td>\n",
       "      <td>f</td>\n",
       "      <td>34</td>\n",
       "      <td>31-40</td>\n",
       "    </tr>\n",
       "    <tr>\n",
       "      <th>4</th>\n",
       "      <td>2021-03</td>\n",
       "      <td>0_1358</td>\n",
       "      <td>s_5</td>\n",
       "      <td>c_2033</td>\n",
       "      <td>16.49</td>\n",
       "      <td>0.0</td>\n",
       "      <td>f</td>\n",
       "      <td>67</td>\n",
       "      <td>60+</td>\n",
       "    </tr>\n",
       "  </tbody>\n",
       "</table>\n",
       "</div>"
      ],
      "text/plain": [
       "      date id_prod session_id client_id  price  categ sex  age tranche_age\n",
       "0  2021-03  0_1259        s_1     c_329  11.99    0.0   f   56       51-60\n",
       "1  2021-03  0_1390        s_2     c_664  19.37    0.0   m   63         60+\n",
       "2  2021-03  0_1352        s_3     c_580   4.50    0.0   m   35       31-40\n",
       "3  2021-03  0_1458        s_4    c_7912   6.55    0.0   f   34       31-40\n",
       "4  2021-03  0_1358        s_5    c_2033  16.49    0.0   f   67         60+"
      ]
     },
     "execution_count": 81,
     "metadata": {},
     "output_type": "execute_result"
    }
   ],
   "source": [
    "# Suppression du mois d'octobre dans dfa\n",
    "dfa.drop(dfa.loc[dfa['date']==2021-10].index,inplace=True)\n",
    "\n",
    "# Suppression des 4 gros clients// potentiellement pers moral dans dfa\n",
    "list_gros_clt = ['c_1609','c_6714','c_3454','c_4958']\n",
    "dfa = dfa[~dfa['client_id'].isin(list_gros_clt)]\n",
    "dfa.head()"
   ]
  },
  {
   "cell_type": "markdown",
   "id": "253b21cd",
   "metadata": {},
   "source": [
    "> ### <font color='lateorange'>***1. Le lien entre le genre d'un client et les catégories de livres achetés <font color='darkcyan'>(Qualicatives / Qualicatives)***"
   ]
  },
  {
   "cell_type": "markdown",
   "id": "61a81fa3",
   "metadata": {},
   "source": [
    "### <span style='font-family:serif'><font color='green'> 2 variables qualitatives donc test d'indépendance du Khi-2.<br> <font color='red'> Condition : pas moins de 5 valeurs par cases"
   ]
  },
  {
   "cell_type": "code",
   "execution_count": 82,
   "id": "78861a15",
   "metadata": {},
   "outputs": [
    {
     "data": {
      "text/html": [
       "<div>\n",
       "<style scoped>\n",
       "    .dataframe tbody tr th:only-of-type {\n",
       "        vertical-align: middle;\n",
       "    }\n",
       "\n",
       "    .dataframe tbody tr th {\n",
       "        vertical-align: top;\n",
       "    }\n",
       "\n",
       "    .dataframe thead th {\n",
       "        text-align: right;\n",
       "    }\n",
       "</style>\n",
       "<table border=\"1\" class=\"dataframe\">\n",
       "  <thead>\n",
       "    <tr style=\"text-align: right;\">\n",
       "      <th>sex</th>\n",
       "      <th>f</th>\n",
       "      <th>m</th>\n",
       "    </tr>\n",
       "    <tr>\n",
       "      <th>categ</th>\n",
       "      <th></th>\n",
       "      <th></th>\n",
       "    </tr>\n",
       "  </thead>\n",
       "  <tbody>\n",
       "    <tr>\n",
       "      <th>0.0</th>\n",
       "      <td>206220</td>\n",
       "      <td>209460</td>\n",
       "    </tr>\n",
       "    <tr>\n",
       "      <th>1.0</th>\n",
       "      <td>114899</td>\n",
       "      <td>112270</td>\n",
       "    </tr>\n",
       "    <tr>\n",
       "      <th>2.0</th>\n",
       "      <td>17283</td>\n",
       "      <td>19200</td>\n",
       "    </tr>\n",
       "  </tbody>\n",
       "</table>\n",
       "</div>"
      ],
      "text/plain": [
       "sex         f       m\n",
       "categ                \n",
       "0.0    206220  209460\n",
       "1.0    114899  112270\n",
       "2.0     17283   19200"
      ]
     },
     "execution_count": 82,
     "metadata": {},
     "output_type": "execute_result"
    }
   ],
   "source": [
    "# Tri croisé\n",
    "#data.pivot_table(index=\"categ\",columns=\"sex\",aggfunc=len)\n",
    "count_data = pd.crosstab(datafinal['categ'],datafinal['sex'],margins=False)\n",
    "count_data"
   ]
  },
  {
   "cell_type": "code",
   "execution_count": 83,
   "id": "2ee60ac2",
   "metadata": {},
   "outputs": [
    {
     "data": {
      "text/html": [
       "<div>\n",
       "<style scoped>\n",
       "    .dataframe tbody tr th:only-of-type {\n",
       "        vertical-align: middle;\n",
       "    }\n",
       "\n",
       "    .dataframe tbody tr th {\n",
       "        vertical-align: top;\n",
       "    }\n",
       "\n",
       "    .dataframe thead th {\n",
       "        text-align: right;\n",
       "    }\n",
       "</style>\n",
       "<table border=\"1\" class=\"dataframe\">\n",
       "  <thead>\n",
       "    <tr style=\"text-align: right;\">\n",
       "      <th>categ</th>\n",
       "      <th>0.0</th>\n",
       "      <th>1.0</th>\n",
       "      <th>2.0</th>\n",
       "      <th>Total</th>\n",
       "    </tr>\n",
       "    <tr>\n",
       "      <th>sex</th>\n",
       "      <th></th>\n",
       "      <th></th>\n",
       "      <th></th>\n",
       "      <th></th>\n",
       "    </tr>\n",
       "  </thead>\n",
       "  <tbody>\n",
       "    <tr>\n",
       "      <th>f</th>\n",
       "      <td>206220</td>\n",
       "      <td>114899</td>\n",
       "      <td>17283</td>\n",
       "      <td>338402</td>\n",
       "    </tr>\n",
       "    <tr>\n",
       "      <th>m</th>\n",
       "      <td>209460</td>\n",
       "      <td>112270</td>\n",
       "      <td>19200</td>\n",
       "      <td>340930</td>\n",
       "    </tr>\n",
       "    <tr>\n",
       "      <th>Total</th>\n",
       "      <td>415680</td>\n",
       "      <td>227169</td>\n",
       "      <td>36483</td>\n",
       "      <td>679332</td>\n",
       "    </tr>\n",
       "  </tbody>\n",
       "</table>\n",
       "</div>"
      ],
      "text/plain": [
       "categ     0.0     1.0    2.0   Total\n",
       "sex                                 \n",
       "f      206220  114899  17283  338402\n",
       "m      209460  112270  19200  340930\n",
       "Total  415680  227169  36483  679332"
      ]
     },
     "execution_count": 83,
     "metadata": {},
     "output_type": "execute_result"
    }
   ],
   "source": [
    "# Tableau de contingence\n",
    "Y = \"categ\"\n",
    "X = \"sex\"\n",
    "\n",
    "count = data[[X,Y]].pivot_table(index=X,columns=Y,aggfunc=len,margins=True,margins_name=\"Total\")\n",
    "count"
   ]
  },
  {
   "cell_type": "code",
   "execution_count": 84,
   "id": "936a3c96",
   "metadata": {
    "scrolled": false
   },
   "outputs": [
    {
     "data": {
      "image/png": "[encoded data removed]",
      "text/plain": [
       "<Figure size 1080x504 with 1 Axes>"
      ]
     },
     "metadata": {
      "needs_background": "light"
     },
     "output_type": "display_data"
    },
    {
     "data": {
      "image/png": "[encoded data removed]",
      "text/plain": [
       "<Figure size 936x576 with 2 Axes>"
      ]
     },
     "metadata": {
      "needs_background": "light"
     },
     "output_type": "display_data"
    }
   ],
   "source": [
    "# Représentation graphique (en barre)\n",
    "count_data.plot(kind=\"bar\",figsize=(15,7))\n",
    "plt.grid()\n",
    "plt.title(\"Genre des clients par rapport à la catégorie de livres achetés\", fontname='Serif', fontsize=18)\n",
    "plt.show()\n",
    "\n",
    "\n",
    "# Représentation heatmap (Carte de chaleur)\n",
    "plt.figure(figsize=(13,8))\n",
    "\n",
    "tx = count.loc[:,[\"Total\"]]\n",
    "ty = count.loc[[\"Total\"],:]\n",
    "n = len(datafinal)\n",
    "indep = tx.dot(ty) / n\n",
    "\n",
    "c = count.fillna(0) # On remplace les valeurs nulles par 0\n",
    "measure = (c-indep)**2/indep\n",
    "xi_n = measure.sum().sum()\n",
    "table = measure/xi_n\n",
    "sns.heatmap(table.iloc[:-1,:-1],annot=c.iloc[:-1,:-1])\n",
    "plt.title(\"Carte de chaleur (Heatmap)\", fontname='Serif', fontsize=18)\n",
    "plt.show()"
   ]
  },
  {
   "cell_type": "markdown",
   "id": "0cf5291b",
   "metadata": {},
   "source": [
    "### <span style='font-family:serif'><font color='darkslateblue'>*Comme il s'agit de lien entre 2 variables Qualicatives, nous allons réaliser un test d'indépendance Khi-2.* <br>"
   ]
  },
  {
   "cell_type": "code",
   "execution_count": 102,
   "id": "74040b07",
   "metadata": {},
   "outputs": [
    {
     "name": "stdout",
     "output_type": "stream",
     "text": [
      "\u001b[1m\u001b[94m\n",
      "P-Value:\u001b[91m 1.1989607410166063e-32 \u001b[94mKhi2:\u001b[91m 147.00253568681114 \n",
      "\n",
      "\u001b[1m\u001b[94mComme Pvalue est inférieur à alpha (0,05 soit 5%)\u001b[91m Rejet de l'hypothèse nulle\n"
     ]
    }
   ],
   "source": [
    "#test d'independance de chi-2: relation entre 2 variables qualitatives avec stats\n",
    "st_chi2, st_p, st_dof, st_exp = st.chi2_contingency(count_data)\n",
    "print(color.BOLD + color.BLUE +\"\\nP-Value:\"+ color.RED, st_p, color.BLUE + \"Khi2:\"+ color.RED, st_chi2, \"\\n\")\n",
    "\n",
    "alpha = 0.05\n",
    "if st_p <= alpha: \n",
    "    print(color.BOLD + color.BLUE +\"Comme Pvalue est inférieur à alpha (0,05 soit 5%)\" \n",
    "          + color.RED + \" Rejet de l'hypothèse nulle\") \n",
    "else: \n",
    "    print(color.BOLD + color.GREEN +\n",
    "          \"Comme Pvalue est supérieur à alpha (0,05 soit 5%) ,Acceptation de l'hypothese null\")"
   ]
  },
  {
   "cell_type": "markdown",
   "id": "6d8d7494",
   "metadata": {},
   "source": [
    "### <span style='font-family:serif'><font color='darkslateblue'>*Il y a donc correlation entre le genre des clients et la catégorie de livre achetés.*<br>"
   ]
  },
  {
   "cell_type": "markdown",
   "id": "47257e24",
   "metadata": {},
   "source": [
    "> ### <font color='lateorange'>***2. Le lien entre l'âge des clients et le montant total <font color='darkcyan'>(Quantives / Quantives)***"
   ]
  },
  {
   "cell_type": "markdown",
   "id": "2bf3f541",
   "metadata": {},
   "source": [
    "### <span style='font-family:serif'><font color='green'>2 variables quantitatives.<br> <font color='red'>Condition: lien linéaire, distribution normale et pas de données extrêmes.<br> <font color='green'>On peut effectuer un test de correlation linéaire Pearson. <br>"
   ]
  },
  {
   "cell_type": "code",
   "execution_count": 86,
   "id": "125b523b",
   "metadata": {},
   "outputs": [
    {
     "data": {
      "text/html": [
       "<div>\n",
       "<style scoped>\n",
       "    .dataframe tbody tr th:only-of-type {\n",
       "        vertical-align: middle;\n",
       "    }\n",
       "\n",
       "    .dataframe tbody tr th {\n",
       "        vertical-align: top;\n",
       "    }\n",
       "\n",
       "    .dataframe thead th {\n",
       "        text-align: right;\n",
       "    }\n",
       "</style>\n",
       "<table border=\"1\" class=\"dataframe\">\n",
       "  <thead>\n",
       "    <tr style=\"text-align: right;\">\n",
       "      <th></th>\n",
       "      <th>client_id</th>\n",
       "      <th>price</th>\n",
       "      <th>age</th>\n",
       "    </tr>\n",
       "  </thead>\n",
       "  <tbody>\n",
       "    <tr>\n",
       "      <th>0</th>\n",
       "      <td>c_1</td>\n",
       "      <td>558.18</td>\n",
       "      <td>68</td>\n",
       "    </tr>\n",
       "    <tr>\n",
       "      <th>1</th>\n",
       "      <td>c_10</td>\n",
       "      <td>1353.60</td>\n",
       "      <td>67</td>\n",
       "    </tr>\n",
       "    <tr>\n",
       "      <th>2</th>\n",
       "      <td>c_100</td>\n",
       "      <td>254.85</td>\n",
       "      <td>31</td>\n",
       "    </tr>\n",
       "    <tr>\n",
       "      <th>3</th>\n",
       "      <td>c_1000</td>\n",
       "      <td>2261.89</td>\n",
       "      <td>57</td>\n",
       "    </tr>\n",
       "    <tr>\n",
       "      <th>4</th>\n",
       "      <td>c_1001</td>\n",
       "      <td>1812.86</td>\n",
       "      <td>41</td>\n",
       "    </tr>\n",
       "  </tbody>\n",
       "</table>\n",
       "</div>"
      ],
      "text/plain": [
       "  client_id    price  age\n",
       "0       c_1   558.18   68\n",
       "1      c_10  1353.60   67\n",
       "2     c_100   254.85   31\n",
       "3    c_1000  2261.89   57\n",
       "4    c_1001  1812.86   41"
      ]
     },
     "execution_count": 86,
     "metadata": {},
     "output_type": "execute_result"
    }
   ],
   "source": [
    "tot_ca_clt = dfa.groupby(['client_id'],as_index = False).agg({'price':sum,'age':max})\n",
    "tot_ca_clt.head()"
   ]
  },
  {
   "cell_type": "code",
   "execution_count": 87,
   "id": "f57c5b58",
   "metadata": {},
   "outputs": [
    {
     "data": {
      "image/png": "[encoded data removed]",
      "text/plain": [
       "<Figure size 1440x720 with 1 Axes>"
      ]
     },
     "metadata": {
      "needs_background": "light"
     },
     "output_type": "display_data"
    }
   ],
   "source": [
    "# Représentation graphique (regplot)\n",
    "plt.figure(figsize= (20,10))\n",
    "sns.regplot(data= tot_ca_clt, x='age',y='price')\n",
    "plt.title(\"Représentation de l'âge des clients par rapport au panier moyen\", fontname='Serif', fontsize=18)\n",
    "plt.show()"
   ]
  },
  {
   "cell_type": "markdown",
   "id": "78e0133f",
   "metadata": {},
   "source": [
    "### <span style='font-family:serif'><font color='darkcyan'>*le regplot plot est une fonction de seaborn qui génère la droite de regression. sinon la premiere idée était un scatterplot sur laquelle on trace la droite de regression. On peut affirmer une petite relation entre le montant des achats par client et leur age.*"
   ]
  },
  {
   "cell_type": "code",
   "execution_count": 88,
   "id": "91453b91",
   "metadata": {},
   "outputs": [
    {
     "name": "stdout",
     "output_type": "stream",
     "text": [
      "\u001b[1m\u001b[94m           price       age\n",
      "price  1.000000 -0.188294\n",
      "age   -0.188294  1.000000\n",
      "\u001b[1m\u001b[92mp-val: 1.964105610599107e-69\n"
     ]
    }
   ],
   "source": [
    "#matrice de correlation\n",
    "mycor = tot_ca_clt.corr()\n",
    "print(color.BOLD + color.BLUE, mycor)\n",
    "#test correlation de PEARSON: relation entre 2 variables quantitatives avec stats\n",
    "mycor, pval = st.pearsonr(tot_ca_clt['age'], tot_ca_clt['price'])\n",
    "print(color.BOLD + color.GREEN + \"p-val:\", pval)"
   ]
  },
  {
   "cell_type": "markdown",
   "id": "1b8d1ccb",
   "metadata": {},
   "source": [
    "### <span style='font-family:serif'><font color='darkslateblue'>*Le coefficient de pearson est très proche de 0, l'hypothèse nulle est donc rejeté. Il a une correlation entre les deux variables et la P-val < 0 nous confirme la relation de pente négative donc plus les personnes sont agées moins elles achetent.*"
   ]
  },
  {
   "cell_type": "markdown",
   "id": "82101a21",
   "metadata": {},
   "source": [
    "> ### <font color='lateorange'>***3. Le lien entre l'âge des clients et la fréquence d'achat <font color='darkcyan'>(Qualitatives / Quantives)***"
   ]
  },
  {
   "cell_type": "code",
   "execution_count": 89,
   "id": "f3abb4c9",
   "metadata": {},
   "outputs": [
    {
     "data": {
      "text/html": [
       "<div>\n",
       "<style scoped>\n",
       "    .dataframe tbody tr th:only-of-type {\n",
       "        vertical-align: middle;\n",
       "    }\n",
       "\n",
       "    .dataframe tbody tr th {\n",
       "        vertical-align: top;\n",
       "    }\n",
       "\n",
       "    .dataframe thead th {\n",
       "        text-align: right;\n",
       "    }\n",
       "</style>\n",
       "<table border=\"1\" class=\"dataframe\">\n",
       "  <thead>\n",
       "    <tr style=\"text-align: right;\">\n",
       "      <th></th>\n",
       "      <th>index</th>\n",
       "      <th>client_id</th>\n",
       "      <th>session_id</th>\n",
       "      <th>tranche_age</th>\n",
       "    </tr>\n",
       "  </thead>\n",
       "  <tbody>\n",
       "    <tr>\n",
       "      <th>0</th>\n",
       "      <td>0</td>\n",
       "      <td>c_1</td>\n",
       "      <td>39</td>\n",
       "      <td>60+</td>\n",
       "    </tr>\n",
       "    <tr>\n",
       "      <th>1</th>\n",
       "      <td>1</td>\n",
       "      <td>c_10</td>\n",
       "      <td>58</td>\n",
       "      <td>60+</td>\n",
       "    </tr>\n",
       "    <tr>\n",
       "      <th>2</th>\n",
       "      <td>2</td>\n",
       "      <td>c_100</td>\n",
       "      <td>8</td>\n",
       "      <td>NaN</td>\n",
       "    </tr>\n",
       "    <tr>\n",
       "      <th>3</th>\n",
       "      <td>3</td>\n",
       "      <td>c_1000</td>\n",
       "      <td>125</td>\n",
       "      <td>51-60</td>\n",
       "    </tr>\n",
       "    <tr>\n",
       "      <th>4</th>\n",
       "      <td>4</td>\n",
       "      <td>c_1001</td>\n",
       "      <td>102</td>\n",
       "      <td>NaN</td>\n",
       "    </tr>\n",
       "    <tr>\n",
       "      <th>...</th>\n",
       "      <td>...</td>\n",
       "      <td>...</td>\n",
       "      <td>...</td>\n",
       "      <td>...</td>\n",
       "    </tr>\n",
       "    <tr>\n",
       "      <th>8591</th>\n",
       "      <td>8591</td>\n",
       "      <td>c_995</td>\n",
       "      <td>14</td>\n",
       "      <td>60+</td>\n",
       "    </tr>\n",
       "    <tr>\n",
       "      <th>8592</th>\n",
       "      <td>8592</td>\n",
       "      <td>c_996</td>\n",
       "      <td>95</td>\n",
       "      <td>51-60</td>\n",
       "    </tr>\n",
       "    <tr>\n",
       "      <th>8593</th>\n",
       "      <td>8593</td>\n",
       "      <td>c_997</td>\n",
       "      <td>59</td>\n",
       "      <td>21-30</td>\n",
       "    </tr>\n",
       "    <tr>\n",
       "      <th>8594</th>\n",
       "      <td>8594</td>\n",
       "      <td>c_998</td>\n",
       "      <td>53</td>\n",
       "      <td>21-30</td>\n",
       "    </tr>\n",
       "    <tr>\n",
       "      <th>8595</th>\n",
       "      <td>8595</td>\n",
       "      <td>c_999</td>\n",
       "      <td>46</td>\n",
       "      <td>51-60</td>\n",
       "    </tr>\n",
       "  </tbody>\n",
       "</table>\n",
       "<p>8596 rows × 4 columns</p>\n",
       "</div>"
      ],
      "text/plain": [
       "      index client_id  session_id tranche_age\n",
       "0         0       c_1          39         60+\n",
       "1         1      c_10          58         60+\n",
       "2         2     c_100           8         NaN\n",
       "3         3    c_1000         125       51-60\n",
       "4         4    c_1001         102         NaN\n",
       "...     ...       ...         ...         ...\n",
       "8591   8591     c_995          14         60+\n",
       "8592   8592     c_996          95       51-60\n",
       "8593   8593     c_997          59       21-30\n",
       "8594   8594     c_998          53       21-30\n",
       "8595   8595     c_999          46       51-60\n",
       "\n",
       "[8596 rows x 4 columns]"
      ]
     },
     "execution_count": 89,
     "metadata": {},
     "output_type": "execute_result"
    }
   ],
   "source": [
    "#creation df compte du nb d'achat par client\n",
    "df_client_freq_achat = dfa[['client_id', 'session_id']].groupby(by='client_id').count()\n",
    "#creation client et tranche d'age\n",
    "df_client_age = pd.DataFrame(dfa[['client_id', 'tranche_age']].drop_duplicates())\n",
    "#fusion des df sur client\n",
    "nb_achat = pd.merge(df_client_freq_achat, df_client_age, how=\"inner\", on=['client_id'])\n",
    "nb_achat.reset_index()"
   ]
  },
  {
   "cell_type": "code",
   "execution_count": 90,
   "id": "05fc771d",
   "metadata": {},
   "outputs": [
    {
     "data": {
      "image/png": "[encoded data removed]",
      "text/plain": [
       "<Figure size 1440x720 with 1 Axes>"
      ]
     },
     "metadata": {
      "needs_background": "light"
     },
     "output_type": "display_data"
    }
   ],
   "source": [
    "# Représentation Boxplot\n",
    "plt.figure(figsize=(20,10))\n",
    "sns.boxplot(x=\"tranche_age\", y=\"session_id\", data=nb_achat, showfliers=False,showmeans=True)\n",
    "plt.xlabel(\"categorie age\")\n",
    "plt.ylabel(\"Paniers\")\n",
    "plt.title(\"Fréquence d'achat\", fontname='Serif', fontsize=18)\n",
    "plt.grid()\n",
    "plt.show()"
   ]
  },
  {
   "cell_type": "code",
   "execution_count": 91,
   "id": "97a19dcd",
   "metadata": {},
   "outputs": [
    {
     "data": {
      "text/plain": [
       "ShapiroResult(statistic=0.8149591684341431, pvalue=0.0)"
      ]
     },
     "execution_count": 91,
     "metadata": {},
     "output_type": "execute_result"
    }
   ],
   "source": [
    "# Test de normalité de Shapiro\n",
    "st.shapiro(nb_achat.session_id)"
   ]
  },
  {
   "cell_type": "markdown",
   "id": "df22ee91",
   "metadata": {},
   "source": [
    "### <span style='font-family:serif'><font color='green'>*Normalité non validé donc test non paramétrique avec Kruskal.* <br>"
   ]
  },
  {
   "cell_type": "code",
   "execution_count": 92,
   "id": "4ad1e5b7",
   "metadata": {},
   "outputs": [
    {
     "data": {
      "text/html": [
       "<div>\n",
       "<style scoped>\n",
       "    .dataframe tbody tr th:only-of-type {\n",
       "        vertical-align: middle;\n",
       "    }\n",
       "\n",
       "    .dataframe tbody tr th {\n",
       "        vertical-align: top;\n",
       "    }\n",
       "\n",
       "    .dataframe thead th {\n",
       "        text-align: right;\n",
       "    }\n",
       "</style>\n",
       "<table border=\"1\" class=\"dataframe\">\n",
       "  <thead>\n",
       "    <tr style=\"text-align: right;\">\n",
       "      <th></th>\n",
       "      <th>Source</th>\n",
       "      <th>ddof1</th>\n",
       "      <th>H</th>\n",
       "      <th>p-unc</th>\n",
       "    </tr>\n",
       "  </thead>\n",
       "  <tbody>\n",
       "    <tr>\n",
       "      <th>Kruskal</th>\n",
       "      <td>tranche_age</td>\n",
       "      <td>5</td>\n",
       "      <td>2234.155787</td>\n",
       "      <td>0.0</td>\n",
       "    </tr>\n",
       "  </tbody>\n",
       "</table>\n",
       "</div>"
      ],
      "text/plain": [
       "              Source  ddof1            H  p-unc\n",
       "Kruskal  tranche_age      5  2234.155787    0.0"
      ]
     },
     "execution_count": 92,
     "metadata": {},
     "output_type": "execute_result"
    }
   ],
   "source": [
    "# Test non parametrique Kruskal-Wallis avec pingouin\n",
    "# Test kruskal avec pingouin \n",
    "pg.kruskal(dv='session_id', between='tranche_age', data=nb_achat, detailed=True)"
   ]
  },
  {
   "cell_type": "markdown",
   "id": "88e71f51",
   "metadata": {},
   "source": [
    "### <span style='font-family:serif'><font color='darkslateblue'>*Il y a correlation entre les 2 variables : le rejet de H0 affirme donc la correlation entre la categorie d'age de l'acheteur et sa frequence d'achat* <br>"
   ]
  },
  {
   "cell_type": "markdown",
   "id": "1eb6b4bd",
   "metadata": {},
   "source": [
    "> ### <font color='lateorange'>***4. Le lien entre l'âge des clients et la taille du panier moyen <font color='darkcyan'>(Quantives / Quantives)***"
   ]
  },
  {
   "cell_type": "code",
   "execution_count": 93,
   "id": "95c7a79c",
   "metadata": {},
   "outputs": [
    {
     "data": {
      "text/html": [
       "<div>\n",
       "<style scoped>\n",
       "    .dataframe tbody tr th:only-of-type {\n",
       "        vertical-align: middle;\n",
       "    }\n",
       "\n",
       "    .dataframe tbody tr th {\n",
       "        vertical-align: top;\n",
       "    }\n",
       "\n",
       "    .dataframe thead th {\n",
       "        text-align: right;\n",
       "    }\n",
       "</style>\n",
       "<table border=\"1\" class=\"dataframe\">\n",
       "  <thead>\n",
       "    <tr style=\"text-align: right;\">\n",
       "      <th></th>\n",
       "      <th>session_id</th>\n",
       "      <th>id_prod</th>\n",
       "      <th>tranche_age</th>\n",
       "    </tr>\n",
       "  </thead>\n",
       "  <tbody>\n",
       "    <tr>\n",
       "      <th>0</th>\n",
       "      <td>s_1</td>\n",
       "      <td>1</td>\n",
       "      <td>51-60</td>\n",
       "    </tr>\n",
       "    <tr>\n",
       "      <th>1</th>\n",
       "      <td>s_10</td>\n",
       "      <td>1</td>\n",
       "      <td>51-60</td>\n",
       "    </tr>\n",
       "    <tr>\n",
       "      <th>2</th>\n",
       "      <td>s_100</td>\n",
       "      <td>2</td>\n",
       "      <td>41-50</td>\n",
       "    </tr>\n",
       "    <tr>\n",
       "      <th>3</th>\n",
       "      <td>s_1000</td>\n",
       "      <td>4</td>\n",
       "      <td>31-40</td>\n",
       "    </tr>\n",
       "    <tr>\n",
       "      <th>4</th>\n",
       "      <td>s_10000</td>\n",
       "      <td>3</td>\n",
       "      <td>31-40</td>\n",
       "    </tr>\n",
       "    <tr>\n",
       "      <th>...</th>\n",
       "      <td>...</td>\n",
       "      <td>...</td>\n",
       "      <td>...</td>\n",
       "    </tr>\n",
       "    <tr>\n",
       "      <th>319269</th>\n",
       "      <td>s_99994</td>\n",
       "      <td>3</td>\n",
       "      <td>31-40</td>\n",
       "    </tr>\n",
       "    <tr>\n",
       "      <th>319270</th>\n",
       "      <td>s_99995</td>\n",
       "      <td>1</td>\n",
       "      <td>60+</td>\n",
       "    </tr>\n",
       "    <tr>\n",
       "      <th>319271</th>\n",
       "      <td>s_99996</td>\n",
       "      <td>4</td>\n",
       "      <td>41-50</td>\n",
       "    </tr>\n",
       "    <tr>\n",
       "      <th>319272</th>\n",
       "      <td>s_99997</td>\n",
       "      <td>1</td>\n",
       "      <td>41-50</td>\n",
       "    </tr>\n",
       "    <tr>\n",
       "      <th>319273</th>\n",
       "      <td>s_99998</td>\n",
       "      <td>3</td>\n",
       "      <td>41-50</td>\n",
       "    </tr>\n",
       "  </tbody>\n",
       "</table>\n",
       "<p>319274 rows × 3 columns</p>\n",
       "</div>"
      ],
      "text/plain": [
       "       session_id  id_prod tranche_age\n",
       "0             s_1        1       51-60\n",
       "1            s_10        1       51-60\n",
       "2           s_100        2       41-50\n",
       "3          s_1000        4       31-40\n",
       "4         s_10000        3       31-40\n",
       "...           ...      ...         ...\n",
       "319269    s_99994        3       31-40\n",
       "319270    s_99995        1         60+\n",
       "319271    s_99996        4       41-50\n",
       "319272    s_99997        1       41-50\n",
       "319273    s_99998        3       41-50\n",
       "\n",
       "[319274 rows x 3 columns]"
      ]
     },
     "execution_count": 93,
     "metadata": {},
     "output_type": "execute_result"
    }
   ],
   "source": [
    "#on compte le nombre de produit par panier\n",
    "panier = dfa.groupby(['session_id'],as_index=True).agg({'id_prod':'count','tranche_age':max})\n",
    "panier.reset_index()"
   ]
  },
  {
   "cell_type": "code",
   "execution_count": 94,
   "id": "be1bbecf",
   "metadata": {},
   "outputs": [
    {
     "data": {
      "image/png": "[encoded data removed]",
      "text/plain": [
       "<Figure size 1440x720 with 1 Axes>"
      ]
     },
     "metadata": {
      "needs_background": "light"
     },
     "output_type": "display_data"
    }
   ],
   "source": [
    "plt.figure(figsize= (20,10))\n",
    "sns.boxplot(x='tranche_age', y='id_prod', data= panier,showfliers = False, showmeans=True)\n",
    "plt.xlabel(\"categorie age\")\n",
    "plt.ylabel(\"Taille moyenne paniers\")\n",
    "plt.title(\"Taille moyenne du panier par rapport à la catégorie des clients\", fontname='Serif', fontsize=18)\n",
    "plt.grid()\n",
    "plt.show()"
   ]
  },
  {
   "cell_type": "markdown",
   "id": "7909f677",
   "metadata": {},
   "source": [
    "### <span style='font-family:serif'><font color='darkcyan'>Test entre  deux variables quantitatives :\n",
    "<span style='font-family:serif'><font color='green'>Pour un test entre une variable quantitative et une variable qualitative, 2 possibilités s'offrent nous: un test parametrique ou non parametrique.\n",
    "\n",
    "<span style='font-family:serif'><font color='green'>.un test parametrique est plus mais nécessite des conditions d'applications contraignantes<br>\n",
    "<span style='font-family:serif'><font color='green'>.un test non paramétrique a un champs d'application plus vaste mais le résultat est moins souvent documenté<br>\n",
    "<span style='font-family:serif'><font color='green'>Pour un test parametrique, l'anova est préconisé mais des tests sur les variables sont effectués afin de respecter les conditions suivantes:<font color='darkslateblue'>distribution normal,indépendence entre les données,pas de données extrêmes,homoscédasticité ou variances des groupes à peu pres égales,effectifs par classes à peu près égaux."
   ]
  },
  {
   "cell_type": "code",
   "execution_count": 95,
   "id": "024f34d4",
   "metadata": {},
   "outputs": [
    {
     "name": "stdout",
     "output_type": "stream",
     "text": [
      "100609.54242888503 0.0\n",
      "Statistics=100609.542, p=0.000\n",
      "\u001b[1m\u001b[91mSample does not look Gaussian (reject de H0)\n"
     ]
    }
   ],
   "source": [
    "#controle de normalité d' Agostino\n",
    "stat, p = st.normaltest(panier.id_prod,axis=0)\n",
    "print(stat, p)\n",
    "print('Statistics=%.3f, p=%.3f' % (stat, p))\n",
    "\n",
    "alpha = 0.05\n",
    "if p > alpha:\n",
    "  print(color.BOLD + color.RED +'Sample looks Gaussian (fail to reject H0)')\n",
    "else:\n",
    "  print(color.BOLD + color.RED +'Sample does not look Gaussian (reject de H0)')"
   ]
  },
  {
   "cell_type": "markdown",
   "id": "2e9eeef7",
   "metadata": {},
   "source": [
    "### <span style='font-family:serif'><font color='green'>*Les conditions de normalité n'étant pas remplis, on va donc effectuer un test non paramétrique de kruskal-Wallis afin de vérifier les condition suivantes : HO = pas de corrélation et H1 = corrélation entre âge et panier moyenne .* <br>"
   ]
  },
  {
   "cell_type": "code",
   "execution_count": 96,
   "id": "b7ffd459",
   "metadata": {
    "scrolled": true
   },
   "outputs": [
    {
     "name": "stdout",
     "output_type": "stream",
     "text": [
      "\u001b[1m\u001b[91m ['51-60' '41-50' '31-40' '60+' '21-30' nan '18-20']\n",
      "\u001b[1m\u001b[94m {'51-60': session_id\n",
      "s_1         1\n",
      "s_10        1\n",
      "s_100021    2\n",
      "s_100040    1\n",
      "s_100044    1\n",
      "           ..\n",
      "s_99929     1\n",
      "s_99944     1\n",
      "s_99969     1\n",
      "s_99977     1\n",
      "s_99981     1\n",
      "Name: id_prod, Length: 51546, dtype: int64, '41-50': session_id\n",
      "s_100       2\n",
      "s_100003    3\n",
      "s_100004    1\n",
      "s_100007    1\n",
      "s_100008    1\n",
      "           ..\n",
      "s_99983     1\n",
      "s_99989     1\n",
      "s_99996     4\n",
      "s_99997     1\n",
      "s_99998     3\n",
      "Name: id_prod, Length: 75415, dtype: int64, '31-40': session_id\n",
      "s_1000      4\n",
      "s_10000     3\n",
      "s_100000    1\n",
      "s_100011    1\n",
      "s_100015    1\n",
      "           ..\n",
      "s_99959     1\n",
      "s_99966     2\n",
      "s_9998      1\n",
      "s_9999      3\n",
      "s_99994     3\n",
      "Name: id_prod, Length: 73213, dtype: int64, '60+': session_id\n",
      "s_100005    1\n",
      "s_10003     1\n",
      "s_100030    1\n",
      "s_10004     1\n",
      "s_100046    1\n",
      "           ..\n",
      "s_99971     1\n",
      "s_99986     1\n",
      "s_99991     1\n",
      "s_99993     1\n",
      "s_99995     1\n",
      "Name: id_prod, Length: 61754, dtype: int64, '21-30': session_id\n",
      "s_100017    1\n",
      "s_10002     1\n",
      "s_100085    1\n",
      "s_100089    1\n",
      "s_100112    1\n",
      "           ..\n",
      "s_99918     2\n",
      "s_9994      2\n",
      "s_99948     1\n",
      "s_99982     1\n",
      "s_99985     2\n",
      "Name: id_prod, Length: 25206, dtype: int64, nan: Series([], Name: id_prod, dtype: int64), '18-20': session_id\n",
      "s_100056    1\n",
      "s_100057    1\n",
      "s_100084    1\n",
      "s_100087    1\n",
      "s_100148    1\n",
      "           ..\n",
      "s_99774     1\n",
      "s_99784     1\n",
      "s_99839     1\n",
      "s_99889     1\n",
      "s_9996      8\n",
      "Name: id_prod, Length: 11161, dtype: int64}\n"
     ]
    }
   ],
   "source": [
    "# les valeurs par tranche d'âge des clients\n",
    "grps = pd.unique(panier.tranche_age.values)\n",
    "print(color.BOLD + color.RED ,grps)\n",
    "d_data = {grp:panier['id_prod'][panier.tranche_age == grp] for grp in grps}\n",
    "print(color.BOLD + color.BLUE , d_data)"
   ]
  },
  {
   "cell_type": "code",
   "execution_count": 97,
   "id": "31d61412",
   "metadata": {},
   "outputs": [],
   "source": [
    "# Test non parametrique Kruskal-Wallis avec stats\n",
    "#kstat, pval = st.kruskal(d_data['18-20'], d_data['21-30'], d_data['31-40'],d_data['41-50'],d_data['51-60'],d_data['60+'])\n",
    "\n",
    "# Récupérer la p-value\n",
    "#print(color.BOLD + color.BLUE , pval) # Si pval petit (au moins inférieure à 0.05, alors on peut parler de différence significative"
   ]
  },
  {
   "cell_type": "code",
   "execution_count": 98,
   "id": "1d91a02f",
   "metadata": {},
   "outputs": [
    {
     "data": {
      "text/html": [
       "<div>\n",
       "<style scoped>\n",
       "    .dataframe tbody tr th:only-of-type {\n",
       "        vertical-align: middle;\n",
       "    }\n",
       "\n",
       "    .dataframe tbody tr th {\n",
       "        vertical-align: top;\n",
       "    }\n",
       "\n",
       "    .dataframe thead th {\n",
       "        text-align: right;\n",
       "    }\n",
       "</style>\n",
       "<table border=\"1\" class=\"dataframe\">\n",
       "  <thead>\n",
       "    <tr style=\"text-align: right;\">\n",
       "      <th></th>\n",
       "      <th>Source</th>\n",
       "      <th>ddof1</th>\n",
       "      <th>H</th>\n",
       "      <th>p-unc</th>\n",
       "    </tr>\n",
       "  </thead>\n",
       "  <tbody>\n",
       "    <tr>\n",
       "      <th>Kruskal</th>\n",
       "      <td>tranche_age</td>\n",
       "      <td>5</td>\n",
       "      <td>56722.942117</td>\n",
       "      <td>0.0</td>\n",
       "    </tr>\n",
       "  </tbody>\n",
       "</table>\n",
       "</div>"
      ],
      "text/plain": [
       "              Source  ddof1             H  p-unc\n",
       "Kruskal  tranche_age      5  56722.942117    0.0"
      ]
     },
     "execution_count": 98,
     "metadata": {},
     "output_type": "execute_result"
    }
   ],
   "source": [
    "#test kruskal avec pingouin\n",
    "import pingouin as pg\n",
    "pg.kruskal(dv='id_prod', between='tranche_age', data=panier, detailed=True)"
   ]
  },
  {
   "cell_type": "markdown",
   "id": "748cd440",
   "metadata": {},
   "source": [
    "### <span style='font-family:serif'><font color='darkslateblue'>*Pour les deux tests identiques, l'hypothèse nulle est rejeté donc il semblerait qu'il y ait bien une relation entre la quantité acheté et la tranche d'age de l'acheteur.* <br>"
   ]
  },
  {
   "cell_type": "markdown",
   "id": "30101882",
   "metadata": {},
   "source": [
    "  "
   ]
  },
  {
   "cell_type": "markdown",
   "id": "d08eacec",
   "metadata": {},
   "source": [
    "> ### <font color='lateorange'>***5. Le lien entre l'âge des clients et les catégories des livres achetés <font color='darkcyan'>(Qualitaves / Qualitatives)***"
   ]
  },
  {
   "cell_type": "markdown",
   "id": "3146bd4d",
   "metadata": {},
   "source": [
    "### <span style='font-family:serif'><font color='green'>*2 variables qualitatives donc test d'indépendance du Khi.<br> <font color='red'>Condition: pas moins de 5 valeurs par cases.* <br>"
   ]
  },
  {
   "cell_type": "code",
   "execution_count": 99,
   "id": "0f52a560",
   "metadata": {},
   "outputs": [
    {
     "data": {
      "text/html": [
       "<div>\n",
       "<style scoped>\n",
       "    .dataframe tbody tr th:only-of-type {\n",
       "        vertical-align: middle;\n",
       "    }\n",
       "\n",
       "    .dataframe tbody tr th {\n",
       "        vertical-align: top;\n",
       "    }\n",
       "\n",
       "    .dataframe thead th {\n",
       "        text-align: right;\n",
       "    }\n",
       "</style>\n",
       "<table border=\"1\" class=\"dataframe\">\n",
       "  <thead>\n",
       "    <tr style=\"text-align: right;\">\n",
       "      <th>categ</th>\n",
       "      <th>0.0</th>\n",
       "      <th>1.0</th>\n",
       "      <th>2.0</th>\n",
       "      <th>Total</th>\n",
       "    </tr>\n",
       "    <tr>\n",
       "      <th>tranche_age</th>\n",
       "      <th></th>\n",
       "      <th></th>\n",
       "      <th></th>\n",
       "      <th></th>\n",
       "    </tr>\n",
       "  </thead>\n",
       "  <tbody>\n",
       "    <tr>\n",
       "      <th>18-20</th>\n",
       "      <td>4327</td>\n",
       "      <td>7397</td>\n",
       "      <td>7796</td>\n",
       "      <td>19520</td>\n",
       "    </tr>\n",
       "    <tr>\n",
       "      <th>21-30</th>\n",
       "      <td>10110</td>\n",
       "      <td>18631</td>\n",
       "      <td>21193</td>\n",
       "      <td>49934</td>\n",
       "    </tr>\n",
       "    <tr>\n",
       "      <th>31-40</th>\n",
       "      <td>133981</td>\n",
       "      <td>41004</td>\n",
       "      <td>642</td>\n",
       "      <td>175627</td>\n",
       "    </tr>\n",
       "    <tr>\n",
       "      <th>41-50</th>\n",
       "      <td>158259</td>\n",
       "      <td>48259</td>\n",
       "      <td>674</td>\n",
       "      <td>207192</td>\n",
       "    </tr>\n",
       "    <tr>\n",
       "      <th>51-60</th>\n",
       "      <td>40050</td>\n",
       "      <td>49090</td>\n",
       "      <td>975</td>\n",
       "      <td>90115</td>\n",
       "    </tr>\n",
       "    <tr>\n",
       "      <th>60+</th>\n",
       "      <td>39338</td>\n",
       "      <td>49983</td>\n",
       "      <td>840</td>\n",
       "      <td>90161</td>\n",
       "    </tr>\n",
       "    <tr>\n",
       "      <th>Total</th>\n",
       "      <td>386065</td>\n",
       "      <td>214364</td>\n",
       "      <td>32120</td>\n",
       "      <td>632549</td>\n",
       "    </tr>\n",
       "  </tbody>\n",
       "</table>\n",
       "</div>"
      ],
      "text/plain": [
       "categ           0.0     1.0    2.0   Total\n",
       "tranche_age                               \n",
       "18-20          4327    7397   7796   19520\n",
       "21-30         10110   18631  21193   49934\n",
       "31-40        133981   41004    642  175627\n",
       "41-50        158259   48259    674  207192\n",
       "51-60         40050   49090    975   90115\n",
       "60+           39338   49983    840   90161\n",
       "Total        386065  214364  32120  632549"
      ]
     },
     "execution_count": 99,
     "metadata": {},
     "output_type": "execute_result"
    }
   ],
   "source": [
    "#tableau de contingence à travers un pivot table\n",
    "X2 = \"tranche_age\"\n",
    "Y2 = \"categ\"\n",
    "contcat = datafinal[[X2, Y2]].pivot_table(index=X2, columns=Y2, aggfunc=len,margins=True,margins_name=\"Total\")\n",
    "contcat\n"
   ]
  },
  {
   "cell_type": "code",
   "execution_count": 100,
   "id": "6b6ee835",
   "metadata": {},
   "outputs": [
    {
     "data": {
      "image/png": "[encoded data removed]",
      "text/plain": [
       "<Figure size 936x576 with 2 Axes>"
      ]
     },
     "metadata": {
      "needs_background": "light"
     },
     "output_type": "display_data"
    }
   ],
   "source": [
    "# Représentation heatmap (Carte de chaleur)\n",
    "plt.figure(figsize=(13,8))\n",
    "\n",
    "tx = contcat.loc[:,[\"Total\"]]\n",
    "ty = contcat.loc[[\"Total\"],:]\n",
    "n2 = len(datafinal)\n",
    "indep2 = tx.dot(ty) / n2\n",
    "\n",
    "c2 = contcat.fillna(0) # On remplace les valeurs nulles par 0\n",
    "measure2 = (c2-indep2)**2/indep2\n",
    "xi_n2 = measure2.sum().sum()\n",
    "table2 = measure2/xi_n2\n",
    "sns.heatmap(table2.iloc[:-1,:-1],annot=c2.iloc[:-1,:-1])\n",
    "plt.title(\"Carte de chaleur (Heatmap)\", fontname='Serif', fontsize=18)\n",
    "plt.show()"
   ]
  },
  {
   "cell_type": "code",
   "execution_count": 101,
   "id": "32e2ac11",
   "metadata": {},
   "outputs": [
    {
     "name": "stdout",
     "output_type": "stream",
     "text": [
      "\n",
      " P-Value: 0.0 Khi2: 284969.7680623947 \n",
      "\n",
      "\u001b[1m\u001b[94mComme Pvalue est inférieur à alpha (0,05 soit 5%)\u001b[91m Rejet de l'hypothèse nulle\n"
     ]
    }
   ],
   "source": [
    "#test d'independance de chi-2: relation entre 2 variables qualitatives avec stats\n",
    "st_chi2, st_p, st_dof, st_exp = st.chi2_contingency(contcat)\n",
    "print(\"\\n\", 'P-Value:', st_p, 'Khi2:', st_chi2, \"\\n\")\n",
    "\n",
    "alpha = 0.05\n",
    "if st_p <= alpha: \n",
    "    print(color.BOLD + color.BLUE +\"Comme Pvalue est inférieur à alpha (0,05 soit 5%)\" \n",
    "          + color.RED + \" Rejet de l'hypothèse nulle\") \n",
    "else: \n",
    "    print(color.BOLD + color.GREEN +\n",
    "          \"Comme Pvalue est supérieur à alpha (0,05 soit 5%) ,Acceptation de l'hypothese null\")"
   ]
  },
  {
   "cell_type": "markdown",
   "id": "44a9a9af",
   "metadata": {},
   "source": [
    "### <span style='font-family:serif'><font color='darkslateblue'>*Il y a correlation entre l'âge des clients (tranche d'âge) et la catégorie de livre achetés.*<br><br>"
   ]
  },
  {
   "cell_type": "markdown",
   "id": "a2487f4f",
   "metadata": {},
   "source": [
    "## <span style='font-family:serif'><font color='darkcyan'><span style='background:cyan'>*CONCLUSIONS ET OBSERVATIONS*"
   ]
  },
  {
   "cell_type": "markdown",
   "id": "91fe1b0e",
   "metadata": {},
   "source": [
    "## <span style='font-family:serif'><font color='darkslateblue'>*Il peut être intéressant de se pencher sur les achats de produits groupés en proposant des offres un peu plus incitatives.*<br><br><span style='font-family:serif'><font color='darkslateblue'>*Il faudrait évaluer le bénéfice potentiel d’une augmentation de la proportion de produits de catégorie 2.*<br><br><span style='font-family:serif'><font color='darkslateblue'>*Puis il peut être intéressant de cibler un peu plus les clients de moins de 40 ans.*<br><br><span style='font-family:serif'><font color='darkslateblue'>*Enfin, nous devrions collecter dans nos bases de données des informations un peu plus approfondies sur les clients comme :<font color='darkcyan'> la zone géographique, date d'inscription, professions et autres<font color='darkslateblue'> et sur les produits comme :<font color='darkcyan'> date de sortie d'achats, tomes etc.*<br><br><span style='font-family:serif'><font color='darkslateblue'>*Mais on pourrait aussi comparer le comportement d'achats des clients en ligne et hors ligne en mettant un focus sur les clients qui utilisent les deux modes d'achats.*<br>"
   ]
  },
  {
   "cell_type": "markdown",
   "id": "658d4eb3",
   "metadata": {},
   "source": [
    "# <font color='white'><span style='background:darkcyan'> ***LAPAGE.END*** <span><br>"
   ]
  },
  {
   "cell_type": "code",
   "execution_count": null,
   "id": "4872330d",
   "metadata": {},
   "outputs": [],
   "source": []
  }
 ],
 "metadata": {
  "kernelspec": {
   "display_name": "Python 3 (ipykernel)",
   "language": "python",
   "name": "python3"
  },
  "language_info": {
   "codemirror_mode": {
    "name": "ipython",
    "version": 3
   },
   "file_extension": ".py",
   "mimetype": "text/x-python",
   "name": "python",
   "nbconvert_exporter": "python",
   "pygments_lexer": "ipython3",
   "version": "3.9.12"
  }
 },
 "nbformat": 4,
 "nbformat_minor": 5
}
